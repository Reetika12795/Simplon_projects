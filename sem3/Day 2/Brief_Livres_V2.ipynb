{
 "cells": [
  {
   "cell_type": "markdown",
   "id": "397cd2c3",
   "metadata": {},
   "source": [
    "## Brief Projet : \n",
    "\n",
    "Vous êtes un data analyst ,vous travaillez en bénévolat pour la médiathèque de la ville qui a mis en place un site web pour la vente de certains livres de son stock.. et elle souhaite analyser les caractéristiques sa clientèle pour mieux comprendre les tendances de leurs reservations/achats de livres. \n",
    "\n",
    "La médiathèque vous donne accès à leur site : http://books.toscrape.com/index.html. et souhaite que vous collectez/analysez leurs données.\n",
    "\n",
    "\n",
    "**Étapes du projet** :\n",
    "\n",
    "1. **Collecte de données** : \n",
    "* Utiliser la bibliothèque `requests` pour envoyer des requêtes HTTP au site web qui répertorie les livres. Vous récupérez le contenu HTML de la page web.\n",
    "\n",
    "* A l'aide de la bibliothèque `Beautiful Soup`, analyser le contenu HTML du site et extraire les informations pertinentes: parcourir le code HTML, identifier les balises cibles (qui contiennent les données sur les livres, telles que `<div>` ou `<li>` ) et extraire les informations pertinentes telles que le nom du livre, la catégorie, la note moyenne des avis, le nombre de livres en stock, le prix etc.\n",
    "\n",
    "2. **Nettoyage et préparation des données** : nettoyer les valeurs, convertir les types de données si nécessaire, gérer les valeurs manquantes, etc.\n"
   ]
  },
  {
   "cell_type": "markdown",
   "id": "2ff390a7",
   "metadata": {},
   "source": [
    "### Importer les librairies"
   ]
  },
  {
   "cell_type": "code",
   "execution_count": 3,
   "id": "31ac5e32",
   "metadata": {},
   "outputs": [],
   "source": [
    "import requests\n",
    "from bs4 import BeautifulSoup\n",
    "\n",
    "import pandas as pd\n",
    "import matplotlib.pyplot as plt\n",
    "import seaborn as sns\n"
   ]
  },
  {
   "cell_type": "markdown",
   "id": "70592e9d",
   "metadata": {},
   "source": [
    "### Collecte de données"
   ]
  },
  {
   "cell_type": "markdown",
   "id": "23062350",
   "metadata": {},
   "source": [
    "####  Récupérer les livres de la première page"
   ]
  },
  {
   "cell_type": "code",
   "execution_count": 48,
   "id": "7ff16747",
   "metadata": {},
   "outputs": [
    {
     "name": "stdout",
     "output_type": "stream",
     "text": [
      "Titre : A Light in the Attic\n",
      "Titre : Tipping the Velvet\n",
      "Titre : Soumission\n",
      "Titre : Sharp Objects\n",
      "Titre : Sapiens: A Brief History of Humankind\n",
      "Titre : The Requiem Red\n",
      "Titre : The Dirty Little Secrets of Getting Your Dream Job\n",
      "Titre : The Coming Woman: A Novel Based on the Life of the Infamous Feminist, Victoria Woodhull\n",
      "Titre : The Boys in the Boat: Nine Americans and Their Epic Quest for Gold at the 1936 Berlin Olympics\n",
      "Titre : The Black Maria\n",
      "Titre : Starving Hearts (Triangular Trade Trilogy, #1)\n",
      "Titre : Shakespeare's Sonnets\n",
      "Titre : Set Me Free\n",
      "Titre : Scott Pilgrim's Precious Little Life (Scott Pilgrim #1)\n",
      "Titre : Rip it Up and Start Again\n",
      "Titre : Our Band Could Be Your Life: Scenes from the American Indie Underground, 1981-1991\n",
      "Titre : Olio\n",
      "Titre : Mesaerion: The Best Science Fiction Stories 1800-1849\n",
      "Titre : Libertarianism for Beginners\n",
      "Titre : It's Only the Himalayas\n"
     ]
    }
   ],
   "source": [
    "# URL de la page principale\n",
    "url = \"http://books.toscrape.com/\"\n",
    "#url=\"http://books.toscrape.com/catalogue/page-1.html\"\n",
    "# Envoyer une requête GET à l'URL\n",
    "response = requests.get(url)\n",
    "\n",
    "# Vérifier si la requête s'est bien déroulée\n",
    "if response.status_code == 200:\n",
    "    # Analyser le contenu HTML de la page\n",
    "    soup = BeautifulSoup(response.content, 'html.parser')\n",
    "\n",
    "    # Trouver tous les liens de livres sur la page principale\n",
    "    book_links = soup.find_all('h3')\n",
    "\n",
    "    \n",
    "    # Parcourir les liens de livres\n",
    "    for link in book_links:\n",
    "        # Extraire le titre du livre\n",
    "        title = link.a.attrs['title']\n",
    "        print(f\"Titre : {title}\")\n",
    "      \n"
   ]
  },
  {
   "cell_type": "code",
   "execution_count": 5,
   "id": "d5f369fb",
   "metadata": {},
   "outputs": [
    {
     "name": "stdout",
     "output_type": "stream",
     "text": [
      "<h3><a href=\"catalogue/its-only-the-himalayas_981/index.html\" title=\"It's Only the Himalayas\">It's Only the Himalayas</a></h3>\n"
     ]
    }
   ],
   "source": [
    "print(link)"
   ]
  },
  {
   "cell_type": "code",
   "execution_count": 6,
   "id": "5a7c2688",
   "metadata": {},
   "outputs": [
    {
     "name": "stdout",
     "output_type": "stream",
     "text": [
      "It's Only the Himalayas\n"
     ]
    }
   ],
   "source": [
    "print(link.find('a').get('title'))"
   ]
  },
  {
   "cell_type": "code",
   "execution_count": 7,
   "id": "00f11762",
   "metadata": {},
   "outputs": [
    {
     "name": "stdout",
     "output_type": "stream",
     "text": [
      "It's Only the Himalayas\n"
     ]
    }
   ],
   "source": [
    "print(link.a.attrs['title'])"
   ]
  },
  {
   "cell_type": "code",
   "execution_count": 8,
   "id": "22c54c2d",
   "metadata": {},
   "outputs": [
    {
     "name": "stdout",
     "output_type": "stream",
     "text": [
      "It's Only the Himalayas\n"
     ]
    }
   ],
   "source": [
    "print(link.find('a').get_text())"
   ]
  },
  {
   "cell_type": "code",
   "execution_count": 9,
   "id": "33ae842a",
   "metadata": {},
   "outputs": [
    {
     "name": "stdout",
     "output_type": "stream",
     "text": [
      "20\n"
     ]
    }
   ],
   "source": [
    "print(len(book_links))\n",
    "#print(book_links)"
   ]
  },
  {
   "cell_type": "markdown",
   "id": "5efff486",
   "metadata": {},
   "source": [
    "#### Récupérer les livres de toutes les pages  "
   ]
  },
  {
   "cell_type": "code",
   "execution_count": 10,
   "id": "abfe53fa-f8e9-4950-8952-7be3d9317a80",
   "metadata": {},
   "outputs": [
    {
     "name": "stdout",
     "output_type": "stream",
     "text": [
      "[<div class=\"product_price\">\n",
      "<p class=\"price_color\">Â£51.77</p>\n",
      "<p class=\"instock availability\">\n",
      "<i class=\"icon-ok\"></i>\n",
      "    \n",
      "        In stock\n",
      "    \n",
      "</p>\n",
      "<form>\n",
      "<button class=\"btn btn-primary btn-block\" data-loading-text=\"Adding...\" type=\"submit\">Add to basket</button>\n",
      "</form>\n",
      "</div>, <div class=\"product_price\">\n",
      "<p class=\"price_color\">Â£53.74</p>\n",
      "<p class=\"instock availability\">\n",
      "<i class=\"icon-ok\"></i>\n",
      "    \n",
      "        In stock\n",
      "    \n",
      "</p>\n",
      "<form>\n",
      "<button class=\"btn btn-primary btn-block\" data-loading-text=\"Adding...\" type=\"submit\">Add to basket</button>\n",
      "</form>\n",
      "</div>, <div class=\"product_price\">\n",
      "<p class=\"price_color\">Â£50.10</p>\n",
      "<p class=\"instock availability\">\n",
      "<i class=\"icon-ok\"></i>\n",
      "    \n",
      "        In stock\n",
      "    \n",
      "</p>\n",
      "<form>\n",
      "<button class=\"btn btn-primary btn-block\" data-loading-text=\"Adding...\" type=\"submit\">Add to basket</button>\n",
      "</form>\n",
      "</div>, <div class=\"product_price\">\n",
      "<p class=\"price_color\">Â£47.82</p>\n",
      "<p class=\"instock availability\">\n",
      "<i class=\"icon-ok\"></i>\n",
      "    \n",
      "        In stock\n",
      "    \n",
      "</p>\n",
      "<form>\n",
      "<button class=\"btn btn-primary btn-block\" data-loading-text=\"Adding...\" type=\"submit\">Add to basket</button>\n",
      "</form>\n",
      "</div>, <div class=\"product_price\">\n",
      "<p class=\"price_color\">Â£54.23</p>\n",
      "<p class=\"instock availability\">\n",
      "<i class=\"icon-ok\"></i>\n",
      "    \n",
      "        In stock\n",
      "    \n",
      "</p>\n",
      "<form>\n",
      "<button class=\"btn btn-primary btn-block\" data-loading-text=\"Adding...\" type=\"submit\">Add to basket</button>\n",
      "</form>\n",
      "</div>, <div class=\"product_price\">\n",
      "<p class=\"price_color\">Â£22.65</p>\n",
      "<p class=\"instock availability\">\n",
      "<i class=\"icon-ok\"></i>\n",
      "    \n",
      "        In stock\n",
      "    \n",
      "</p>\n",
      "<form>\n",
      "<button class=\"btn btn-primary btn-block\" data-loading-text=\"Adding...\" type=\"submit\">Add to basket</button>\n",
      "</form>\n",
      "</div>, <div class=\"product_price\">\n",
      "<p class=\"price_color\">Â£33.34</p>\n",
      "<p class=\"instock availability\">\n",
      "<i class=\"icon-ok\"></i>\n",
      "    \n",
      "        In stock\n",
      "    \n",
      "</p>\n",
      "<form>\n",
      "<button class=\"btn btn-primary btn-block\" data-loading-text=\"Adding...\" type=\"submit\">Add to basket</button>\n",
      "</form>\n",
      "</div>, <div class=\"product_price\">\n",
      "<p class=\"price_color\">Â£17.93</p>\n",
      "<p class=\"instock availability\">\n",
      "<i class=\"icon-ok\"></i>\n",
      "    \n",
      "        In stock\n",
      "    \n",
      "</p>\n",
      "<form>\n",
      "<button class=\"btn btn-primary btn-block\" data-loading-text=\"Adding...\" type=\"submit\">Add to basket</button>\n",
      "</form>\n",
      "</div>, <div class=\"product_price\">\n",
      "<p class=\"price_color\">Â£22.60</p>\n",
      "<p class=\"instock availability\">\n",
      "<i class=\"icon-ok\"></i>\n",
      "    \n",
      "        In stock\n",
      "    \n",
      "</p>\n",
      "<form>\n",
      "<button class=\"btn btn-primary btn-block\" data-loading-text=\"Adding...\" type=\"submit\">Add to basket</button>\n",
      "</form>\n",
      "</div>, <div class=\"product_price\">\n",
      "<p class=\"price_color\">Â£52.15</p>\n",
      "<p class=\"instock availability\">\n",
      "<i class=\"icon-ok\"></i>\n",
      "    \n",
      "        In stock\n",
      "    \n",
      "</p>\n",
      "<form>\n",
      "<button class=\"btn btn-primary btn-block\" data-loading-text=\"Adding...\" type=\"submit\">Add to basket</button>\n",
      "</form>\n",
      "</div>, <div class=\"product_price\">\n",
      "<p class=\"price_color\">Â£13.99</p>\n",
      "<p class=\"instock availability\">\n",
      "<i class=\"icon-ok\"></i>\n",
      "    \n",
      "        In stock\n",
      "    \n",
      "</p>\n",
      "<form>\n",
      "<button class=\"btn btn-primary btn-block\" data-loading-text=\"Adding...\" type=\"submit\">Add to basket</button>\n",
      "</form>\n",
      "</div>, <div class=\"product_price\">\n",
      "<p class=\"price_color\">Â£20.66</p>\n",
      "<p class=\"instock availability\">\n",
      "<i class=\"icon-ok\"></i>\n",
      "    \n",
      "        In stock\n",
      "    \n",
      "</p>\n",
      "<form>\n",
      "<button class=\"btn btn-primary btn-block\" data-loading-text=\"Adding...\" type=\"submit\">Add to basket</button>\n",
      "</form>\n",
      "</div>, <div class=\"product_price\">\n",
      "<p class=\"price_color\">Â£17.46</p>\n",
      "<p class=\"instock availability\">\n",
      "<i class=\"icon-ok\"></i>\n",
      "    \n",
      "        In stock\n",
      "    \n",
      "</p>\n",
      "<form>\n",
      "<button class=\"btn btn-primary btn-block\" data-loading-text=\"Adding...\" type=\"submit\">Add to basket</button>\n",
      "</form>\n",
      "</div>, <div class=\"product_price\">\n",
      "<p class=\"price_color\">Â£52.29</p>\n",
      "<p class=\"instock availability\">\n",
      "<i class=\"icon-ok\"></i>\n",
      "    \n",
      "        In stock\n",
      "    \n",
      "</p>\n",
      "<form>\n",
      "<button class=\"btn btn-primary btn-block\" data-loading-text=\"Adding...\" type=\"submit\">Add to basket</button>\n",
      "</form>\n",
      "</div>, <div class=\"product_price\">\n",
      "<p class=\"price_color\">Â£35.02</p>\n",
      "<p class=\"instock availability\">\n",
      "<i class=\"icon-ok\"></i>\n",
      "    \n",
      "        In stock\n",
      "    \n",
      "</p>\n",
      "<form>\n",
      "<button class=\"btn btn-primary btn-block\" data-loading-text=\"Adding...\" type=\"submit\">Add to basket</button>\n",
      "</form>\n",
      "</div>, <div class=\"product_price\">\n",
      "<p class=\"price_color\">Â£57.25</p>\n",
      "<p class=\"instock availability\">\n",
      "<i class=\"icon-ok\"></i>\n",
      "    \n",
      "        In stock\n",
      "    \n",
      "</p>\n",
      "<form>\n",
      "<button class=\"btn btn-primary btn-block\" data-loading-text=\"Adding...\" type=\"submit\">Add to basket</button>\n",
      "</form>\n",
      "</div>, <div class=\"product_price\">\n",
      "<p class=\"price_color\">Â£23.88</p>\n",
      "<p class=\"instock availability\">\n",
      "<i class=\"icon-ok\"></i>\n",
      "    \n",
      "        In stock\n",
      "    \n",
      "</p>\n",
      "<form>\n",
      "<button class=\"btn btn-primary btn-block\" data-loading-text=\"Adding...\" type=\"submit\">Add to basket</button>\n",
      "</form>\n",
      "</div>, <div class=\"product_price\">\n",
      "<p class=\"price_color\">Â£37.59</p>\n",
      "<p class=\"instock availability\">\n",
      "<i class=\"icon-ok\"></i>\n",
      "    \n",
      "        In stock\n",
      "    \n",
      "</p>\n",
      "<form>\n",
      "<button class=\"btn btn-primary btn-block\" data-loading-text=\"Adding...\" type=\"submit\">Add to basket</button>\n",
      "</form>\n",
      "</div>, <div class=\"product_price\">\n",
      "<p class=\"price_color\">Â£51.33</p>\n",
      "<p class=\"instock availability\">\n",
      "<i class=\"icon-ok\"></i>\n",
      "    \n",
      "        In stock\n",
      "    \n",
      "</p>\n",
      "<form>\n",
      "<button class=\"btn btn-primary btn-block\" data-loading-text=\"Adding...\" type=\"submit\">Add to basket</button>\n",
      "</form>\n",
      "</div>, <div class=\"product_price\">\n",
      "<p class=\"price_color\">Â£45.17</p>\n",
      "<p class=\"instock availability\">\n",
      "<i class=\"icon-ok\"></i>\n",
      "    \n",
      "        In stock\n",
      "    \n",
      "</p>\n",
      "<form>\n",
      "<button class=\"btn btn-primary btn-block\" data-loading-text=\"Adding...\" type=\"submit\">Add to basket</button>\n",
      "</form>\n",
      "</div>]\n"
     ]
    }
   ],
   "source": [
    "url = \"http://books.toscrape.com/\"\n",
    "response = requests.get(url)\n",
    "if response.status_code == 200:\n",
    "    soup = BeautifulSoup(response.text, 'html.parser')\n",
    "    #livres = soup.find_all(class_='product_pod')\n",
    "    livres = soup.find_all('article', {'class': 'product_pod'})\n",
    "    livres_price = soup.find_all(\"div\", {'class': 'product_price'})\n",
    "    print(livres_price)"
   ]
  },
  {
   "cell_type": "code",
   "execution_count": 109,
   "id": "76c4e490",
   "metadata": {},
   "outputs": [],
   "source": [
    "\n",
    "# Fonction pour extraire les informations d'une page donnée\n",
    "def extract_book_info(page_url):\n",
    "    books=[]\n",
    "    response = requests.get(page_url)\n",
    "    if response.status_code == 200:\n",
    "        soup = BeautifulSoup(response.text, 'html.parser')\n",
    "        #livres = soup.find_all(class_='product_pod')\n",
    "        livres = soup.find_all('article', {'class': 'product_pod'})\n",
    "        #print(livres)\n",
    "        for livre in livres:\n",
    "\n",
    "            titre =  livre.h3.a.get('title')\n",
    "\n",
    "            rating = livre.p.get(\"class\")[1]\n",
    "\n",
    "            prix = livre.find(\"p\", {\"class\":\"price_color\"}).text[2:]\n",
    "\n",
    "            disponibilite = livre.find(\"p\",{\"class\": \"instock availability\"}).text.strip(\"\\n \")\n",
    "\n",
    "            books.append({'title': titre, 'rating': rating, 'price': prix,'availability': disponibilite})\n",
    "            \n",
    "            df_books=pd.DataFrame(books)\n",
    "            \n",
    "            \n",
    "    return df_books\n",
    "            \n",
    "            \n"
   ]
  },
  {
   "cell_type": "code",
   "execution_count": 110,
   "id": "a23db185",
   "metadata": {},
   "outputs": [],
   "source": [
    "p=extract_book_info('http://books.toscrape.com')"
   ]
  },
  {
   "cell_type": "code",
   "execution_count": 111,
   "id": "74881216",
   "metadata": {},
   "outputs": [
    {
     "data": {
      "text/html": [
       "<div>\n",
       "<style scoped>\n",
       "    .dataframe tbody tr th:only-of-type {\n",
       "        vertical-align: middle;\n",
       "    }\n",
       "\n",
       "    .dataframe tbody tr th {\n",
       "        vertical-align: top;\n",
       "    }\n",
       "\n",
       "    .dataframe thead th {\n",
       "        text-align: right;\n",
       "    }\n",
       "</style>\n",
       "<table border=\"1\" class=\"dataframe\">\n",
       "  <thead>\n",
       "    <tr style=\"text-align: right;\">\n",
       "      <th></th>\n",
       "      <th>title</th>\n",
       "      <th>rating</th>\n",
       "      <th>price</th>\n",
       "      <th>availability</th>\n",
       "    </tr>\n",
       "  </thead>\n",
       "  <tbody>\n",
       "    <tr>\n",
       "      <th>0</th>\n",
       "      <td>A Light in the Attic</td>\n",
       "      <td>Three</td>\n",
       "      <td>51.77</td>\n",
       "      <td>In stock</td>\n",
       "    </tr>\n",
       "    <tr>\n",
       "      <th>1</th>\n",
       "      <td>Tipping the Velvet</td>\n",
       "      <td>One</td>\n",
       "      <td>53.74</td>\n",
       "      <td>In stock</td>\n",
       "    </tr>\n",
       "    <tr>\n",
       "      <th>2</th>\n",
       "      <td>Soumission</td>\n",
       "      <td>One</td>\n",
       "      <td>50.10</td>\n",
       "      <td>In stock</td>\n",
       "    </tr>\n",
       "    <tr>\n",
       "      <th>3</th>\n",
       "      <td>Sharp Objects</td>\n",
       "      <td>Four</td>\n",
       "      <td>47.82</td>\n",
       "      <td>In stock</td>\n",
       "    </tr>\n",
       "    <tr>\n",
       "      <th>4</th>\n",
       "      <td>Sapiens: A Brief History of Humankind</td>\n",
       "      <td>Five</td>\n",
       "      <td>54.23</td>\n",
       "      <td>In stock</td>\n",
       "    </tr>\n",
       "  </tbody>\n",
       "</table>\n",
       "</div>"
      ],
      "text/plain": [
       "                                   title rating  price availability\n",
       "0                   A Light in the Attic  Three  51.77     In stock\n",
       "1                     Tipping the Velvet    One  53.74     In stock\n",
       "2                             Soumission    One  50.10     In stock\n",
       "3                          Sharp Objects   Four  47.82     In stock\n",
       "4  Sapiens: A Brief History of Humankind   Five  54.23     In stock"
      ]
     },
     "execution_count": 111,
     "metadata": {},
     "output_type": "execute_result"
    }
   ],
   "source": [
    "p.head()"
   ]
  },
  {
   "cell_type": "code",
   "execution_count": 117,
   "id": "3c6be1d9",
   "metadata": {},
   "outputs": [
    {
     "data": {
      "text/plain": [
       "(20, 4)"
      ]
     },
     "execution_count": 117,
     "metadata": {},
     "output_type": "execute_result"
    }
   ],
   "source": [
    "p.shape"
   ]
  },
  {
   "cell_type": "code",
   "execution_count": 118,
   "id": "df578950-3021-4b43-998d-f298349a7b20",
   "metadata": {},
   "outputs": [
    {
     "name": "stdout",
     "output_type": "stream",
     "text": [
      "50\n"
     ]
    }
   ],
   "source": [
    "find_pages = soup.find(\"li\", {\"class\": \"current\"})\n",
    "end_page = int(find_pages.text.strip().split(\" \" )[3])\n",
    "print(end_page)"
   ]
  },
  {
   "cell_type": "code",
   "execution_count": 119,
   "id": "6d8e5c90-71c7-4bf4-991f-df316a04982b",
   "metadata": {},
   "outputs": [],
   "source": [
    "#navigate all the pages based on URL change\n",
    "base_url = \"https://books.toscrape.com/catalogue/page-{}.html\"\n",
    "df_books_ = pd.DataFrame()\n",
    "all_books_list = []\n",
    "page_number = 1\n",
    "while page_number <= end_page:\n",
    "    page_url = base_url.format(page_number)\n",
    "    books = extract_book_info(page_url)\n",
    "    all_books_list.append(books)\n",
    "    df_books_ = pd.concat([df_books_, books], ignore_index=True)\n",
    "    page_number += 1\n"
   ]
  },
  {
   "cell_type": "code",
   "execution_count": 120,
   "id": "00a12ec9-43b2-4840-bac4-5386b9d0ab02",
   "metadata": {},
   "outputs": [
    {
     "data": {
      "text/html": [
       "<div>\n",
       "<style scoped>\n",
       "    .dataframe tbody tr th:only-of-type {\n",
       "        vertical-align: middle;\n",
       "    }\n",
       "\n",
       "    .dataframe tbody tr th {\n",
       "        vertical-align: top;\n",
       "    }\n",
       "\n",
       "    .dataframe thead th {\n",
       "        text-align: right;\n",
       "    }\n",
       "</style>\n",
       "<table border=\"1\" class=\"dataframe\">\n",
       "  <thead>\n",
       "    <tr style=\"text-align: right;\">\n",
       "      <th></th>\n",
       "      <th>title</th>\n",
       "      <th>rating</th>\n",
       "      <th>price</th>\n",
       "      <th>availability</th>\n",
       "    </tr>\n",
       "  </thead>\n",
       "  <tbody>\n",
       "    <tr>\n",
       "      <th>0</th>\n",
       "      <td>A Light in the Attic</td>\n",
       "      <td>Three</td>\n",
       "      <td>51.77</td>\n",
       "      <td>In stock</td>\n",
       "    </tr>\n",
       "    <tr>\n",
       "      <th>1</th>\n",
       "      <td>Tipping the Velvet</td>\n",
       "      <td>One</td>\n",
       "      <td>53.74</td>\n",
       "      <td>In stock</td>\n",
       "    </tr>\n",
       "    <tr>\n",
       "      <th>2</th>\n",
       "      <td>Soumission</td>\n",
       "      <td>One</td>\n",
       "      <td>50.10</td>\n",
       "      <td>In stock</td>\n",
       "    </tr>\n",
       "    <tr>\n",
       "      <th>3</th>\n",
       "      <td>Sharp Objects</td>\n",
       "      <td>Four</td>\n",
       "      <td>47.82</td>\n",
       "      <td>In stock</td>\n",
       "    </tr>\n",
       "    <tr>\n",
       "      <th>4</th>\n",
       "      <td>Sapiens: A Brief History of Humankind</td>\n",
       "      <td>Five</td>\n",
       "      <td>54.23</td>\n",
       "      <td>In stock</td>\n",
       "    </tr>\n",
       "    <tr>\n",
       "      <th>...</th>\n",
       "      <td>...</td>\n",
       "      <td>...</td>\n",
       "      <td>...</td>\n",
       "      <td>...</td>\n",
       "    </tr>\n",
       "    <tr>\n",
       "      <th>995</th>\n",
       "      <td>Alice in Wonderland (Alice's Adventures in Won...</td>\n",
       "      <td>One</td>\n",
       "      <td>55.53</td>\n",
       "      <td>In stock</td>\n",
       "    </tr>\n",
       "    <tr>\n",
       "      <th>996</th>\n",
       "      <td>Ajin: Demi-Human, Volume 1 (Ajin: Demi-Human #1)</td>\n",
       "      <td>Four</td>\n",
       "      <td>57.06</td>\n",
       "      <td>In stock</td>\n",
       "    </tr>\n",
       "    <tr>\n",
       "      <th>997</th>\n",
       "      <td>A Spy's Devotion (The Regency Spies of London #1)</td>\n",
       "      <td>Five</td>\n",
       "      <td>16.97</td>\n",
       "      <td>In stock</td>\n",
       "    </tr>\n",
       "    <tr>\n",
       "      <th>998</th>\n",
       "      <td>1st to Die (Women's Murder Club #1)</td>\n",
       "      <td>One</td>\n",
       "      <td>53.98</td>\n",
       "      <td>In stock</td>\n",
       "    </tr>\n",
       "    <tr>\n",
       "      <th>999</th>\n",
       "      <td>1,000 Places to See Before You Die</td>\n",
       "      <td>Five</td>\n",
       "      <td>26.08</td>\n",
       "      <td>In stock</td>\n",
       "    </tr>\n",
       "  </tbody>\n",
       "</table>\n",
       "<p>1000 rows × 4 columns</p>\n",
       "</div>"
      ],
      "text/plain": [
       "                                                 title rating  price  \\\n",
       "0                                 A Light in the Attic  Three  51.77   \n",
       "1                                   Tipping the Velvet    One  53.74   \n",
       "2                                           Soumission    One  50.10   \n",
       "3                                        Sharp Objects   Four  47.82   \n",
       "4                Sapiens: A Brief History of Humankind   Five  54.23   \n",
       "..                                                 ...    ...    ...   \n",
       "995  Alice in Wonderland (Alice's Adventures in Won...    One  55.53   \n",
       "996   Ajin: Demi-Human, Volume 1 (Ajin: Demi-Human #1)   Four  57.06   \n",
       "997  A Spy's Devotion (The Regency Spies of London #1)   Five  16.97   \n",
       "998                1st to Die (Women's Murder Club #1)    One  53.98   \n",
       "999                 1,000 Places to See Before You Die   Five  26.08   \n",
       "\n",
       "    availability  \n",
       "0       In stock  \n",
       "1       In stock  \n",
       "2       In stock  \n",
       "3       In stock  \n",
       "4       In stock  \n",
       "..           ...  \n",
       "995     In stock  \n",
       "996     In stock  \n",
       "997     In stock  \n",
       "998     In stock  \n",
       "999     In stock  \n",
       "\n",
       "[1000 rows x 4 columns]"
      ]
     },
     "execution_count": 120,
     "metadata": {},
     "output_type": "execute_result"
    }
   ],
   "source": [
    "df_books_ #contains all the information from all pages"
   ]
  },
  {
   "cell_type": "code",
   "execution_count": 116,
   "id": "94393dfc",
   "metadata": {},
   "outputs": [
    {
     "name": "stdout",
     "output_type": "stream",
     "text": [
      "<class 'bs4.element.ResultSet'>\n"
     ]
    },
    {
     "data": {
      "text/plain": [
       "[<li class=\"next\"><a href=\"catalogue/page-2.html\">next</a></li>]"
      ]
     },
     "execution_count": 116,
     "metadata": {},
     "output_type": "execute_result"
    }
   ],
   "source": [
    "# Une Boocle pour parcourir ttes les pages\n",
    "#TBD\n",
    "total_page = soup.find_all(\"li\", {\"class\": \"next\"})\n",
    "print(type(total_page))\n",
    "total_page"
   ]
  },
  {
   "cell_type": "code",
   "execution_count": 45,
   "id": "3212a93d",
   "metadata": {},
   "outputs": [
    {
     "data": {
      "text/plain": [
       "(1000, 4)"
      ]
     },
     "execution_count": 45,
     "metadata": {},
     "output_type": "execute_result"
    }
   ],
   "source": [
    "\n",
    "df_books_.shape"
   ]
  },
  {
   "cell_type": "code",
   "execution_count": null,
   "id": "fa28a927",
   "metadata": {},
   "outputs": [],
   "source": [
    "df_books_.head(10)"
   ]
  },
  {
   "cell_type": "code",
   "execution_count": 47,
   "id": "e3af3f96",
   "metadata": {},
   "outputs": [
    {
     "name": "stdout",
     "output_type": "stream",
     "text": [
      "All_books: <class 'list'> de  50 pages,  avec 20 livres par page\n"
     ]
    }
   ],
   "source": [
    "print('All_books:',type(all_books),'de ',len(all_books),'pages,  avec' ,all_books[0].shape[0], 'livres par page')"
   ]
  },
  {
   "cell_type": "markdown",
   "id": "5f607a78",
   "metadata": {},
   "source": [
    "#### Récupérer les livres de toutes les pages avec leurs  catégories"
   ]
  },
  {
   "cell_type": "code",
   "execution_count": 169,
   "id": "5b993277-6b71-46a3-8232-be667e52f045",
   "metadata": {},
   "outputs": [
    {
     "data": {
      "text/plain": [
       "{'Travel': 'https://books.toscrape.com/catalogue/category/books/travel_2/page-{}.html',\n",
       " 'Mystery': 'https://books.toscrape.com/catalogue/category/books/mystery_3/page-{}.html',\n",
       " 'Historical Fiction': 'https://books.toscrape.com/catalogue/category/books/historical-fiction_4/page-{}.html',\n",
       " 'Sequential Art': 'https://books.toscrape.com/catalogue/category/books/sequential-art_5/page-{}.html',\n",
       " 'Classics': 'https://books.toscrape.com/catalogue/category/books/classics_6/page-{}.html',\n",
       " 'Philosophy': 'https://books.toscrape.com/catalogue/category/books/philosophy_7/page-{}.html',\n",
       " 'Romance': 'https://books.toscrape.com/catalogue/category/books/romance_8/page-{}.html',\n",
       " 'Womens Fiction': 'https://books.toscrape.com/catalogue/category/books/womens-fiction_9/page-{}.html',\n",
       " 'Fiction': 'https://books.toscrape.com/catalogue/category/books/fiction_10/page-{}.html',\n",
       " 'Childrens': 'https://books.toscrape.com/catalogue/category/books/childrens_11/page-{}.html',\n",
       " 'Religion': 'https://books.toscrape.com/catalogue/category/books/religion_12/page-{}.html',\n",
       " 'Nonfiction': 'https://books.toscrape.com/catalogue/category/books/nonfiction_13/page-{}.html',\n",
       " 'Music': 'https://books.toscrape.com/catalogue/category/books/music_14/page-{}.html',\n",
       " 'Default': 'https://books.toscrape.com/catalogue/category/books/default_15/page-{}.html',\n",
       " 'Science Fiction': 'https://books.toscrape.com/catalogue/category/books/science-fiction_16/page-{}.html',\n",
       " 'Sports and Games': 'https://books.toscrape.com/catalogue/category/books/sports-and-games_17/page-{}.html',\n",
       " 'Add a comment': 'https://books.toscrape.com/catalogue/category/books/add-a-comment_18/page-{}.html',\n",
       " 'Fantasy': 'https://books.toscrape.com/catalogue/category/books/fantasy_19/page-{}.html',\n",
       " 'New Adult': 'https://books.toscrape.com/catalogue/category/books/new-adult_20/page-{}.html',\n",
       " 'Young Adult': 'https://books.toscrape.com/catalogue/category/books/young-adult_21/page-{}.html',\n",
       " 'Science': 'https://books.toscrape.com/catalogue/category/books/science_22/page-{}.html',\n",
       " 'Poetry': 'https://books.toscrape.com/catalogue/category/books/poetry_23/page-{}.html',\n",
       " 'Paranormal': 'https://books.toscrape.com/catalogue/category/books/paranormal_24/page-{}.html',\n",
       " 'Art': 'https://books.toscrape.com/catalogue/category/books/art_25/page-{}.html',\n",
       " 'Psychology': 'https://books.toscrape.com/catalogue/category/books/psychology_26/page-{}.html',\n",
       " 'Autobiography': 'https://books.toscrape.com/catalogue/category/books/autobiography_27/page-{}.html',\n",
       " 'Parenting': 'https://books.toscrape.com/catalogue/category/books/parenting_28/page-{}.html',\n",
       " 'Adult Fiction': 'https://books.toscrape.com/catalogue/category/books/adult-fiction_29/page-{}.html',\n",
       " 'Humor': 'https://books.toscrape.com/catalogue/category/books/humor_30/page-{}.html',\n",
       " 'Horror': 'https://books.toscrape.com/catalogue/category/books/horror_31/page-{}.html',\n",
       " 'History': 'https://books.toscrape.com/catalogue/category/books/history_32/page-{}.html',\n",
       " 'Food and Drink': 'https://books.toscrape.com/catalogue/category/books/food-and-drink_33/page-{}.html',\n",
       " 'Christian Fiction': 'https://books.toscrape.com/catalogue/category/books/christian-fiction_34/page-{}.html',\n",
       " 'Business': 'https://books.toscrape.com/catalogue/category/books/business_35/page-{}.html',\n",
       " 'Biography': 'https://books.toscrape.com/catalogue/category/books/biography_36/page-{}.html',\n",
       " 'Thriller': 'https://books.toscrape.com/catalogue/category/books/thriller_37/page-{}.html',\n",
       " 'Contemporary': 'https://books.toscrape.com/catalogue/category/books/contemporary_38/page-{}.html',\n",
       " 'Spirituality': 'https://books.toscrape.com/catalogue/category/books/spirituality_39/page-{}.html',\n",
       " 'Academic': 'https://books.toscrape.com/catalogue/category/books/academic_40/page-{}.html',\n",
       " 'Self Help': 'https://books.toscrape.com/catalogue/category/books/self-help_41/page-{}.html',\n",
       " 'Historical': 'https://books.toscrape.com/catalogue/category/books/historical_42/page-{}.html',\n",
       " 'Christian': 'https://books.toscrape.com/catalogue/category/books/christian_43/page-{}.html',\n",
       " 'Suspense': 'https://books.toscrape.com/catalogue/category/books/suspense_44/page-{}.html',\n",
       " 'Short Stories': 'https://books.toscrape.com/catalogue/category/books/short-stories_45/page-{}.html',\n",
       " 'Novels': 'https://books.toscrape.com/catalogue/category/books/novels_46/page-{}.html',\n",
       " 'Health': 'https://books.toscrape.com/catalogue/category/books/health_47/page-{}.html',\n",
       " 'Politics': 'https://books.toscrape.com/catalogue/category/books/politics_48/page-{}.html',\n",
       " 'Cultural': 'https://books.toscrape.com/catalogue/category/books/cultural_49/page-{}.html',\n",
       " 'Erotica': 'https://books.toscrape.com/catalogue/category/books/erotica_50/page-{}.html',\n",
       " 'Crime': 'https://books.toscrape.com/catalogue/category/books/crime_51/page-{}.html'}"
      ]
     },
     "execution_count": 169,
     "metadata": {},
     "output_type": "execute_result"
    }
   ],
   "source": [
    "# Function to get category URLs\n",
    "def get_category_urls():\n",
    "    base_url = \"https://books.toscrape.com/\"\n",
    "    response = requests.get(base_url)\n",
    "    soup = BeautifulSoup(response.text, 'html.parser')\n",
    "    category_section = soup.find('ul', {'class': 'nav nav-list'})\n",
    "    category_links = category_section.find_all('a')\n",
    "    category_urls = {}\n",
    "    for link in category_links:\n",
    "        category_name = link.text.strip()\n",
    "        category_url = base_url + link.get('href')\n",
    "        if category_name != 'Books':\n",
    "            category_urls[category_name] = category_url.replace('index.html', 'page-{}.html')\n",
    "    return category_urls\n",
    "\n",
    "# Get all category URLs\n",
    "category_urls = get_category_urls()\n",
    "category_urls"
   ]
  },
  {
   "cell_type": "code",
   "execution_count": 171,
   "id": "d4640e10-34fa-4458-bb2f-400306e084d5",
   "metadata": {},
   "outputs": [
    {
     "name": "stdout",
     "output_type": "stream",
     "text": [
      "None\n"
     ]
    }
   ],
   "source": [
    "page_number = 1\n",
    "response = requests.get('https://books.toscrape.com/catalogue/category/books/crime_51/index.html')\n",
    "if response.status_code == 200:\n",
    "    soup = BeautifulSoup(response.text, 'html.parser')\n",
    "    find_pages = soup.find(\"li\", {\"class\": \"current\"})\n",
    "    # end_page = int(find_pages.text.strip().split(\" \" )[3])\n",
    "print(find_pages)"
   ]
  },
  {
   "cell_type": "code",
   "execution_count": 179,
   "id": "cd1cbdb3-f444-4e04-96e2-d20eecdd736a",
   "metadata": {},
   "outputs": [
    {
     "name": "stdout",
     "output_type": "stream",
     "text": [
      "https://books.toscrape.com/catalogue/category/books/erotica_50/page-1.html\n"
     ]
    },
    {
     "ename": "UnboundLocalError",
     "evalue": "cannot access local variable 'df_books' where it is not associated with a value",
     "output_type": "error",
     "traceback": [
      "\u001b[1;31m---------------------------------------------------------------------------\u001b[0m",
      "\u001b[1;31mUnboundLocalError\u001b[0m                         Traceback (most recent call last)",
      "Cell \u001b[1;32mIn[179], line 27\u001b[0m\n\u001b[0;32m     23\u001b[0m         page_number \u001b[38;5;241m+\u001b[39m\u001b[38;5;241m=\u001b[39m \u001b[38;5;241m1\u001b[39m\n\u001b[0;32m     25\u001b[0m     \u001b[38;5;28;01mreturn\u001b[39;00m all_books_df\n\u001b[1;32m---> 27\u001b[0m df \u001b[38;5;241m=\u001b[39m \u001b[43mget_all_books_for_category\u001b[49m\u001b[43m(\u001b[49m\u001b[38;5;124;43m'\u001b[39;49m\u001b[38;5;124;43mhttps://books.toscrape.com/catalogue/category/books/erotica_50/page-\u001b[39;49m\u001b[38;5;132;43;01m{}\u001b[39;49;00m\u001b[38;5;124;43m.html\u001b[39;49m\u001b[38;5;124;43m'\u001b[39;49m\u001b[43m)\u001b[49m\n\u001b[0;32m     28\u001b[0m \u001b[38;5;28mprint\u001b[39m(df)\n",
      "Cell \u001b[1;32mIn[179], line 20\u001b[0m, in \u001b[0;36mget_all_books_for_category\u001b[1;34m(base_url)\u001b[0m\n\u001b[0;32m     18\u001b[0m \u001b[38;5;28;01mwhile\u001b[39;00m page_number \u001b[38;5;241m<\u001b[39m\u001b[38;5;241m=\u001b[39m end_page:\n\u001b[0;32m     19\u001b[0m     page_url \u001b[38;5;241m=\u001b[39m base_url\u001b[38;5;241m.\u001b[39mformat(page_number)\n\u001b[1;32m---> 20\u001b[0m     books_df \u001b[38;5;241m=\u001b[39m \u001b[43mextract_book_info\u001b[49m\u001b[43m(\u001b[49m\u001b[43mpage_url\u001b[49m\u001b[43m)\u001b[49m\n\u001b[0;32m     21\u001b[0m     all_books_df \u001b[38;5;241m=\u001b[39m pd\u001b[38;5;241m.\u001b[39mconcat([all_books_df, books_df], ignore_index\u001b[38;5;241m=\u001b[39m\u001b[38;5;28;01mTrue\u001b[39;00m)\n\u001b[0;32m     23\u001b[0m     page_number \u001b[38;5;241m+\u001b[39m\u001b[38;5;241m=\u001b[39m \u001b[38;5;241m1\u001b[39m\n",
      "Cell \u001b[1;32mIn[109], line 25\u001b[0m, in \u001b[0;36mextract_book_info\u001b[1;34m(page_url)\u001b[0m\n\u001b[0;32m     20\u001b[0m         books\u001b[38;5;241m.\u001b[39mappend({\u001b[38;5;124m'\u001b[39m\u001b[38;5;124mtitle\u001b[39m\u001b[38;5;124m'\u001b[39m: titre, \u001b[38;5;124m'\u001b[39m\u001b[38;5;124mrating\u001b[39m\u001b[38;5;124m'\u001b[39m: rating, \u001b[38;5;124m'\u001b[39m\u001b[38;5;124mprice\u001b[39m\u001b[38;5;124m'\u001b[39m: prix,\u001b[38;5;124m'\u001b[39m\u001b[38;5;124mavailability\u001b[39m\u001b[38;5;124m'\u001b[39m: disponibilite})\n\u001b[0;32m     22\u001b[0m         df_books\u001b[38;5;241m=\u001b[39mpd\u001b[38;5;241m.\u001b[39mDataFrame(books)\n\u001b[1;32m---> 25\u001b[0m \u001b[38;5;28;01mreturn\u001b[39;00m \u001b[43mdf_books\u001b[49m\n",
      "\u001b[1;31mUnboundLocalError\u001b[0m: cannot access local variable 'df_books' where it is not associated with a value"
     ]
    }
   ],
   "source": [
    "# Function to get all pages of books for a given category\n",
    "\n",
    "def get_all_books_for_category(base_url):\n",
    "    \n",
    "    all_books_df = pd.DataFrame()\n",
    "    page_number = 1\n",
    "    end_page = 1\n",
    "    page_url = base_url.format(page_number)\n",
    "    response = requests.get(page_url)\n",
    "    if response.status_code == 200:\n",
    "        soup = BeautifulSoup(response.text, 'html.parser')\n",
    "        find_pages = soup.find(\"li\", {\"class\": \"current\"})\n",
    "        if find_pages is not None:\n",
    "            end_page = int(find_pages.text.strip().split(\" \" )[3])\n",
    "        else:\n",
    "            end_page = 1\n",
    "    print(page_url)\n",
    "    while page_number <= end_page:\n",
    "        page_url = base_url.format(page_number)\n",
    "        books_df = extract_book_info(page_url)\n",
    "        all_books_df = pd.concat([all_books_df, books_df], ignore_index=True)\n",
    "        \n",
    "        page_number += 1\n",
    "        \n",
    "    return all_books_df\n",
    "\n",
    "df = get_all_books_for_category('https://books.toscrape.com/catalogue/category/books/erotica_50/page-{}.html')\n",
    "print(df)"
   ]
  },
  {
   "cell_type": "code",
   "execution_count": 167,
   "id": "94dc6b27-3437-4ff3-8835-e09e560728a0",
   "metadata": {
    "scrolled": true
   },
   "outputs": [
    {
     "name": "stdout",
     "output_type": "stream",
     "text": [
      "Empty DataFrame\n",
      "Columns: [category]\n",
      "Index: []\n",
      "Empty DataFrame\n",
      "Columns: [category]\n",
      "Index: []\n",
      "Empty DataFrame\n",
      "Columns: [category]\n",
      "Index: []\n",
      "Empty DataFrame\n",
      "Columns: [category]\n",
      "Index: []\n",
      "Empty DataFrame\n",
      "Columns: [category]\n",
      "Index: []\n",
      "Empty DataFrame\n",
      "Columns: [category]\n",
      "Index: []\n",
      "Empty DataFrame\n",
      "Columns: [category]\n",
      "Index: []\n",
      "Empty DataFrame\n",
      "Columns: [category]\n",
      "Index: []\n",
      "Empty DataFrame\n",
      "Columns: [category]\n",
      "Index: []\n",
      "Empty DataFrame\n",
      "Columns: [category]\n",
      "Index: []\n",
      "Empty DataFrame\n",
      "Columns: [category]\n",
      "Index: []\n",
      "Empty DataFrame\n",
      "Columns: [category]\n",
      "Index: []\n",
      "Empty DataFrame\n",
      "Columns: [category]\n",
      "Index: []\n",
      "Empty DataFrame\n",
      "Columns: [category]\n",
      "Index: []\n",
      "Empty DataFrame\n",
      "Columns: [category]\n",
      "Index: []\n",
      "Empty DataFrame\n",
      "Columns: [category]\n",
      "Index: []\n",
      "Empty DataFrame\n",
      "Columns: [category]\n",
      "Index: []\n",
      "Empty DataFrame\n",
      "Columns: [category]\n",
      "Index: []\n",
      "Empty DataFrame\n",
      "Columns: [category]\n",
      "Index: []\n"
     ]
    },
    {
     "ename": "KeyboardInterrupt",
     "evalue": "",
     "output_type": "error",
     "traceback": [
      "\u001b[1;31m---------------------------------------------------------------------------\u001b[0m",
      "\u001b[1;31mKeyboardInterrupt\u001b[0m                         Traceback (most recent call last)",
      "Cell \u001b[1;32mIn[167], line 4\u001b[0m\n\u001b[0;32m      2\u001b[0m all_books_df \u001b[38;5;241m=\u001b[39m pd\u001b[38;5;241m.\u001b[39mDataFrame()\n\u001b[0;32m      3\u001b[0m \u001b[38;5;28;01mfor\u001b[39;00m category, url \u001b[38;5;129;01min\u001b[39;00m category_urls\u001b[38;5;241m.\u001b[39mitems():\n\u001b[1;32m----> 4\u001b[0m     category_books_df \u001b[38;5;241m=\u001b[39m \u001b[43mget_all_books_for_category\u001b[49m\u001b[43m(\u001b[49m\u001b[43murl\u001b[49m\u001b[43m)\u001b[49m\n\u001b[0;32m      5\u001b[0m     category_books_df[\u001b[38;5;124m'\u001b[39m\u001b[38;5;124mcategory\u001b[39m\u001b[38;5;124m'\u001b[39m] \u001b[38;5;241m=\u001b[39m category  \u001b[38;5;66;03m# Add category column\u001b[39;00m\n\u001b[0;32m      6\u001b[0m     all_books_df \u001b[38;5;241m=\u001b[39m pd\u001b[38;5;241m.\u001b[39mconcat([all_books_df, category_books_df], ignore_index\u001b[38;5;241m=\u001b[39m\u001b[38;5;28;01mTrue\u001b[39;00m)\n",
      "Cell \u001b[1;32mIn[166], line 8\u001b[0m, in \u001b[0;36mget_all_books_for_category\u001b[1;34m(base_url)\u001b[0m\n\u001b[0;32m      6\u001b[0m page_number \u001b[38;5;241m=\u001b[39m \u001b[38;5;241m1\u001b[39m\n\u001b[0;32m      7\u001b[0m end_page \u001b[38;5;241m=\u001b[39m \u001b[38;5;241m0\u001b[39m\n\u001b[1;32m----> 8\u001b[0m response \u001b[38;5;241m=\u001b[39m \u001b[43mrequests\u001b[49m\u001b[38;5;241;43m.\u001b[39;49m\u001b[43mget\u001b[49m\u001b[43m(\u001b[49m\u001b[43mbase_url\u001b[49m\u001b[43m)\u001b[49m\n\u001b[0;32m      9\u001b[0m \u001b[38;5;28;01mif\u001b[39;00m response\u001b[38;5;241m.\u001b[39mstatus_code \u001b[38;5;241m==\u001b[39m \u001b[38;5;241m200\u001b[39m:\n\u001b[0;32m     10\u001b[0m     soup \u001b[38;5;241m=\u001b[39m BeautifulSoup(response\u001b[38;5;241m.\u001b[39mtext, \u001b[38;5;124m'\u001b[39m\u001b[38;5;124mhtml.parser\u001b[39m\u001b[38;5;124m'\u001b[39m)\n",
      "File \u001b[1;32m~\\torchvenv\\Lib\\site-packages\\requests\\api.py:73\u001b[0m, in \u001b[0;36mget\u001b[1;34m(url, params, **kwargs)\u001b[0m\n\u001b[0;32m     62\u001b[0m \u001b[38;5;28;01mdef\u001b[39;00m \u001b[38;5;21mget\u001b[39m(url, params\u001b[38;5;241m=\u001b[39m\u001b[38;5;28;01mNone\u001b[39;00m, \u001b[38;5;241m*\u001b[39m\u001b[38;5;241m*\u001b[39mkwargs):\n\u001b[0;32m     63\u001b[0m \u001b[38;5;250m    \u001b[39m\u001b[38;5;124mr\u001b[39m\u001b[38;5;124;03m\"\"\"Sends a GET request.\u001b[39;00m\n\u001b[0;32m     64\u001b[0m \n\u001b[0;32m     65\u001b[0m \u001b[38;5;124;03m    :param url: URL for the new :class:`Request` object.\u001b[39;00m\n\u001b[1;32m   (...)\u001b[0m\n\u001b[0;32m     70\u001b[0m \u001b[38;5;124;03m    :rtype: requests.Response\u001b[39;00m\n\u001b[0;32m     71\u001b[0m \u001b[38;5;124;03m    \"\"\"\u001b[39;00m\n\u001b[1;32m---> 73\u001b[0m     \u001b[38;5;28;01mreturn\u001b[39;00m \u001b[43mrequest\u001b[49m\u001b[43m(\u001b[49m\u001b[38;5;124;43m\"\u001b[39;49m\u001b[38;5;124;43mget\u001b[39;49m\u001b[38;5;124;43m\"\u001b[39;49m\u001b[43m,\u001b[49m\u001b[43m \u001b[49m\u001b[43murl\u001b[49m\u001b[43m,\u001b[49m\u001b[43m \u001b[49m\u001b[43mparams\u001b[49m\u001b[38;5;241;43m=\u001b[39;49m\u001b[43mparams\u001b[49m\u001b[43m,\u001b[49m\u001b[43m \u001b[49m\u001b[38;5;241;43m*\u001b[39;49m\u001b[38;5;241;43m*\u001b[39;49m\u001b[43mkwargs\u001b[49m\u001b[43m)\u001b[49m\n",
      "File \u001b[1;32m~\\torchvenv\\Lib\\site-packages\\requests\\api.py:59\u001b[0m, in \u001b[0;36mrequest\u001b[1;34m(method, url, **kwargs)\u001b[0m\n\u001b[0;32m     55\u001b[0m \u001b[38;5;66;03m# By using the 'with' statement we are sure the session is closed, thus we\u001b[39;00m\n\u001b[0;32m     56\u001b[0m \u001b[38;5;66;03m# avoid leaving sockets open which can trigger a ResourceWarning in some\u001b[39;00m\n\u001b[0;32m     57\u001b[0m \u001b[38;5;66;03m# cases, and look like a memory leak in others.\u001b[39;00m\n\u001b[0;32m     58\u001b[0m \u001b[38;5;28;01mwith\u001b[39;00m sessions\u001b[38;5;241m.\u001b[39mSession() \u001b[38;5;28;01mas\u001b[39;00m session:\n\u001b[1;32m---> 59\u001b[0m     \u001b[38;5;28;01mreturn\u001b[39;00m \u001b[43msession\u001b[49m\u001b[38;5;241;43m.\u001b[39;49m\u001b[43mrequest\u001b[49m\u001b[43m(\u001b[49m\u001b[43mmethod\u001b[49m\u001b[38;5;241;43m=\u001b[39;49m\u001b[43mmethod\u001b[49m\u001b[43m,\u001b[49m\u001b[43m \u001b[49m\u001b[43murl\u001b[49m\u001b[38;5;241;43m=\u001b[39;49m\u001b[43murl\u001b[49m\u001b[43m,\u001b[49m\u001b[43m \u001b[49m\u001b[38;5;241;43m*\u001b[39;49m\u001b[38;5;241;43m*\u001b[39;49m\u001b[43mkwargs\u001b[49m\u001b[43m)\u001b[49m\n",
      "File \u001b[1;32m~\\torchvenv\\Lib\\site-packages\\requests\\sessions.py:589\u001b[0m, in \u001b[0;36mSession.request\u001b[1;34m(self, method, url, params, data, headers, cookies, files, auth, timeout, allow_redirects, proxies, hooks, stream, verify, cert, json)\u001b[0m\n\u001b[0;32m    584\u001b[0m send_kwargs \u001b[38;5;241m=\u001b[39m {\n\u001b[0;32m    585\u001b[0m     \u001b[38;5;124m\"\u001b[39m\u001b[38;5;124mtimeout\u001b[39m\u001b[38;5;124m\"\u001b[39m: timeout,\n\u001b[0;32m    586\u001b[0m     \u001b[38;5;124m\"\u001b[39m\u001b[38;5;124mallow_redirects\u001b[39m\u001b[38;5;124m\"\u001b[39m: allow_redirects,\n\u001b[0;32m    587\u001b[0m }\n\u001b[0;32m    588\u001b[0m send_kwargs\u001b[38;5;241m.\u001b[39mupdate(settings)\n\u001b[1;32m--> 589\u001b[0m resp \u001b[38;5;241m=\u001b[39m \u001b[38;5;28;43mself\u001b[39;49m\u001b[38;5;241;43m.\u001b[39;49m\u001b[43msend\u001b[49m\u001b[43m(\u001b[49m\u001b[43mprep\u001b[49m\u001b[43m,\u001b[49m\u001b[43m \u001b[49m\u001b[38;5;241;43m*\u001b[39;49m\u001b[38;5;241;43m*\u001b[39;49m\u001b[43msend_kwargs\u001b[49m\u001b[43m)\u001b[49m\n\u001b[0;32m    591\u001b[0m \u001b[38;5;28;01mreturn\u001b[39;00m resp\n",
      "File \u001b[1;32m~\\torchvenv\\Lib\\site-packages\\requests\\sessions.py:703\u001b[0m, in \u001b[0;36mSession.send\u001b[1;34m(self, request, **kwargs)\u001b[0m\n\u001b[0;32m    700\u001b[0m start \u001b[38;5;241m=\u001b[39m preferred_clock()\n\u001b[0;32m    702\u001b[0m \u001b[38;5;66;03m# Send the request\u001b[39;00m\n\u001b[1;32m--> 703\u001b[0m r \u001b[38;5;241m=\u001b[39m \u001b[43madapter\u001b[49m\u001b[38;5;241;43m.\u001b[39;49m\u001b[43msend\u001b[49m\u001b[43m(\u001b[49m\u001b[43mrequest\u001b[49m\u001b[43m,\u001b[49m\u001b[43m \u001b[49m\u001b[38;5;241;43m*\u001b[39;49m\u001b[38;5;241;43m*\u001b[39;49m\u001b[43mkwargs\u001b[49m\u001b[43m)\u001b[49m\n\u001b[0;32m    705\u001b[0m \u001b[38;5;66;03m# Total elapsed time of the request (approximately)\u001b[39;00m\n\u001b[0;32m    706\u001b[0m elapsed \u001b[38;5;241m=\u001b[39m preferred_clock() \u001b[38;5;241m-\u001b[39m start\n",
      "File \u001b[1;32m~\\torchvenv\\Lib\\site-packages\\requests\\adapters.py:486\u001b[0m, in \u001b[0;36mHTTPAdapter.send\u001b[1;34m(self, request, stream, timeout, verify, cert, proxies)\u001b[0m\n\u001b[0;32m    483\u001b[0m     timeout \u001b[38;5;241m=\u001b[39m TimeoutSauce(connect\u001b[38;5;241m=\u001b[39mtimeout, read\u001b[38;5;241m=\u001b[39mtimeout)\n\u001b[0;32m    485\u001b[0m \u001b[38;5;28;01mtry\u001b[39;00m:\n\u001b[1;32m--> 486\u001b[0m     resp \u001b[38;5;241m=\u001b[39m \u001b[43mconn\u001b[49m\u001b[38;5;241;43m.\u001b[39;49m\u001b[43murlopen\u001b[49m\u001b[43m(\u001b[49m\n\u001b[0;32m    487\u001b[0m \u001b[43m        \u001b[49m\u001b[43mmethod\u001b[49m\u001b[38;5;241;43m=\u001b[39;49m\u001b[43mrequest\u001b[49m\u001b[38;5;241;43m.\u001b[39;49m\u001b[43mmethod\u001b[49m\u001b[43m,\u001b[49m\n\u001b[0;32m    488\u001b[0m \u001b[43m        \u001b[49m\u001b[43murl\u001b[49m\u001b[38;5;241;43m=\u001b[39;49m\u001b[43murl\u001b[49m\u001b[43m,\u001b[49m\n\u001b[0;32m    489\u001b[0m \u001b[43m        \u001b[49m\u001b[43mbody\u001b[49m\u001b[38;5;241;43m=\u001b[39;49m\u001b[43mrequest\u001b[49m\u001b[38;5;241;43m.\u001b[39;49m\u001b[43mbody\u001b[49m\u001b[43m,\u001b[49m\n\u001b[0;32m    490\u001b[0m \u001b[43m        \u001b[49m\u001b[43mheaders\u001b[49m\u001b[38;5;241;43m=\u001b[39;49m\u001b[43mrequest\u001b[49m\u001b[38;5;241;43m.\u001b[39;49m\u001b[43mheaders\u001b[49m\u001b[43m,\u001b[49m\n\u001b[0;32m    491\u001b[0m \u001b[43m        \u001b[49m\u001b[43mredirect\u001b[49m\u001b[38;5;241;43m=\u001b[39;49m\u001b[38;5;28;43;01mFalse\u001b[39;49;00m\u001b[43m,\u001b[49m\n\u001b[0;32m    492\u001b[0m \u001b[43m        \u001b[49m\u001b[43massert_same_host\u001b[49m\u001b[38;5;241;43m=\u001b[39;49m\u001b[38;5;28;43;01mFalse\u001b[39;49;00m\u001b[43m,\u001b[49m\n\u001b[0;32m    493\u001b[0m \u001b[43m        \u001b[49m\u001b[43mpreload_content\u001b[49m\u001b[38;5;241;43m=\u001b[39;49m\u001b[38;5;28;43;01mFalse\u001b[39;49;00m\u001b[43m,\u001b[49m\n\u001b[0;32m    494\u001b[0m \u001b[43m        \u001b[49m\u001b[43mdecode_content\u001b[49m\u001b[38;5;241;43m=\u001b[39;49m\u001b[38;5;28;43;01mFalse\u001b[39;49;00m\u001b[43m,\u001b[49m\n\u001b[0;32m    495\u001b[0m \u001b[43m        \u001b[49m\u001b[43mretries\u001b[49m\u001b[38;5;241;43m=\u001b[39;49m\u001b[38;5;28;43mself\u001b[39;49m\u001b[38;5;241;43m.\u001b[39;49m\u001b[43mmax_retries\u001b[49m\u001b[43m,\u001b[49m\n\u001b[0;32m    496\u001b[0m \u001b[43m        \u001b[49m\u001b[43mtimeout\u001b[49m\u001b[38;5;241;43m=\u001b[39;49m\u001b[43mtimeout\u001b[49m\u001b[43m,\u001b[49m\n\u001b[0;32m    497\u001b[0m \u001b[43m        \u001b[49m\u001b[43mchunked\u001b[49m\u001b[38;5;241;43m=\u001b[39;49m\u001b[43mchunked\u001b[49m\u001b[43m,\u001b[49m\n\u001b[0;32m    498\u001b[0m \u001b[43m    \u001b[49m\u001b[43m)\u001b[49m\n\u001b[0;32m    500\u001b[0m \u001b[38;5;28;01mexcept\u001b[39;00m (ProtocolError, \u001b[38;5;167;01mOSError\u001b[39;00m) \u001b[38;5;28;01mas\u001b[39;00m err:\n\u001b[0;32m    501\u001b[0m     \u001b[38;5;28;01mraise\u001b[39;00m \u001b[38;5;167;01mConnectionError\u001b[39;00m(err, request\u001b[38;5;241m=\u001b[39mrequest)\n",
      "File \u001b[1;32m~\\torchvenv\\Lib\\site-packages\\urllib3\\connectionpool.py:793\u001b[0m, in \u001b[0;36mHTTPConnectionPool.urlopen\u001b[1;34m(self, method, url, body, headers, retries, redirect, assert_same_host, timeout, pool_timeout, release_conn, chunked, body_pos, preload_content, decode_content, **response_kw)\u001b[0m\n\u001b[0;32m    790\u001b[0m response_conn \u001b[38;5;241m=\u001b[39m conn \u001b[38;5;28;01mif\u001b[39;00m \u001b[38;5;129;01mnot\u001b[39;00m release_conn \u001b[38;5;28;01melse\u001b[39;00m \u001b[38;5;28;01mNone\u001b[39;00m\n\u001b[0;32m    792\u001b[0m \u001b[38;5;66;03m# Make the request on the HTTPConnection object\u001b[39;00m\n\u001b[1;32m--> 793\u001b[0m response \u001b[38;5;241m=\u001b[39m \u001b[38;5;28;43mself\u001b[39;49m\u001b[38;5;241;43m.\u001b[39;49m\u001b[43m_make_request\u001b[49m\u001b[43m(\u001b[49m\n\u001b[0;32m    794\u001b[0m \u001b[43m    \u001b[49m\u001b[43mconn\u001b[49m\u001b[43m,\u001b[49m\n\u001b[0;32m    795\u001b[0m \u001b[43m    \u001b[49m\u001b[43mmethod\u001b[49m\u001b[43m,\u001b[49m\n\u001b[0;32m    796\u001b[0m \u001b[43m    \u001b[49m\u001b[43murl\u001b[49m\u001b[43m,\u001b[49m\n\u001b[0;32m    797\u001b[0m \u001b[43m    \u001b[49m\u001b[43mtimeout\u001b[49m\u001b[38;5;241;43m=\u001b[39;49m\u001b[43mtimeout_obj\u001b[49m\u001b[43m,\u001b[49m\n\u001b[0;32m    798\u001b[0m \u001b[43m    \u001b[49m\u001b[43mbody\u001b[49m\u001b[38;5;241;43m=\u001b[39;49m\u001b[43mbody\u001b[49m\u001b[43m,\u001b[49m\n\u001b[0;32m    799\u001b[0m \u001b[43m    \u001b[49m\u001b[43mheaders\u001b[49m\u001b[38;5;241;43m=\u001b[39;49m\u001b[43mheaders\u001b[49m\u001b[43m,\u001b[49m\n\u001b[0;32m    800\u001b[0m \u001b[43m    \u001b[49m\u001b[43mchunked\u001b[49m\u001b[38;5;241;43m=\u001b[39;49m\u001b[43mchunked\u001b[49m\u001b[43m,\u001b[49m\n\u001b[0;32m    801\u001b[0m \u001b[43m    \u001b[49m\u001b[43mretries\u001b[49m\u001b[38;5;241;43m=\u001b[39;49m\u001b[43mretries\u001b[49m\u001b[43m,\u001b[49m\n\u001b[0;32m    802\u001b[0m \u001b[43m    \u001b[49m\u001b[43mresponse_conn\u001b[49m\u001b[38;5;241;43m=\u001b[39;49m\u001b[43mresponse_conn\u001b[49m\u001b[43m,\u001b[49m\n\u001b[0;32m    803\u001b[0m \u001b[43m    \u001b[49m\u001b[43mpreload_content\u001b[49m\u001b[38;5;241;43m=\u001b[39;49m\u001b[43mpreload_content\u001b[49m\u001b[43m,\u001b[49m\n\u001b[0;32m    804\u001b[0m \u001b[43m    \u001b[49m\u001b[43mdecode_content\u001b[49m\u001b[38;5;241;43m=\u001b[39;49m\u001b[43mdecode_content\u001b[49m\u001b[43m,\u001b[49m\n\u001b[0;32m    805\u001b[0m \u001b[43m    \u001b[49m\u001b[38;5;241;43m*\u001b[39;49m\u001b[38;5;241;43m*\u001b[39;49m\u001b[43mresponse_kw\u001b[49m\u001b[43m,\u001b[49m\n\u001b[0;32m    806\u001b[0m \u001b[43m\u001b[49m\u001b[43m)\u001b[49m\n\u001b[0;32m    808\u001b[0m \u001b[38;5;66;03m# Everything went great!\u001b[39;00m\n\u001b[0;32m    809\u001b[0m clean_exit \u001b[38;5;241m=\u001b[39m \u001b[38;5;28;01mTrue\u001b[39;00m\n",
      "File \u001b[1;32m~\\torchvenv\\Lib\\site-packages\\urllib3\\connectionpool.py:467\u001b[0m, in \u001b[0;36mHTTPConnectionPool._make_request\u001b[1;34m(self, conn, method, url, body, headers, retries, timeout, chunked, response_conn, preload_content, decode_content, enforce_content_length)\u001b[0m\n\u001b[0;32m    464\u001b[0m \u001b[38;5;28;01mtry\u001b[39;00m:\n\u001b[0;32m    465\u001b[0m     \u001b[38;5;66;03m# Trigger any extra validation we need to do.\u001b[39;00m\n\u001b[0;32m    466\u001b[0m     \u001b[38;5;28;01mtry\u001b[39;00m:\n\u001b[1;32m--> 467\u001b[0m         \u001b[38;5;28;43mself\u001b[39;49m\u001b[38;5;241;43m.\u001b[39;49m\u001b[43m_validate_conn\u001b[49m\u001b[43m(\u001b[49m\u001b[43mconn\u001b[49m\u001b[43m)\u001b[49m\n\u001b[0;32m    468\u001b[0m     \u001b[38;5;28;01mexcept\u001b[39;00m (SocketTimeout, BaseSSLError) \u001b[38;5;28;01mas\u001b[39;00m e:\n\u001b[0;32m    469\u001b[0m         \u001b[38;5;28mself\u001b[39m\u001b[38;5;241m.\u001b[39m_raise_timeout(err\u001b[38;5;241m=\u001b[39me, url\u001b[38;5;241m=\u001b[39murl, timeout_value\u001b[38;5;241m=\u001b[39mconn\u001b[38;5;241m.\u001b[39mtimeout)\n",
      "File \u001b[1;32m~\\torchvenv\\Lib\\site-packages\\urllib3\\connectionpool.py:1099\u001b[0m, in \u001b[0;36mHTTPSConnectionPool._validate_conn\u001b[1;34m(self, conn)\u001b[0m\n\u001b[0;32m   1097\u001b[0m \u001b[38;5;66;03m# Force connect early to allow us to validate the connection.\u001b[39;00m\n\u001b[0;32m   1098\u001b[0m \u001b[38;5;28;01mif\u001b[39;00m conn\u001b[38;5;241m.\u001b[39mis_closed:\n\u001b[1;32m-> 1099\u001b[0m     \u001b[43mconn\u001b[49m\u001b[38;5;241;43m.\u001b[39;49m\u001b[43mconnect\u001b[49m\u001b[43m(\u001b[49m\u001b[43m)\u001b[49m\n\u001b[0;32m   1101\u001b[0m \u001b[38;5;66;03m# TODO revise this, see https://github.com/urllib3/urllib3/issues/2791\u001b[39;00m\n\u001b[0;32m   1102\u001b[0m \u001b[38;5;28;01mif\u001b[39;00m \u001b[38;5;129;01mnot\u001b[39;00m conn\u001b[38;5;241m.\u001b[39mis_verified \u001b[38;5;129;01mand\u001b[39;00m \u001b[38;5;129;01mnot\u001b[39;00m conn\u001b[38;5;241m.\u001b[39mproxy_is_verified:\n",
      "File \u001b[1;32m~\\torchvenv\\Lib\\site-packages\\urllib3\\connection.py:653\u001b[0m, in \u001b[0;36mHTTPSConnection.connect\u001b[1;34m(self)\u001b[0m\n\u001b[0;32m    650\u001b[0m \u001b[38;5;66;03m# Remove trailing '.' from fqdn hostnames to allow certificate validation\u001b[39;00m\n\u001b[0;32m    651\u001b[0m server_hostname_rm_dot \u001b[38;5;241m=\u001b[39m server_hostname\u001b[38;5;241m.\u001b[39mrstrip(\u001b[38;5;124m\"\u001b[39m\u001b[38;5;124m.\u001b[39m\u001b[38;5;124m\"\u001b[39m)\n\u001b[1;32m--> 653\u001b[0m sock_and_verified \u001b[38;5;241m=\u001b[39m \u001b[43m_ssl_wrap_socket_and_match_hostname\u001b[49m\u001b[43m(\u001b[49m\n\u001b[0;32m    654\u001b[0m \u001b[43m    \u001b[49m\u001b[43msock\u001b[49m\u001b[38;5;241;43m=\u001b[39;49m\u001b[43msock\u001b[49m\u001b[43m,\u001b[49m\n\u001b[0;32m    655\u001b[0m \u001b[43m    \u001b[49m\u001b[43mcert_reqs\u001b[49m\u001b[38;5;241;43m=\u001b[39;49m\u001b[38;5;28;43mself\u001b[39;49m\u001b[38;5;241;43m.\u001b[39;49m\u001b[43mcert_reqs\u001b[49m\u001b[43m,\u001b[49m\n\u001b[0;32m    656\u001b[0m \u001b[43m    \u001b[49m\u001b[43mssl_version\u001b[49m\u001b[38;5;241;43m=\u001b[39;49m\u001b[38;5;28;43mself\u001b[39;49m\u001b[38;5;241;43m.\u001b[39;49m\u001b[43mssl_version\u001b[49m\u001b[43m,\u001b[49m\n\u001b[0;32m    657\u001b[0m \u001b[43m    \u001b[49m\u001b[43mssl_minimum_version\u001b[49m\u001b[38;5;241;43m=\u001b[39;49m\u001b[38;5;28;43mself\u001b[39;49m\u001b[38;5;241;43m.\u001b[39;49m\u001b[43mssl_minimum_version\u001b[49m\u001b[43m,\u001b[49m\n\u001b[0;32m    658\u001b[0m \u001b[43m    \u001b[49m\u001b[43mssl_maximum_version\u001b[49m\u001b[38;5;241;43m=\u001b[39;49m\u001b[38;5;28;43mself\u001b[39;49m\u001b[38;5;241;43m.\u001b[39;49m\u001b[43mssl_maximum_version\u001b[49m\u001b[43m,\u001b[49m\n\u001b[0;32m    659\u001b[0m \u001b[43m    \u001b[49m\u001b[43mca_certs\u001b[49m\u001b[38;5;241;43m=\u001b[39;49m\u001b[38;5;28;43mself\u001b[39;49m\u001b[38;5;241;43m.\u001b[39;49m\u001b[43mca_certs\u001b[49m\u001b[43m,\u001b[49m\n\u001b[0;32m    660\u001b[0m \u001b[43m    \u001b[49m\u001b[43mca_cert_dir\u001b[49m\u001b[38;5;241;43m=\u001b[39;49m\u001b[38;5;28;43mself\u001b[39;49m\u001b[38;5;241;43m.\u001b[39;49m\u001b[43mca_cert_dir\u001b[49m\u001b[43m,\u001b[49m\n\u001b[0;32m    661\u001b[0m \u001b[43m    \u001b[49m\u001b[43mca_cert_data\u001b[49m\u001b[38;5;241;43m=\u001b[39;49m\u001b[38;5;28;43mself\u001b[39;49m\u001b[38;5;241;43m.\u001b[39;49m\u001b[43mca_cert_data\u001b[49m\u001b[43m,\u001b[49m\n\u001b[0;32m    662\u001b[0m \u001b[43m    \u001b[49m\u001b[43mcert_file\u001b[49m\u001b[38;5;241;43m=\u001b[39;49m\u001b[38;5;28;43mself\u001b[39;49m\u001b[38;5;241;43m.\u001b[39;49m\u001b[43mcert_file\u001b[49m\u001b[43m,\u001b[49m\n\u001b[0;32m    663\u001b[0m \u001b[43m    \u001b[49m\u001b[43mkey_file\u001b[49m\u001b[38;5;241;43m=\u001b[39;49m\u001b[38;5;28;43mself\u001b[39;49m\u001b[38;5;241;43m.\u001b[39;49m\u001b[43mkey_file\u001b[49m\u001b[43m,\u001b[49m\n\u001b[0;32m    664\u001b[0m \u001b[43m    \u001b[49m\u001b[43mkey_password\u001b[49m\u001b[38;5;241;43m=\u001b[39;49m\u001b[38;5;28;43mself\u001b[39;49m\u001b[38;5;241;43m.\u001b[39;49m\u001b[43mkey_password\u001b[49m\u001b[43m,\u001b[49m\n\u001b[0;32m    665\u001b[0m \u001b[43m    \u001b[49m\u001b[43mserver_hostname\u001b[49m\u001b[38;5;241;43m=\u001b[39;49m\u001b[43mserver_hostname_rm_dot\u001b[49m\u001b[43m,\u001b[49m\n\u001b[0;32m    666\u001b[0m \u001b[43m    \u001b[49m\u001b[43mssl_context\u001b[49m\u001b[38;5;241;43m=\u001b[39;49m\u001b[38;5;28;43mself\u001b[39;49m\u001b[38;5;241;43m.\u001b[39;49m\u001b[43mssl_context\u001b[49m\u001b[43m,\u001b[49m\n\u001b[0;32m    667\u001b[0m \u001b[43m    \u001b[49m\u001b[43mtls_in_tls\u001b[49m\u001b[38;5;241;43m=\u001b[39;49m\u001b[43mtls_in_tls\u001b[49m\u001b[43m,\u001b[49m\n\u001b[0;32m    668\u001b[0m \u001b[43m    \u001b[49m\u001b[43massert_hostname\u001b[49m\u001b[38;5;241;43m=\u001b[39;49m\u001b[38;5;28;43mself\u001b[39;49m\u001b[38;5;241;43m.\u001b[39;49m\u001b[43massert_hostname\u001b[49m\u001b[43m,\u001b[49m\n\u001b[0;32m    669\u001b[0m \u001b[43m    \u001b[49m\u001b[43massert_fingerprint\u001b[49m\u001b[38;5;241;43m=\u001b[39;49m\u001b[38;5;28;43mself\u001b[39;49m\u001b[38;5;241;43m.\u001b[39;49m\u001b[43massert_fingerprint\u001b[49m\u001b[43m,\u001b[49m\n\u001b[0;32m    670\u001b[0m \u001b[43m\u001b[49m\u001b[43m)\u001b[49m\n\u001b[0;32m    671\u001b[0m \u001b[38;5;28mself\u001b[39m\u001b[38;5;241m.\u001b[39msock \u001b[38;5;241m=\u001b[39m sock_and_verified\u001b[38;5;241m.\u001b[39msocket\n\u001b[0;32m    673\u001b[0m \u001b[38;5;66;03m# Forwarding proxies can never have a verified target since\u001b[39;00m\n\u001b[0;32m    674\u001b[0m \u001b[38;5;66;03m# the proxy is the one doing the verification. Should instead\u001b[39;00m\n\u001b[0;32m    675\u001b[0m \u001b[38;5;66;03m# use a CONNECT tunnel in order to verify the target.\u001b[39;00m\n\u001b[0;32m    676\u001b[0m \u001b[38;5;66;03m# See: https://github.com/urllib3/urllib3/issues/3267.\u001b[39;00m\n",
      "File \u001b[1;32m~\\torchvenv\\Lib\\site-packages\\urllib3\\connection.py:806\u001b[0m, in \u001b[0;36m_ssl_wrap_socket_and_match_hostname\u001b[1;34m(sock, cert_reqs, ssl_version, ssl_minimum_version, ssl_maximum_version, cert_file, key_file, key_password, ca_certs, ca_cert_dir, ca_cert_data, assert_hostname, assert_fingerprint, server_hostname, ssl_context, tls_in_tls)\u001b[0m\n\u001b[0;32m    803\u001b[0m     \u001b[38;5;28;01mif\u001b[39;00m is_ipaddress(normalized):\n\u001b[0;32m    804\u001b[0m         server_hostname \u001b[38;5;241m=\u001b[39m normalized\n\u001b[1;32m--> 806\u001b[0m ssl_sock \u001b[38;5;241m=\u001b[39m \u001b[43mssl_wrap_socket\u001b[49m\u001b[43m(\u001b[49m\n\u001b[0;32m    807\u001b[0m \u001b[43m    \u001b[49m\u001b[43msock\u001b[49m\u001b[38;5;241;43m=\u001b[39;49m\u001b[43msock\u001b[49m\u001b[43m,\u001b[49m\n\u001b[0;32m    808\u001b[0m \u001b[43m    \u001b[49m\u001b[43mkeyfile\u001b[49m\u001b[38;5;241;43m=\u001b[39;49m\u001b[43mkey_file\u001b[49m\u001b[43m,\u001b[49m\n\u001b[0;32m    809\u001b[0m \u001b[43m    \u001b[49m\u001b[43mcertfile\u001b[49m\u001b[38;5;241;43m=\u001b[39;49m\u001b[43mcert_file\u001b[49m\u001b[43m,\u001b[49m\n\u001b[0;32m    810\u001b[0m \u001b[43m    \u001b[49m\u001b[43mkey_password\u001b[49m\u001b[38;5;241;43m=\u001b[39;49m\u001b[43mkey_password\u001b[49m\u001b[43m,\u001b[49m\n\u001b[0;32m    811\u001b[0m \u001b[43m    \u001b[49m\u001b[43mca_certs\u001b[49m\u001b[38;5;241;43m=\u001b[39;49m\u001b[43mca_certs\u001b[49m\u001b[43m,\u001b[49m\n\u001b[0;32m    812\u001b[0m \u001b[43m    \u001b[49m\u001b[43mca_cert_dir\u001b[49m\u001b[38;5;241;43m=\u001b[39;49m\u001b[43mca_cert_dir\u001b[49m\u001b[43m,\u001b[49m\n\u001b[0;32m    813\u001b[0m \u001b[43m    \u001b[49m\u001b[43mca_cert_data\u001b[49m\u001b[38;5;241;43m=\u001b[39;49m\u001b[43mca_cert_data\u001b[49m\u001b[43m,\u001b[49m\n\u001b[0;32m    814\u001b[0m \u001b[43m    \u001b[49m\u001b[43mserver_hostname\u001b[49m\u001b[38;5;241;43m=\u001b[39;49m\u001b[43mserver_hostname\u001b[49m\u001b[43m,\u001b[49m\n\u001b[0;32m    815\u001b[0m \u001b[43m    \u001b[49m\u001b[43mssl_context\u001b[49m\u001b[38;5;241;43m=\u001b[39;49m\u001b[43mcontext\u001b[49m\u001b[43m,\u001b[49m\n\u001b[0;32m    816\u001b[0m \u001b[43m    \u001b[49m\u001b[43mtls_in_tls\u001b[49m\u001b[38;5;241;43m=\u001b[39;49m\u001b[43mtls_in_tls\u001b[49m\u001b[43m,\u001b[49m\n\u001b[0;32m    817\u001b[0m \u001b[43m\u001b[49m\u001b[43m)\u001b[49m\n\u001b[0;32m    819\u001b[0m \u001b[38;5;28;01mtry\u001b[39;00m:\n\u001b[0;32m    820\u001b[0m     \u001b[38;5;28;01mif\u001b[39;00m assert_fingerprint:\n",
      "File \u001b[1;32m~\\torchvenv\\Lib\\site-packages\\urllib3\\util\\ssl_.py:440\u001b[0m, in \u001b[0;36mssl_wrap_socket\u001b[1;34m(sock, keyfile, certfile, cert_reqs, ca_certs, server_hostname, ssl_version, ciphers, ssl_context, ca_cert_dir, key_password, ca_cert_data, tls_in_tls)\u001b[0m\n\u001b[0;32m    438\u001b[0m \u001b[38;5;28;01mif\u001b[39;00m ca_certs \u001b[38;5;129;01mor\u001b[39;00m ca_cert_dir \u001b[38;5;129;01mor\u001b[39;00m ca_cert_data:\n\u001b[0;32m    439\u001b[0m     \u001b[38;5;28;01mtry\u001b[39;00m:\n\u001b[1;32m--> 440\u001b[0m         \u001b[43mcontext\u001b[49m\u001b[38;5;241;43m.\u001b[39;49m\u001b[43mload_verify_locations\u001b[49m\u001b[43m(\u001b[49m\u001b[43mca_certs\u001b[49m\u001b[43m,\u001b[49m\u001b[43m \u001b[49m\u001b[43mca_cert_dir\u001b[49m\u001b[43m,\u001b[49m\u001b[43m \u001b[49m\u001b[43mca_cert_data\u001b[49m\u001b[43m)\u001b[49m\n\u001b[0;32m    441\u001b[0m     \u001b[38;5;28;01mexcept\u001b[39;00m \u001b[38;5;167;01mOSError\u001b[39;00m \u001b[38;5;28;01mas\u001b[39;00m e:\n\u001b[0;32m    442\u001b[0m         \u001b[38;5;28;01mraise\u001b[39;00m SSLError(e) \u001b[38;5;28;01mfrom\u001b[39;00m \u001b[38;5;21;01me\u001b[39;00m\n",
      "\u001b[1;31mKeyboardInterrupt\u001b[0m: "
     ]
    }
   ],
   "source": [
    "# Extract book information from all categories\n",
    "all_books_df = pd.DataFrame()\n",
    "for category, url in category_urls.items():\n",
    "    category_books_df = get_all_books_for_category(url)\n",
    "    category_books_df['category'] = category  # Add category column\n",
    "    all_books_df = pd.concat([all_books_df, category_books_df], ignore_index=True)\n",
    "    print(all_books_df)"
   ]
  },
  {
   "cell_type": "code",
   "execution_count": 168,
   "id": "9af891e6-c3d0-422d-9546-9e3eaa95073c",
   "metadata": {},
   "outputs": [
    {
     "data": {
      "text/html": [
       "<div>\n",
       "<style scoped>\n",
       "    .dataframe tbody tr th:only-of-type {\n",
       "        vertical-align: middle;\n",
       "    }\n",
       "\n",
       "    .dataframe tbody tr th {\n",
       "        vertical-align: top;\n",
       "    }\n",
       "\n",
       "    .dataframe thead th {\n",
       "        text-align: right;\n",
       "    }\n",
       "</style>\n",
       "<table border=\"1\" class=\"dataframe\">\n",
       "  <thead>\n",
       "    <tr style=\"text-align: right;\">\n",
       "      <th></th>\n",
       "      <th>category</th>\n",
       "    </tr>\n",
       "  </thead>\n",
       "  <tbody>\n",
       "  </tbody>\n",
       "</table>\n",
       "</div>"
      ],
      "text/plain": [
       "Empty DataFrame\n",
       "Columns: [category]\n",
       "Index: []"
      ]
     },
     "execution_count": 168,
     "metadata": {},
     "output_type": "execute_result"
    }
   ],
   "source": [
    "# Filter rows where the category is \"Travel\"\n",
    "travel_books_df = all_books_df[all_books_df['category'] == 'crime']\n",
    "travel_books_df"
   ]
  },
  {
   "cell_type": "code",
   "execution_count": 148,
   "id": "844368f9-ae96-4f47-9946-7e411985d261",
   "metadata": {},
   "outputs": [
    {
     "name": "stdout",
     "output_type": "stream",
     "text": [
      "category\n",
      "Default               160\n",
      "Nonfiction            120\n",
      "Add a comment          80\n",
      "Sequential Art         80\n",
      "Fiction                80\n",
      "Fantasy                60\n",
      "Young Adult            60\n",
      "Food and Drink         40\n",
      "Mystery                40\n",
      "Childrens              40\n",
      "Romance                40\n",
      "Historical Fiction     40\n",
      "Poetry                 19\n",
      "Classics               19\n",
      "History                18\n",
      "Womens Fiction         17\n",
      "Horror                 17\n",
      "Science Fiction        16\n",
      "Science                14\n",
      "Music                  13\n",
      "Business               12\n",
      "Travel                 11\n",
      "Thriller               11\n",
      "Philosophy             11\n",
      "Humor                  10\n",
      "Autobiography           9\n",
      "Art                     8\n",
      "Religion                7\n",
      "Psychology              7\n",
      "Spirituality            6\n",
      "New Adult               6\n",
      "Christian Fiction       6\n",
      "Self Help               5\n",
      "Sports and Games        5\n",
      "Biography               5\n",
      "Health                  4\n",
      "Contemporary            3\n",
      "Christian               3\n",
      "Politics                3\n",
      "Historical              2\n",
      "Novels                  1\n",
      "Cultural                1\n",
      "Erotica                 1\n",
      "Parenting               1\n",
      "Academic                1\n",
      "Short Stories           1\n",
      "Suspense                1\n",
      "Adult Fiction           1\n",
      "Paranormal              1\n",
      "Crime                   1\n",
      "Name: count, dtype: int64\n"
     ]
    }
   ],
   "source": [
    "print(all_books_df[\"category\"].value_counts())"
   ]
  },
  {
   "cell_type": "code",
   "execution_count": 271,
   "id": "53b5e9a3",
   "metadata": {},
   "outputs": [
    {
     "name": "stdout",
     "output_type": "stream",
     "text": [
      "51 categories \n",
      " répartie comme suit:               category  nb_books\n",
      "0                Books      1020\n",
      "1               Travel        11\n",
      "2              Mystery        52\n",
      "3   Historical Fiction        46\n",
      "4       Sequential Art        95\n",
      "5             Classics        19\n",
      "6           Philosophy        11\n",
      "7              Romance        55\n",
      "8       Womens Fiction        17\n",
      "9              Fiction        85\n",
      "10           Childrens        49\n",
      "11            Religion         7\n",
      "12          Nonfiction       130\n",
      "13               Music        13\n",
      "14             Default       172\n",
      "15     Science Fiction        16\n",
      "16    Sports and Games         5\n",
      "17       Add a comment        87\n",
      "18             Fantasy        68\n",
      "19           New Adult         6\n",
      "20         Young Adult        74\n",
      "21             Science        14\n",
      "22              Poetry        19\n",
      "23          Paranormal         1\n",
      "24                 Art         8\n",
      "25          Psychology         7\n",
      "26       Autobiography         9\n",
      "27           Parenting         1\n",
      "28       Adult Fiction         1\n",
      "29               Humor        10\n",
      "30              Horror        17\n",
      "31             History        18\n",
      "32      Food and Drink        50\n",
      "33   Christian Fiction         6\n",
      "34            Business        12\n",
      "35           Biography         5\n",
      "36            Thriller        11\n",
      "37        Contemporary         3\n",
      "38        Spirituality         6\n",
      "39            Academic         1\n",
      "40           Self Help         5\n",
      "41          Historical         2\n",
      "42           Christian         3\n",
      "43            Suspense         1\n",
      "44       Short Stories         1\n",
      "45              Novels         1\n",
      "46              Health         4\n",
      "47            Politics         3\n",
      "48            Cultural         1\n",
      "49             Erotica         1\n",
      "50               Crime         1\n"
     ]
    }
   ],
   "source": [
    "print(len(categories), 'categories \\n', 'répartie comme suit:', df_categories)"
   ]
  },
  {
   "cell_type": "code",
   "execution_count": 279,
   "id": "6d401974",
   "metadata": {},
   "outputs": [],
   "source": [
    "#Save data into csv file\n",
    "book_infos.to_csv('books.csv',index=False,header=True)"
   ]
  },
  {
   "cell_type": "markdown",
   "id": "c55f4a9a",
   "metadata": {},
   "source": [
    "### Nettoyage et préparation des données"
   ]
  },
  {
   "cell_type": "code",
   "execution_count": 307,
   "id": "d7a63881",
   "metadata": {},
   "outputs": [
    {
     "data": {
      "text/html": [
       "<div>\n",
       "<style scoped>\n",
       "    .dataframe tbody tr th:only-of-type {\n",
       "        vertical-align: middle;\n",
       "    }\n",
       "\n",
       "    .dataframe tbody tr th {\n",
       "        vertical-align: top;\n",
       "    }\n",
       "\n",
       "    .dataframe thead th {\n",
       "        text-align: right;\n",
       "    }\n",
       "</style>\n",
       "<table border=\"1\" class=\"dataframe\">\n",
       "  <thead>\n",
       "    <tr style=\"text-align: right;\">\n",
       "      <th></th>\n",
       "      <th>title</th>\n",
       "      <th>rating</th>\n",
       "      <th>price</th>\n",
       "      <th>availability</th>\n",
       "      <th>category</th>\n",
       "    </tr>\n",
       "  </thead>\n",
       "  <tbody>\n",
       "    <tr>\n",
       "      <th>0</th>\n",
       "      <td>A Light in the Attic</td>\n",
       "      <td>Three</td>\n",
       "      <td>51.77</td>\n",
       "      <td>In stock</td>\n",
       "      <td>Books</td>\n",
       "    </tr>\n",
       "    <tr>\n",
       "      <th>1</th>\n",
       "      <td>Tipping the Velvet</td>\n",
       "      <td>One</td>\n",
       "      <td>53.74</td>\n",
       "      <td>In stock</td>\n",
       "      <td>Books</td>\n",
       "    </tr>\n",
       "    <tr>\n",
       "      <th>2</th>\n",
       "      <td>Soumission</td>\n",
       "      <td>One</td>\n",
       "      <td>50.10</td>\n",
       "      <td>In stock</td>\n",
       "      <td>Books</td>\n",
       "    </tr>\n",
       "    <tr>\n",
       "      <th>3</th>\n",
       "      <td>Sharp Objects</td>\n",
       "      <td>Four</td>\n",
       "      <td>47.82</td>\n",
       "      <td>In stock</td>\n",
       "      <td>Books</td>\n",
       "    </tr>\n",
       "    <tr>\n",
       "      <th>4</th>\n",
       "      <td>Sapiens: A Brief History of Humankind</td>\n",
       "      <td>Five</td>\n",
       "      <td>54.23</td>\n",
       "      <td>In stock</td>\n",
       "      <td>Books</td>\n",
       "    </tr>\n",
       "  </tbody>\n",
       "</table>\n",
       "</div>"
      ],
      "text/plain": [
       "                                   title rating  price availability category\n",
       "0                   A Light in the Attic  Three  51.77     In stock    Books\n",
       "1                     Tipping the Velvet    One  53.74     In stock    Books\n",
       "2                             Soumission    One  50.10     In stock    Books\n",
       "3                          Sharp Objects   Four  47.82     In stock    Books\n",
       "4  Sapiens: A Brief History of Humankind   Five  54.23     In stock    Books"
      ]
     },
     "execution_count": 307,
     "metadata": {},
     "output_type": "execute_result"
    }
   ],
   "source": [
    "df1=pd.read_csv('books.csv')\n",
    "df1.head()"
   ]
  },
  {
   "cell_type": "markdown",
   "id": "10717d2c",
   "metadata": {},
   "source": [
    "#### Comprendre la structure des données + Analyse descriptive \n",
    "\n",
    "\n",
    "* Etudier la structure du DataFrame : head(), info(),describe() , observer les diff types de données, les valeurs manquantes,les doublons, les statistiques sommaires, etc.\n"
   ]
  },
  {
   "cell_type": "code",
   "execution_count": 1,
   "id": "8c3f0a00",
   "metadata": {},
   "outputs": [],
   "source": [
    "#TBD"
   ]
  },
  {
   "cell_type": "markdown",
   "id": "4de7f349",
   "metadata": {},
   "source": [
    "##### Gestion des valeurs manquantes\n",
    "\n",
    "* Rechercher des valeurs manquantes  à l'aide de la méthode `.isnull()` ou `.isna()`. \n",
    "\n",
    "=> Si vous en trouvez, vous pouvez décider de les supprimer ou de les remplacer par des valeurs appropriées."
   ]
  },
  {
   "cell_type": "code",
   "execution_count": 2,
   "id": "4e285254",
   "metadata": {},
   "outputs": [],
   "source": [
    " #Vérifier les valeurs manquantes\n",
    "#TBD"
   ]
  },
  {
   "cell_type": "markdown",
   "id": "b6e6fdfa",
   "metadata": {},
   "source": [
    "#####  Gestion des doublons\n",
    "\n",
    "* Utiliser la méthode `drop_duplicates()` pour supprimer les lignes dupliquées.\n"
   ]
  },
  {
   "cell_type": "code",
   "execution_count": 3,
   "id": "e3545281",
   "metadata": {},
   "outputs": [],
   "source": [
    "# Vérifier les doublons dans le DataFrame\n",
    "#TBD"
   ]
  },
  {
   "cell_type": "markdown",
   "id": "184cbea2",
   "metadata": {},
   "source": [
    "#### Conversion de types de données\n",
    "\n",
    "* Vérifier que les colonnes \"rating\" et \"price\", availability ont les types de données appropriés. \n",
    "\n"
   ]
  },
  {
   "cell_type": "code",
   "execution_count": null,
   "id": "8f1bfc72",
   "metadata": {},
   "outputs": [],
   "source": [
    "#TBD"
   ]
  },
  {
   "cell_type": "code",
   "execution_count": null,
   "id": "d37e2f08",
   "metadata": {},
   "outputs": [],
   "source": []
  },
  {
   "cell_type": "markdown",
   "id": "e3de5f57",
   "metadata": {},
   "source": [
    "### Stockage de données \n",
    "\n",
    "* Proposer une modélisation cohérente et créer la BDD dans votre SGBDR"
   ]
  },
  {
   "cell_type": "code",
   "execution_count": null,
   "id": "bdcf5d68",
   "metadata": {},
   "outputs": [],
   "source": []
  },
  {
   "cell_type": "code",
   "execution_count": null,
   "id": "315d424e",
   "metadata": {},
   "outputs": [],
   "source": []
  },
  {
   "cell_type": "code",
   "execution_count": null,
   "id": "a92a97a5",
   "metadata": {},
   "outputs": [],
   "source": []
  },
  {
   "cell_type": "markdown",
   "id": "58ef6bde",
   "metadata": {},
   "source": [
    "### Analyse exploratoire et Visualisation des données\n",
    "\n",
    "* faire une analyse exploratoire des données pour mieux comprendre la distribution des valeurs dans chaque colonne, identifier des tendances ou des valeurs aberrantes potentielles.."
   ]
  },
  {
   "cell_type": "markdown",
   "id": "7fcd4196",
   "metadata": {},
   "source": [
    "#### Analyse univariée, Visualiser les données\n",
    "\n",
    "* Distribution de la variable 'price' =>  Création d'un histogramme pour le prix"
   ]
  },
  {
   "cell_type": "code",
   "execution_count": 4,
   "id": "032197e3",
   "metadata": {},
   "outputs": [],
   "source": [
    "#TBD\n"
   ]
  },
  {
   "cell_type": "markdown",
   "id": "b7a45746",
   "metadata": {},
   "source": [
    "* Distribution de la variable 'availability' "
   ]
  },
  {
   "cell_type": "code",
   "execution_count": 5,
   "id": "a4f59406",
   "metadata": {},
   "outputs": [],
   "source": [
    "#TBD"
   ]
  },
  {
   "cell_type": "markdown",
   "id": "697b1389",
   "metadata": {},
   "source": [
    "* Distribution de la variable 'rating'"
   ]
  },
  {
   "cell_type": "code",
   "execution_count": 6,
   "id": "b8db28dc",
   "metadata": {},
   "outputs": [],
   "source": [
    "#TBD"
   ]
  },
  {
   "cell_type": "markdown",
   "id": "2e20a700",
   "metadata": {},
   "source": [
    "#### Analyser les categories de livres \n",
    "\n",
    "* comparer la catégorie 'Books' avec les reste des categories ..\n"
   ]
  },
  {
   "cell_type": "code",
   "execution_count": null,
   "id": "d7ad4423",
   "metadata": {},
   "outputs": [],
   "source": [
    "#TBD"
   ]
  },
  {
   "cell_type": "markdown",
   "id": "172afc52",
   "metadata": {},
   "source": [
    "\n",
    "\n",
    "* Création d'un diagramme à barres pour la répartition des livres par catégorie\n"
   ]
  },
  {
   "cell_type": "code",
   "execution_count": 7,
   "id": "ba64b2a3",
   "metadata": {},
   "outputs": [],
   "source": [
    "#TBD"
   ]
  },
  {
   "cell_type": "code",
   "execution_count": null,
   "id": "69b76ad7",
   "metadata": {},
   "outputs": [],
   "source": []
  },
  {
   "cell_type": "code",
   "execution_count": null,
   "id": "b552cf53",
   "metadata": {},
   "outputs": [],
   "source": []
  },
  {
   "cell_type": "markdown",
   "id": "56563158",
   "metadata": {},
   "source": [
    "#### Identifier les valeurs aberrantes (outliers)\n",
    "\n",
    "* Création d'un boxplot pour le prix par catégorie\n"
   ]
  },
  {
   "cell_type": "code",
   "execution_count": 8,
   "id": "22275173",
   "metadata": {},
   "outputs": [],
   "source": [
    "#TBD"
   ]
  },
  {
   "cell_type": "markdown",
   "id": "b5a7727d",
   "metadata": {},
   "source": [
    "## Bonus:\n",
    "\n",
    "###  Proposer d'autres axes d'analyse\n",
    "\n",
    "### continuer le scraping du site en récupérant plus d'informations sur les livres.."
   ]
  },
  {
   "cell_type": "code",
   "execution_count": null,
   "id": "8c71bef6",
   "metadata": {},
   "outputs": [],
   "source": []
  }
 ],
 "metadata": {
  "kernelspec": {
   "display_name": "Python 3 (ipykernel)",
   "language": "python",
   "name": "python3"
  },
  "language_info": {
   "codemirror_mode": {
    "name": "ipython",
    "version": 3
   },
   "file_extension": ".py",
   "mimetype": "text/x-python",
   "name": "python",
   "nbconvert_exporter": "python",
   "pygments_lexer": "ipython3",
   "version": "3.12.1"
  },
  "toc": {
   "base_numbering": 1,
   "nav_menu": {},
   "number_sections": true,
   "sideBar": true,
   "skip_h1_title": true,
   "title_cell": "Table of Contents",
   "title_sidebar": "Contents",
   "toc_cell": false,
   "toc_position": {
    "height": "calc(100% - 180px)",
    "left": "10px",
    "top": "150px",
    "width": "165px"
   },
   "toc_section_display": true,
   "toc_window_display": true
  }
 },
 "nbformat": 4,
 "nbformat_minor": 5
}
