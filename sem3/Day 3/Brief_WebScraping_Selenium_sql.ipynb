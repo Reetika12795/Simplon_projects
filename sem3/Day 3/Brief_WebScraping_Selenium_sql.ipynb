{
 "cells": [
  {
   "cell_type": "code",
   "execution_count": 86,
   "id": "91f5669c-f2bf-495c-9e45-ec2571f98b38",
   "metadata": {},
   "outputs": [],
   "source": [
    "from selenium import webdriver\n",
    "from selenium.webdriver.chrome.service import Service\n",
    "from selenium.webdriver.common.by import By\n",
    "from selenium.webdriver.common.keys import Keys\n",
    "from selenium.webdriver.support.ui import WebDriverWait\n",
    "from selenium.webdriver.support.expected_conditions import visibility_of_element_located\n",
    "import pandas as pd\n",
    "from selenium.webdriver.support import expected_conditions as EC\n",
    "import matplotlib.pyplot as plt\n",
    "import seaborn as sns"
   ]
  },
  {
   "cell_type": "markdown",
   "id": "265bfb04-9600-46a6-b5d1-5ad3b11aed15",
   "metadata": {},
   "source": [
    "## Set Up WebDriver and Chrome Options:"
   ]
  },
  {
   "cell_type": "code",
   "execution_count": 87,
   "id": "7736db6b-622f-401c-8fc6-323a9129651f",
   "metadata": {},
   "outputs": [],
   "source": [
    "#from selenium.webdriver.chrome.service import Service\n",
    "#service = Service(r\"./chromedriver.exe\")\n",
    "#options = webdriver.ChromeOptions()\n",
    "driver = webdriver.Chrome()"
   ]
  },
  {
   "cell_type": "markdown",
   "id": "2f1a9cbd-7909-4cf3-ae0b-7ed7645edc0c",
   "metadata": {},
   "source": [
    "## Launch Chrome Browser:"
   ]
  },
  {
   "cell_type": "code",
   "execution_count": 88,
   "id": "e550aa0a-2332-46f7-b614-5aaec1900961",
   "metadata": {},
   "outputs": [],
   "source": [
    "driver.get('https://google.com')"
   ]
  },
  {
   "cell_type": "code",
   "execution_count": 89,
   "id": "64896c33-1740-482a-a2d8-451274ac9d81",
   "metadata": {},
   "outputs": [
    {
     "name": "stdout",
     "output_type": "stream",
     "text": [
      "Google\n",
      "https://www.google.com/\n"
     ]
    }
   ],
   "source": [
    "print(driver.title)\n",
    "print(driver.current_url)"
   ]
  },
  {
   "cell_type": "markdown",
   "id": "4dfb617c-f785-42f1-8692-014de9f48f0f",
   "metadata": {},
   "source": [
    "## Handle Cookie Consent since everytime it was blocked because i had to press accept all:\n",
    "\n",
    "Wait for and click the cookie consent button if it appears. This ensures that cookies do not block further interactions."
   ]
  },
  {
   "cell_type": "code",
   "execution_count": 90,
   "id": "6e2dad1a-6a90-45bc-98ea-a08836263eee",
   "metadata": {},
   "outputs": [],
   "source": [
    "# Increase timeout duration to 5 seconds\n",
    "wait = WebDriverWait(driver, 5)\n",
    "\n",
    "# Wait for the cookie consent button to be present and click it\n",
    "try:\n",
    "    # Use a more general CSS selector for the \"Accept All\" button\n",
    "    accept_button = wait.until(EC.element_to_be_clickable((By.XPATH, '//*[@id=\"L2AGLb\"]')))\n",
    "    accept_button.click()\n",
    "except Exception as e:\n",
    "    print(f\"Error clicking 'Allow' button: {e}\")"
   ]
  },
  {
   "cell_type": "markdown",
   "id": "2356e845-9469-4e34-a960-f6a9f4136624",
   "metadata": {},
   "source": [
    "## Perform a Search Operation:\n",
    "\n",
    "## Locate the search input box on the Google homepage using its XPath.\n",
    "## Enter the search query into the search box.\n",
    "## Submit the search (press ENTER or click the search button)"
   ]
  },
  {
   "cell_type": "code",
   "execution_count": 91,
   "id": "4b9d132f-ce81-4cc8-987b-4b29b538beb5",
   "metadata": {},
   "outputs": [],
   "source": [
    "input_1 = driver.find_element(By.XPATH, '//*[@id=\"APjFqb\"]') \n",
    "input_1.send_keys(\"Freinds IMDB episodes\")\n",
    "input_1.send_keys(Keys.ENTER)"
   ]
  },
  {
   "cell_type": "markdown",
   "id": "16d6239e-9ca0-4789-bfce-ad5500acaf1d",
   "metadata": {},
   "source": [
    "## Accessing the first link found on google search by xpath"
   ]
  },
  {
   "cell_type": "code",
   "execution_count": 8,
   "id": "c1dc1d9b-426c-4941-9a66-41c092c330b2",
   "metadata": {},
   "outputs": [],
   "source": [
    "first_link_click = driver.find_element(By.XPATH, '//*[@id=\"kp-wp-tab-Season10\"]/div[3]/div/div/div/div/div/div[1]/div/span/a/h3').click()\n"
   ]
  },
  {
   "cell_type": "markdown",
   "id": "ce3e54be-8b19-4a63-ad8b-dfa907b781fb",
   "metadata": {},
   "source": [
    "## Handle Cookie Consent on the Target Website:"
   ]
  },
  {
   "cell_type": "code",
   "execution_count": 9,
   "id": "3b2a2d5b-a1fc-4f20-8ab3-3c2352338d62",
   "metadata": {},
   "outputs": [],
   "source": [
    "# Wait for the cookie consent button to be present and click it\n",
    "try:\n",
    "    # Use a more general CSS selector for the \"Accept All\" button\n",
    "    accept_button = wait.until(EC.element_to_be_clickable((By.XPATH, '//*[@id=\"__next\"]/div/div/div[2]/div/button[2]')))\n",
    "    accept_button.click()\n",
    "except Exception as e:\n",
    "    print(f\"Error clicking 'Accept All' button: {e}\")"
   ]
  },
  {
   "cell_type": "markdown",
   "id": "1d5f6760-a058-4a39-ac10-edd04cb08e76",
   "metadata": {},
   "source": [
    "## Extracting data from first page"
   ]
  },
  {
   "cell_type": "code",
   "execution_count": 10,
   "id": "09b2e45c-5155-497b-918c-01e800e608fc",
   "metadata": {},
   "outputs": [
    {
     "name": "stdout",
     "output_type": "stream",
     "text": [
      "['The One Where Monica Gets a Roommate', 'The One with the Sonogram at the End', 'The One with the Thumb', 'The One with George Stephanopoulos', 'The One with the East German Laundry Detergent', 'The One with the Butt', 'The One with the Blackout', 'The One Where Nana Dies Twice', 'The One Where Underdog Gets Away', 'The One with the Monkey', 'The One with Mrs. Bing', 'The One with the Dozen Lasagnas', 'The One with the Boobies', 'The One with the Candy Hearts', 'The One with the Stoned Guy', 'The One with Two Parts: Part 1', 'The One with Two Parts: Part 2', 'The One with All the Poker', 'The One Where the Monkey Gets Away', 'The One with the Evil Orthodontist', 'The One with the Fake Monica', 'The One with the Ick Factor', 'The One with the Birth', 'The One Where Rachel Finds Out']\n"
     ]
    }
   ],
   "source": [
    "# Wait for the episode tiles to be present\n",
    "wait.until(EC.presence_of_all_elements_located((By.CSS_SELECTOR, 'div.sc-ccd6e31b-1.ggXjkj')))\n",
    "\n",
    "# Locate all tiles containing episode information\n",
    "all_tiles = driver.find_elements(By.CSS_SELECTOR, 'div.sc-ccd6e31b-1.ggXjkj')\n",
    "\n",
    "# Extract episode titles\n",
    "episode_titles = []\n",
    "for tile in all_tiles:\n",
    "    title_element = tile.find_element(By.CSS_SELECTOR, 'div.ipc-title__text')\n",
    "    episode_title = title_element.text.split(\"∙\")[1].strip()  # Adjust the split index if needed\n",
    "    episode_titles.append(episode_title)\n",
    "\n",
    "# Print the episode titles\n",
    "print(episode_titles)\n",
    "\n",
    "# Close the browser\n",
    "driver.quit()\n"
   ]
  },
  {
   "cell_type": "markdown",
   "id": "51ad8d6b-331b-42a0-83dd-522a290a8a97",
   "metadata": {},
   "source": [
    "## Iterating over all the pages and also saving it to a CSV file"
   ]
  },
  {
   "cell_type": "code",
   "execution_count": 28,
   "id": "4ab9b0a2-48cc-4b2c-9c68-1749c639e625",
   "metadata": {},
   "outputs": [
    {
     "name": "stdout",
     "output_type": "stream",
     "text": [
      "   season  episode release_date_episode  \\\n",
      "0       1        1     Thu Sep 22, 1994   \n",
      "1       1        2     Thu Sep 29, 1994   \n",
      "2       1        3      Thu Oct 6, 1994   \n",
      "3       1        4     Thu Oct 13, 1994   \n",
      "4       1        5     Thu Oct 20, 1994   \n",
      "\n",
      "                                            title  \\\n",
      "0            The One Where Monica Gets a Roommate   \n",
      "1            The One with the Sonogram at the End   \n",
      "2                          The One with the Thumb   \n",
      "3              The One with George Stephanopoulos   \n",
      "4  The One with the East German Laundry Detergent   \n",
      "\n",
      "                                             summary  min_rating  max_rating  \\\n",
      "0  Monica and the gang introduce Rachel to the \"r...         8.1        10.0   \n",
      "1  Ross finds out his ex-wife is pregnant. Rachel...         7.9        10.0   \n",
      "2  Monica becomes irritated when everyone likes h...         8.0        10.0   \n",
      "3  Joey and Chandler take Ross to a hockey game t...         7.9        10.0   \n",
      "4  Eager to spend time with Rachel, Ross pretends...         8.3        10.0   \n",
      "\n",
      "   number_of_review  \n",
      "0             10000  \n",
      "1              8000  \n",
      "2             76000  \n",
      "3             73000  \n",
      "4             73000  \n"
     ]
    }
   ],
   "source": [
    "\n",
    "# Initialize the WebDriver\n",
    "driver = webdriver.Chrome()\n",
    "\n",
    "# Create a list to store all episode data\n",
    "all_episodes = []\n",
    "\n",
    "# Iterate over all 10 seasons\n",
    "for season in range(1, 11):\n",
    "    # Navigate to the IMDb page for the current season\n",
    "    driver.get(f'https://www.imdb.com/title/tt0108778/episodes?season={season}')\n",
    "    \n",
    "    # Increase timeout duration to 20 seconds\n",
    "    wait = WebDriverWait(driver, 20)\n",
    "    \n",
    "    # Wait for the episode tiles to be present\n",
    "    wait.until(EC.presence_of_all_elements_located((By.CSS_SELECTOR, 'div.sc-ccd6e31b-1.ggXjkj')))\n",
    "    \n",
    "    # Locate all tiles containing episode information\n",
    "    all_tiles = driver.find_elements(By.CSS_SELECTOR, 'div.sc-ccd6e31b-1.ggXjkj')\n",
    "    \n",
    "    # Extract episode titles and other details\n",
    "    for tile in all_tiles:\n",
    "        title_element = tile.find_element(By.CSS_SELECTOR, 'div.ipc-title__text')\n",
    "        text = title_element.text.split(\"∙\")\n",
    "        title_text = text[1].strip()\n",
    "        \n",
    "        # Further split to extract season and episode number\n",
    "        season_episode, episode_title = text[0].split('.')\n",
    "        season_number = int(season_episode[1:])\n",
    "        episode_number = int(episode_title[1:])\n",
    "\n",
    "        # Extract additional information\n",
    "        release_date_episode = tile.find_element(By.CSS_SELECTOR, 'span.sc-ccd6e31b-10.dYquTu').text.replace(\",\", \"\", 1)\n",
    "        summary = tile.find_element(By.CSS_SELECTOR, 'div.ipc-html-content.ipc-html-content--base.ipc-html-content--display-inline').text\n",
    "        \n",
    "        rating_data = tile.find_element(By.CSS_SELECTOR, 'span.ipc-rating-star.ipc-rating-star--base.ipc-rating-star--imdb.ratingGroup--imdb-rating').text\n",
    "        min_rating = float(rating_data.split(\"/\")[0])\n",
    "        max_rating = float(rating_data.split(\"/\")[1].split(\"(\")[0])\n",
    "        number_of_review = rating_data.split(\"(\")[-1][:-1]\n",
    "        \n",
    "        # Format the number of reviews\n",
    "        number_of_review = int(number_of_review.replace(\"K\", \"000\").replace(\"M\", \"000000\").replace(\".\", \"\"))\n",
    "\n",
    "        # Add to the list\n",
    "        all_episodes.append({\n",
    "            \"season\": season_number,\n",
    "            \"episode\": episode_number,\n",
    "            \"release_date_episode\": release_date_episode,\n",
    "            \"title\": title_text,\n",
    "            \"summary\": summary,\n",
    "            \"min_rating\": min_rating,\n",
    "            \"max_rating\": max_rating,\n",
    "            \"number_of_review\": number_of_review\n",
    "        })\n",
    "\n",
    "# Convert the list to a DataFrame\n",
    "df = pd.DataFrame(all_episodes)\n",
    "\n",
    "# Print the DataFrame\n",
    "print(df.head())\n",
    "\n",
    "# Save the DataFrame to a CSV file\n",
    "df.to_csv('friends_episodes_silenium.csv', index=False)\n",
    "\n",
    "# Close the browser\n",
    "driver.quit()\n"
   ]
  },
  {
   "cell_type": "markdown",
   "id": "a293924c-f506-4371-afef-355b55e0fa18",
   "metadata": {},
   "source": [
    "## Convert 'release_date_episode' to datetime format and some feature engineering"
   ]
  },
  {
   "cell_type": "code",
   "execution_count": 83,
   "id": "834a9d1b-7108-4cdc-87a9-569b726ca36f",
   "metadata": {},
   "outputs": [
    {
     "data": {
      "text/html": [
       "<div>\n",
       "<style scoped>\n",
       "    .dataframe tbody tr th:only-of-type {\n",
       "        vertical-align: middle;\n",
       "    }\n",
       "\n",
       "    .dataframe tbody tr th {\n",
       "        vertical-align: top;\n",
       "    }\n",
       "\n",
       "    .dataframe thead th {\n",
       "        text-align: right;\n",
       "    }\n",
       "</style>\n",
       "<table border=\"1\" class=\"dataframe\">\n",
       "  <thead>\n",
       "    <tr style=\"text-align: right;\">\n",
       "      <th></th>\n",
       "      <th>season</th>\n",
       "      <th>episode</th>\n",
       "      <th>release_date_episode</th>\n",
       "      <th>title</th>\n",
       "      <th>summary</th>\n",
       "      <th>min_rating</th>\n",
       "      <th>max_rating</th>\n",
       "      <th>number_of_review</th>\n",
       "      <th>year</th>\n",
       "      <th>month</th>\n",
       "    </tr>\n",
       "  </thead>\n",
       "  <tbody>\n",
       "    <tr>\n",
       "      <th>0</th>\n",
       "      <td>1</td>\n",
       "      <td>1</td>\n",
       "      <td>1994-09-22</td>\n",
       "      <td>The One Where Monica Gets a Roommate</td>\n",
       "      <td>Monica and the gang introduce Rachel to the \"r...</td>\n",
       "      <td>8.1</td>\n",
       "      <td>10.0</td>\n",
       "      <td>10000</td>\n",
       "      <td>1994</td>\n",
       "      <td>9</td>\n",
       "    </tr>\n",
       "    <tr>\n",
       "      <th>1</th>\n",
       "      <td>1</td>\n",
       "      <td>2</td>\n",
       "      <td>1994-09-29</td>\n",
       "      <td>The One with the Sonogram at the End</td>\n",
       "      <td>Ross finds out his ex-wife is pregnant. Rachel...</td>\n",
       "      <td>7.9</td>\n",
       "      <td>10.0</td>\n",
       "      <td>8000</td>\n",
       "      <td>1994</td>\n",
       "      <td>9</td>\n",
       "    </tr>\n",
       "    <tr>\n",
       "      <th>2</th>\n",
       "      <td>1</td>\n",
       "      <td>3</td>\n",
       "      <td>1994-10-06</td>\n",
       "      <td>The One with the Thumb</td>\n",
       "      <td>Monica becomes irritated when everyone likes h...</td>\n",
       "      <td>8.0</td>\n",
       "      <td>10.0</td>\n",
       "      <td>76000</td>\n",
       "      <td>1994</td>\n",
       "      <td>10</td>\n",
       "    </tr>\n",
       "    <tr>\n",
       "      <th>3</th>\n",
       "      <td>1</td>\n",
       "      <td>4</td>\n",
       "      <td>1994-10-13</td>\n",
       "      <td>The One with George Stephanopoulos</td>\n",
       "      <td>Joey and Chandler take Ross to a hockey game t...</td>\n",
       "      <td>7.9</td>\n",
       "      <td>10.0</td>\n",
       "      <td>73000</td>\n",
       "      <td>1994</td>\n",
       "      <td>10</td>\n",
       "    </tr>\n",
       "    <tr>\n",
       "      <th>4</th>\n",
       "      <td>1</td>\n",
       "      <td>5</td>\n",
       "      <td>1994-10-20</td>\n",
       "      <td>The One with the East German Laundry Detergent</td>\n",
       "      <td>Eager to spend time with Rachel, Ross pretends...</td>\n",
       "      <td>8.3</td>\n",
       "      <td>10.0</td>\n",
       "      <td>73000</td>\n",
       "      <td>1994</td>\n",
       "      <td>10</td>\n",
       "    </tr>\n",
       "  </tbody>\n",
       "</table>\n",
       "</div>"
      ],
      "text/plain": [
       "   season  episode release_date_episode  \\\n",
       "0       1        1           1994-09-22   \n",
       "1       1        2           1994-09-29   \n",
       "2       1        3           1994-10-06   \n",
       "3       1        4           1994-10-13   \n",
       "4       1        5           1994-10-20   \n",
       "\n",
       "                                            title  \\\n",
       "0            The One Where Monica Gets a Roommate   \n",
       "1            The One with the Sonogram at the End   \n",
       "2                          The One with the Thumb   \n",
       "3              The One with George Stephanopoulos   \n",
       "4  The One with the East German Laundry Detergent   \n",
       "\n",
       "                                             summary  min_rating  max_rating  \\\n",
       "0  Monica and the gang introduce Rachel to the \"r...         8.1        10.0   \n",
       "1  Ross finds out his ex-wife is pregnant. Rachel...         7.9        10.0   \n",
       "2  Monica becomes irritated when everyone likes h...         8.0        10.0   \n",
       "3  Joey and Chandler take Ross to a hockey game t...         7.9        10.0   \n",
       "4  Eager to spend time with Rachel, Ross pretends...         8.3        10.0   \n",
       "\n",
       "   number_of_review  year  month  \n",
       "0             10000  1994      9  \n",
       "1              8000  1994      9  \n",
       "2             76000  1994     10  \n",
       "3             73000  1994     10  \n",
       "4             73000  1994     10  "
      ]
     },
     "execution_count": 83,
     "metadata": {},
     "output_type": "execute_result"
    }
   ],
   "source": [
    "\n",
    "df['release_date_episode'] = pd.to_datetime(df['release_date_episode'])\n",
    "\n",
    "# Extract year and month from release_date_episode for further analysis\n",
    "df['year'] = df['release_date_episode'].dt.year\n",
    "df['month'] = df['release_date_episode'].dt.month\n",
    "\n",
    "# Convert 'saison' and 'episode' to numerical values if needed(eg: converts S1, E2 to 1,2 by using int(x[1:]) to the substring)\n",
    "df['season'] = df['season'].apply(lambda x: int(x[1:]) if isinstance(x, str) else x)\n",
    "df['episode'] = df['episode'].apply(lambda x: int(x[1:]) if isinstance(x, str) else x)\n",
    "\n",
    "# Display basic information about the DataFrame after formatting\n",
    "df.head()\n"
   ]
  },
  {
   "cell_type": "markdown",
   "id": "55d2a890-2b2a-481a-842d-8345c63f7213",
   "metadata": {},
   "source": [
    "# Creating a Setup with sqlalchemy and the default db sqlite to insert the Dataframes into SQL database "
   ]
  },
  {
   "cell_type": "code",
   "execution_count": 29,
   "id": "647bf4ab-1be1-46a5-bad4-f3f588adba0f",
   "metadata": {},
   "outputs": [
    {
     "name": "stdout",
     "output_type": "stream",
     "text": [
      "Data inserted successfully.\n"
     ]
    }
   ],
   "source": [
    "from sqlalchemy import create_engine\n",
    "\n",
    "# SQLAlchemy connection string\n",
    "# You can replace 'sqlite:///friends_episodes.db' with your database connection string\n",
    "engine = create_engine('sqlite:///friends_episodes.db')\n",
    "\n",
    "# Write DataFrame to SQL database\n",
    "df.to_sql('episodes', con=engine, index=False, if_exists='replace')\n",
    "\n",
    "print(\"Data inserted successfully.\")\n"
   ]
  },
  {
   "cell_type": "markdown",
   "id": "6016f639-6d39-4fe5-9993-2b6089e2d6a4",
   "metadata": {},
   "source": [
    "##  Query to Finding episodes with most reviews"
   ]
  },
  {
   "cell_type": "code",
   "execution_count": 35,
   "id": "c6694fcd-50c1-4284-8290-057a19a1b8a6",
   "metadata": {},
   "outputs": [
    {
     "name": "stdout",
     "output_type": "stream",
     "text": [
      "Episode with the Most Reviews:\n",
      "   season  episode                        title  number_of_review\n",
      "0       4       12     The One with the Embryos             97000\n",
      "1       2       14  The One with the Prom Video             89000\n",
      "2       1        7    The One with the Blackout             87000\n",
      "3       8        9       The One with the Rumor             82000\n",
      "4       1        3       The One with the Thumb             76000\n"
     ]
    }
   ],
   "source": [
    "query = \"\"\"\n",
    "SELECT season, episode, title, number_of_review\n",
    "FROM episodes\n",
    "ORDER BY number_of_review DESC\n",
    "LIMIT 5;\n",
    "\"\"\"\n",
    "\n",
    "most_reviewed_episode = pd.read_sql(query, con=engine)\n",
    "print(\"Episode with the Most Reviews:\")\n",
    "print(most_reviewed_episode)\n"
   ]
  },
  {
   "cell_type": "markdown",
   "id": "67ba1f91-3332-4371-8ebb-465a5d944447",
   "metadata": {},
   "source": [
    "## Query to calculate average rating of every season"
   ]
  },
  {
   "cell_type": "code",
   "execution_count": 36,
   "id": "8bb8824b-a32e-473e-afb2-191010b9577f",
   "metadata": {},
   "outputs": [
    {
     "name": "stdout",
     "output_type": "stream",
     "text": [
      "Average Rating for Each Season:\n",
      "   season  average_rating\n",
      "0       1        8.137500\n",
      "1       2        8.283333\n",
      "2       3        8.252000\n",
      "3       4        8.320833\n",
      "4       5        8.479167\n",
      "5       6        8.316000\n",
      "6       7        8.250000\n",
      "7       8        8.287500\n",
      "8       9        8.108696\n",
      "9      10        8.482353\n"
     ]
    }
   ],
   "source": [
    "query = \"\"\"\n",
    "SELECT season, AVG(min_rating) as average_rating\n",
    "FROM episodes\n",
    "GROUP BY season\n",
    "ORDER BY season;\n",
    "\"\"\"\n",
    "\n",
    "average_rating_per_season = pd.read_sql(query, con=engine)\n",
    "print(\"Average Rating for Each Season:\")\n",
    "print(average_rating_per_season)\n"
   ]
  },
  {
   "cell_type": "markdown",
   "id": "0e01a055-0d62-497f-8b93-be941ce8fd05",
   "metadata": {},
   "source": [
    "## Visualizing the results on a bar chart"
   ]
  },
  {
   "cell_type": "code",
   "execution_count": 54,
   "id": "f1e2ea7e-517b-43d1-b05d-9ac70d8ba8e5",
   "metadata": {},
   "outputs": [
    {
     "data": {
      "image/png": "[encoded data removed]",
      "text/plain": [
       "<Figure size 1200x600 with 1 Axes>"
      ]
     },
     "metadata": {},
     "output_type": "display_data"
    }
   ],
   "source": [
    "# Plot the average ratings of all seasons\n",
    "plt.figure(figsize=(12, 6))\n",
    "sns.barplot(data=average_rating_per_season, x='season', y='average_rating',hue = \"season\",legend = False, palette='viridis')\n",
    "plt.title('Average Ratings of All Seasons')\n",
    "plt.xlabel('Season')\n",
    "plt.ylabel('Average Rating')\n",
    "plt.ylim(0, 10)\n",
    "plt.show()"
   ]
  },
  {
   "cell_type": "markdown",
   "id": "1a5dcaf7-d29f-4445-8c99-c9dffed00f89",
   "metadata": {},
   "source": [
    "## Select episodes with seasons with ratings less than 7 to get an intuitive idea of what episodes didn't perform well "
   ]
  },
  {
   "cell_type": "code",
   "execution_count": 79,
   "id": "3788cedf-af74-4b2a-8735-0520969e7b91",
   "metadata": {},
   "outputs": [
    {
     "name": "stdout",
     "output_type": "stream",
     "text": [
      "Seasons with Average Rating Less than 4:\n",
      "   season  episode                              title  min_rating  max_rating\n",
      "0       4       21        The One with the Invitation         6.9        10.0\n",
      "1       6       20  The One with Mac and C.H.E.E.S.E.         7.1        10.0\n",
      "2       7       21              The One with the Vows         7.2        10.0\n",
      "3       8       19      The One with Joey's Interview         7.2        10.0\n",
      "4       9       10    The One with Christmas in Tulsa         7.2        10.0\n"
     ]
    },
    {
     "data": {
      "text/plain": [
       "<BarContainer object of 5 artists>"
      ]
     },
     "execution_count": 79,
     "metadata": {},
     "output_type": "execute_result"
    },
    {
     "data": {
      "image/png": "[encoded data removed]",
      "text/plain": [
       "<Figure size 640x480 with 1 Axes>"
      ]
     },
     "metadata": {},
     "output_type": "display_data"
    }
   ],
   "source": [
    "\n",
    "query_seasons = \"\"\"\n",
    "SELECT season,episode,title,min_rating,max_rating\n",
    "FROM episodes\n",
    "where min_rating < 7.5;\n",
    "\"\"\"\n",
    "seasons_with_low_ratings = pd.read_sql(query_seasons, con=engine)\n",
    "\n",
    "# Print the seasons with average rating less than 4\n",
    "print(\"Seasons with Average Rating Less than 4:\")\n",
    "print(seasons_with_low_ratings)\n",
    "\n",
    "\n",
    "#Ploting the results\n",
    "\n",
    "plt.barh(seasons_with_low_ratings['title'], seasons_with_low_ratings['max_rating'] - seasons_with_low_ratings['min_rating'], \n",
    "         left=seasons_with_low_ratings['min_rating'], color='skyblue', edgecolor='black')"
   ]
  },
  {
   "cell_type": "markdown",
   "id": "dc0e38da-5b43-4ea4-b214-5f1c62968ba8",
   "metadata": {},
   "source": [
    "## Top Episodes and Their Characteristics for each season to Identify common traits among top-rated episodes can provide insights into what makes an episode particularly appealing to viewers."
   ]
  },
  {
   "cell_type": "code",
   "execution_count": 70,
   "id": "2e1d43ad-6ead-4cd3-87ec-56407392eda5",
   "metadata": {},
   "outputs": [
    {
     "data": {
      "image/png": "[encoded data removed]",
      "text/plain": [
       "<Figure size 640x480 with 1 Axes>"
      ]
     },
     "metadata": {},
     "output_type": "display_data"
    },
    {
     "data": {
      "text/html": [
       "<div>\n",
       "<style scoped>\n",
       "    .dataframe tbody tr th:only-of-type {\n",
       "        vertical-align: middle;\n",
       "    }\n",
       "\n",
       "    .dataframe tbody tr th {\n",
       "        vertical-align: top;\n",
       "    }\n",
       "\n",
       "    .dataframe thead th {\n",
       "        text-align: right;\n",
       "    }\n",
       "</style>\n",
       "<table border=\"1\" class=\"dataframe\">\n",
       "  <thead>\n",
       "    <tr style=\"text-align: right;\">\n",
       "      <th></th>\n",
       "      <th>season</th>\n",
       "      <th>episode</th>\n",
       "      <th>title</th>\n",
       "      <th>max_rating</th>\n",
       "    </tr>\n",
       "  </thead>\n",
       "  <tbody>\n",
       "    <tr>\n",
       "      <th>0</th>\n",
       "      <td>1</td>\n",
       "      <td>7</td>\n",
       "      <td>The One with the Blackout</td>\n",
       "      <td>8.9</td>\n",
       "    </tr>\n",
       "    <tr>\n",
       "      <th>1</th>\n",
       "      <td>2</td>\n",
       "      <td>14</td>\n",
       "      <td>The One with the Prom Video</td>\n",
       "      <td>9.3</td>\n",
       "    </tr>\n",
       "    <tr>\n",
       "      <th>2</th>\n",
       "      <td>3</td>\n",
       "      <td>6</td>\n",
       "      <td>The One with the Flashback</td>\n",
       "      <td>9.0</td>\n",
       "    </tr>\n",
       "    <tr>\n",
       "      <th>3</th>\n",
       "      <td>4</td>\n",
       "      <td>12</td>\n",
       "      <td>The One with the Embryos</td>\n",
       "      <td>9.4</td>\n",
       "    </tr>\n",
       "    <tr>\n",
       "      <th>4</th>\n",
       "      <td>5</td>\n",
       "      <td>14</td>\n",
       "      <td>The One Where Everybody Finds Out</td>\n",
       "      <td>9.7</td>\n",
       "    </tr>\n",
       "    <tr>\n",
       "      <th>5</th>\n",
       "      <td>6</td>\n",
       "      <td>25</td>\n",
       "      <td>The One with the Proposal: Part 2</td>\n",
       "      <td>9.2</td>\n",
       "    </tr>\n",
       "    <tr>\n",
       "      <th>6</th>\n",
       "      <td>7</td>\n",
       "      <td>24</td>\n",
       "      <td>The One with Monica and Chandler's Wedding: Pa...</td>\n",
       "      <td>9.1</td>\n",
       "    </tr>\n",
       "    <tr>\n",
       "      <th>7</th>\n",
       "      <td>8</td>\n",
       "      <td>4</td>\n",
       "      <td>The One with the Videotape</td>\n",
       "      <td>9.2</td>\n",
       "    </tr>\n",
       "    <tr>\n",
       "      <th>8</th>\n",
       "      <td>9</td>\n",
       "      <td>8</td>\n",
       "      <td>The One with Rachel's Other Sister</td>\n",
       "      <td>8.7</td>\n",
       "    </tr>\n",
       "    <tr>\n",
       "      <th>9</th>\n",
       "      <td>10</td>\n",
       "      <td>17</td>\n",
       "      <td>The Last One</td>\n",
       "      <td>9.6</td>\n",
       "    </tr>\n",
       "  </tbody>\n",
       "</table>\n",
       "</div>"
      ],
      "text/plain": [
       "   season  episode                                              title  \\\n",
       "0       1        7                          The One with the Blackout   \n",
       "1       2       14                        The One with the Prom Video   \n",
       "2       3        6                         The One with the Flashback   \n",
       "3       4       12                           The One with the Embryos   \n",
       "4       5       14                  The One Where Everybody Finds Out   \n",
       "5       6       25                  The One with the Proposal: Part 2   \n",
       "6       7       24  The One with Monica and Chandler's Wedding: Pa...   \n",
       "7       8        4                         The One with the Videotape   \n",
       "8       9        8                 The One with Rachel's Other Sister   \n",
       "9      10       17                                       The Last One   \n",
       "\n",
       "   max_rating  \n",
       "0         8.9  \n",
       "1         9.3  \n",
       "2         9.0  \n",
       "3         9.4  \n",
       "4         9.7  \n",
       "5         9.2  \n",
       "6         9.1  \n",
       "7         9.2  \n",
       "8         8.7  \n",
       "9         9.6  "
      ]
     },
     "execution_count": 70,
     "metadata": {},
     "output_type": "execute_result"
    }
   ],
   "source": [
    "\n",
    "# Execute the SQL query to get top-rated episodes per season\n",
    "query = \"\"\"\n",
    "SELECT season, episode, title, MAX(min_rating) as max_rating   \n",
    "FROM episodes\n",
    "GROUP BY season\n",
    "ORDER BY season;\n",
    "\"\"\"\n",
    "\n",
    "top_episodes_per_season = pd.read_sql(query, con=engine)\n",
    "\n",
    "# Format labels to include both the title and the season\n",
    "labels = [f\"Season {row['season']}:\\n{row['title']}\" for index, row in top_episodes_per_season.iterrows()]\n",
    "sizes = top_episodes_per_season['max_rating']\n",
    "\n",
    "# Custom colors for the pie chart\n",
    "colors = ['#ff9999','#66b3ff','#99ff99','#ffcc99','#c2c2f0','#ffb3e6','#c2f0c2','#e6b3cc','#b3ccff','#ccffb3']\n",
    "plt.pie(sizes, labels=labels, colors=colors, autopct='%1.1f%%', startangle=140)\n",
    "plt.title('Top-Rated Episodes per Season')\n",
    "plt.axis('equal')  # Equal aspect ratio ensures that pie is drawn as a circle.\n",
    "\n",
    "plt.show()\n",
    "top_episodes_per_season"
   ]
  },
  {
   "cell_type": "markdown",
   "id": "fc1adeb5-e2c4-4c4f-b972-b49c2d5ab3e8",
   "metadata": {},
   "source": [
    "# Axis of analysis\n",
    "## Common Themes in Top-Rated Episodes\n",
    "\n",
    "Significant Life Events:\n",
    "\n",
    "Many top-rated episodes revolve around key life events and milestones, such as weddings and major romantic developments. This suggests that episodes dealing with these significant moments tend to be more impactful and memorable.\n",
    "     - \"The One Where Everybody Finds Out\" involves a major revelation and pivotal plot twist where the rest of the group discovers Monica and      Chandler's relationship.\n",
    "     - \"The Last One\" is the series finale, which is a highly anticipated and emotional conclusion to the series.\n",
    "    - \"The One with the Embryos\" features a memorable and competitive quiz between the friends that showcases their deep bond and humorous side.\n",
    "\n",
    "Humor and Heartfelt Moments: \n",
    "\n",
    "Episodes with a mix of humor and heartfelt moments or emotional resolutions often rank higher in ratings. For instance, \"The One with the Prom Video\" combines nostalgia and emotional depth, leading to high viewer satisfaction.\n",
    "\n",
    "## Conclusion : Les meilleurs épisodes coïncident souvent avec des arcs narratifs et des développements importants des personnages. Par exemple, les jalons de la relation entre Monica et Chandler sont très appréciés des fans, ce qui indique que les épisodes qui font progresser les intrigues clés des personnages sont très valorisés.\n",
    "\n",
    "## Les épisodes qui impliquent des événements spéciaux, tels que des mariages et des révélations majeures, ou qui se terminent sur un cliffhanger ou un tournant majeur, ont tendance à obtenir de meilleures notes. Cela pourrait suggérer que les téléspectateurs apprécient les épisodes qui offrent une progression narrative substantielle ou un impact émotionnel important.\n"
   ]
  },
  {
   "cell_type": "code",
   "execution_count": null,
   "id": "d1c19530-14a4-45c9-a239-fd5c235d05bf",
   "metadata": {},
   "outputs": [],
   "source": []
  }
 ],
 "metadata": {
  "kernelspec": {
   "display_name": "Python 3 (ipykernel)",
   "language": "python",
   "name": "python3"
  },
  "language_info": {
   "codemirror_mode": {
    "name": "ipython",
    "version": 3
   },
   "file_extension": ".py",
   "mimetype": "text/x-python",
   "name": "python",
   "nbconvert_exporter": "python",
   "pygments_lexer": "ipython3",
   "version": "3.12.1"
  }
 },
 "nbformat": 4,
 "nbformat_minor": 5
}
