{
 "cells": [
  {
   "cell_type": "markdown",
   "metadata": {},
   "source": [
    "## Projet Spark : Analyse de données d'un service de streaming musical\n",
    "\n",
    "\n",
    "#### Context du projet  :\n",
    "On considère un dataset d'un service de streaming musical à explorer.\n",
    "\n",
    "L'objectif est de tirer des informations utiles sur l'utilisation de la plateforme, le comportement des utilisateurs et les tendances d'écoute, en utilisant les concepts fondamentaux de Spark, pour manipuler et analyser des données à grande échelle.\n",
    "\n",
    "#### Dataset :\n",
    "Le dataset utilisé, \"spotify_logs.json\", contient des logs / journaux d'événements d'une application de streaming musical. Chaque entrée du dataset correspond à une interaction de l'utilisateur avec le service de streaming. Les attributs incluent des informations sur l'utilisateur, telles que son ID, son genre, le niveau d'abonnement, ainsi que des détails sur les événements comme la chanson écoutée, la page visitée, l'heure de l'événement, etc.\n",
    "\n",
    "#### Objectif du Projet :\n",
    "Le projet consiste à réaliser une série d'analyses et de calculs sur ces données en utilisant Apache Spark \n",
    "\n",
    "\n",
    "Ressource utile:\n",
    "https://spark.apache.org/docs/latest/api/python/reference/pyspark.sql/index.html\n",
    "\n",
    "## Travail demandé et Livrables :\n",
    " \n",
    "- Ecrire le code Pyspark qui permet de répondre aux questions ci dessous. \n",
    "- Rendre votre notebook avec la trace d'exécution de vos cellules.\n",
    "\n"
   ]
  },
  {
   "cell_type": "code",
   "execution_count": 3,
   "metadata": {},
   "outputs": [],
   "source": [
    "#Import des libraries\n",
    "from pyspark.sql import SparkSession\n",
    "from pyspark.sql.functions import isnan, count, when,countDistinct, col, desc, udf, col, sort_array, asc, avg\n",
    "from pyspark.sql.functions import sum as Fsum\n",
    "from pyspark.sql.window import Window\n",
    "from pyspark.sql.types import IntegerType, StringType\n",
    "\n",
    "\n",
    "import datetime\n",
    "\n",
    "import numpy as np\n",
    "import pandas as pd\n",
    "%matplotlib inline\n",
    "import matplotlib.pyplot as plt\n",
    "import seaborn as sns"
   ]
  },
  {
   "cell_type": "markdown",
   "metadata": {},
   "source": [
    "##  **Charger les données**\n",
    "\n",
    "- Importer toutes autres libraries dont vous pourriez avoir besoin\n",
    "- Instancier une session Spark\n",
    "- Lire le dataset \"spotify_logs.json\"\n",
    "- afficher le schéma des données\n"
   ]
  },
  {
   "cell_type": "code",
   "execution_count": 4,
   "metadata": {},
   "outputs": [],
   "source": [
    "spark = SparkSession.builder.appName(\"music_stream_pyspark\").getOrCreate()"
   ]
  },
  {
   "cell_type": "code",
   "execution_count": 5,
   "metadata": {},
   "outputs": [
    {
     "data": {
      "text/html": [
       "\n",
       "        <div>\n",
       "            <p><b>SparkContext</b></p>\n",
       "\n",
       "            <p><a href=\"http://81e8b21b4f6e:4040\">Spark UI</a></p>\n",
       "\n",
       "            <dl>\n",
       "              <dt>Version</dt>\n",
       "                <dd><code>v3.5.2</code></dd>\n",
       "              <dt>Master</dt>\n",
       "                <dd><code>local[*]</code></dd>\n",
       "              <dt>AppName</dt>\n",
       "                <dd><code>music_stream_pyspark</code></dd>\n",
       "            </dl>\n",
       "        </div>\n",
       "        "
      ],
      "text/plain": [
       "<SparkContext master=local[*] appName=music_stream_pyspark>"
      ]
     },
     "execution_count": 5,
     "metadata": {},
     "output_type": "execute_result"
    }
   ],
   "source": [
    "sc = spark.sparkContext\n",
    "sc"
   ]
  },
  {
   "cell_type": "code",
   "execution_count": 6,
   "metadata": {},
   "outputs": [
    {
     "data": {
      "text/plain": [
       "['artist',\n",
       " 'auth',\n",
       " 'firstName',\n",
       " 'gender',\n",
       " 'itemInSession',\n",
       " 'lastName',\n",
       " 'length',\n",
       " 'level',\n",
       " 'location',\n",
       " 'method',\n",
       " 'page',\n",
       " 'registration',\n",
       " 'sessionId',\n",
       " 'song',\n",
       " 'status',\n",
       " 'ts',\n",
       " 'userAgent',\n",
       " 'userId']"
      ]
     },
     "execution_count": 6,
     "metadata": {},
     "output_type": "execute_result"
    }
   ],
   "source": [
    "#votre code ici\n",
    "df = spark.read.json(\"spotify_logs.json\")\n",
    "# df.show()\n",
    "df.columns"
   ]
  },
  {
   "cell_type": "code",
   "execution_count": 7,
   "metadata": {},
   "outputs": [
    {
     "name": "stdout",
     "output_type": "stream",
     "text": [
      "root\n",
      " |-- artist: string (nullable = true)\n",
      " |-- auth: string (nullable = true)\n",
      " |-- firstName: string (nullable = true)\n",
      " |-- gender: string (nullable = true)\n",
      " |-- itemInSession: long (nullable = true)\n",
      " |-- lastName: string (nullable = true)\n",
      " |-- length: double (nullable = true)\n",
      " |-- level: string (nullable = true)\n",
      " |-- location: string (nullable = true)\n",
      " |-- method: string (nullable = true)\n",
      " |-- page: string (nullable = true)\n",
      " |-- registration: long (nullable = true)\n",
      " |-- sessionId: long (nullable = true)\n",
      " |-- song: string (nullable = true)\n",
      " |-- status: long (nullable = true)\n",
      " |-- ts: long (nullable = true)\n",
      " |-- userAgent: string (nullable = true)\n",
      " |-- userId: string (nullable = true)\n",
      "\n"
     ]
    }
   ],
   "source": [
    "df.printSchema()"
   ]
  },
  {
   "cell_type": "markdown",
   "metadata": {},
   "source": [
    "## **Questions: Exploration et Analyse de données**\n",
    "\n",
    "2. Combien de logs sont présents dans le dataset ?\n",
    "3. Combien d'artistes sont présents dans le dataset?\n",
    "4. Trouver le nombre d'utilisateurs inscrits dans le dataset ?\n",
    "5. Quels sont les types de niveau d'abonnement (level) disponibles dans le dataset ?\n",
    "6. Quelles sont les pages disponibles dans le dataset et combien de fois chacune d'elles a-t-elle été visitée ? \n",
    "\n",
    "7. Combien de logs a enregistré l'utilisateur d'id: 1138,\n",
    "\n",
    "   Afficher les 5 premiers et les 5 derniers logs de cet utilisateur, que remarquez vous?\n",
    "8. Combien de pages l'utilisateur avec l'id \"\" (empty string) n'a-t-il PAS visitée, afficher les .\n",
    "9. De quel type d'utilisateurs s'agit il à votre avis?\n",
    "10. Combien d'utilisateurs de chaque genre sont présents dans le dataset ?\n",
    "11. Visualiser la répartition, Y a-t-il une différence significative entre le nombre d'utilisateurs de chaque genre ?\n",
    "12. Quel est l'artiste le plus écouté dans le dataset et combien de fois ses chansons ont-elles été jouées ?\n",
    "13. Combien de chansons différentes ont été jouées dans l'ensemble des logs ?\n",
    "\n",
    "14. Visualiser le nombre de chansons jouées par heure,  À quelle heure de la journée les utilisateurs écoutent-ils le plus de chansons ?\n",
    "15. Trouver les utilisateurs qui ont fait des upgrade et downgrade de leur abonnement?\n",
    "\n",
    "16. Créer une vue temporaire répondre avec des requêtes SQL aux questions suivantes:\n",
    "\n",
    " a- Afficher les 3 premiers logs de l'utilisateur d'id 1046\n",
    " \n",
    " b- Trouver les pages que les utilisateurs ayant empty userID ont visité\n",
    " \n",
    " c- Combien de chansons ont été jouées par l'artiste le plus joué \n",
    "17. Proposer un axe d'analyse de votre choix ?\n"
   ]
  },
  {
   "cell_type": "markdown",
   "metadata": {},
   "source": [
    "### 1 How many logs are present in the datase ?"
   ]
  },
  {
   "cell_type": "code",
   "execution_count": 8,
   "metadata": {},
   "outputs": [
    {
     "data": {
      "text/plain": [
       "10000"
      ]
     },
     "execution_count": 8,
     "metadata": {},
     "output_type": "execute_result"
    }
   ],
   "source": [
    "df.count()"
   ]
  },
  {
   "cell_type": "markdown",
   "metadata": {},
   "source": [
    "### 2. How many artists are present in the dataset?"
   ]
  },
  {
   "cell_type": "code",
   "execution_count": 9,
   "metadata": {},
   "outputs": [
    {
     "name": "stdout",
     "output_type": "stream",
     "text": [
      "+--------------------+\n",
      "|              artist|\n",
      "+--------------------+\n",
      "|       Showaddywaddy|\n",
      "|          Lily Allen|\n",
      "|Cobra Starship Fe...|\n",
      "|          Alex Smoke|\n",
      "|                NULL|\n",
      "|                NULL|\n",
      "|              Redman|\n",
      "|     Ulrich Schnauss|\n",
      "|                NULL|\n",
      "|                NULL|\n",
      "|               Jay-Z|\n",
      "|         Evanescence|\n",
      "|     Scissor Sisters|\n",
      "|        3 Doors Down|\n",
      "|       George Younce|\n",
      "|              Aly-Us|\n",
      "|                NULL|\n",
      "|            BjÃÂ¶rk|\n",
      "|      David Bromberg|\n",
      "|          Nickelback|\n",
      "+--------------------+\n",
      "only showing top 20 rows\n",
      "\n"
     ]
    },
    {
     "data": {
      "text/plain": [
       "10000"
      ]
     },
     "execution_count": 9,
     "metadata": {},
     "output_type": "execute_result"
    }
   ],
   "source": [
    "df.select(\"artist\").show()\n",
    "df.select(\"artist\").count()"
   ]
  },
  {
   "cell_type": "markdown",
   "metadata": {},
   "source": [
    "### 3. How many distinct artists are present in the dataset?"
   ]
  },
  {
   "cell_type": "code",
   "execution_count": 14,
   "metadata": {},
   "outputs": [
    {
     "name": "stdout",
     "output_type": "stream",
     "text": [
      "+----------------------+\n",
      "|count(DISTINCT artist)|\n",
      "+----------------------+\n",
      "|                  3617|\n",
      "+----------------------+\n",
      "\n"
     ]
    },
    {
     "data": {
      "text/plain": [
       "3617"
      ]
     },
     "execution_count": 14,
     "metadata": {},
     "output_type": "execute_result"
    }
   ],
   "source": [
    "df.select(countDistinct(\"artist\")).show()\n",
    "df.select(countDistinct(\"artist\")).collect()[0][0]"
   ]
  },
  {
   "cell_type": "markdown",
   "metadata": {},
   "source": [
    "### 4. How many users are registered in the dataset?"
   ]
  },
  {
   "cell_type": "code",
   "execution_count": 10,
   "metadata": {},
   "outputs": [
    {
     "name": "stdout",
     "output_type": "stream",
     "text": [
      "+------+-----+\n",
      "|gender|count|\n",
      "+------+-----+\n",
      "|     F| 3820|\n",
      "|  NULL|  336|\n",
      "|     M| 5844|\n",
      "+------+-----+\n",
      "\n"
     ]
    },
    {
     "data": {
      "text/plain": [
       "10000"
      ]
     },
     "execution_count": 10,
     "metadata": {},
     "output_type": "execute_result"
    }
   ],
   "source": [
    "df.groupby(\"gender\").count().show()\n",
    "df.select(\"firstName\").count()"
   ]
  },
  {
   "cell_type": "markdown",
   "metadata": {},
   "source": [
    "### 5. What types of subscription levels are available in the dataset?"
   ]
  },
  {
   "cell_type": "code",
   "execution_count": 11,
   "metadata": {},
   "outputs": [
    {
     "name": "stdout",
     "output_type": "stream",
     "text": [
      "+-----+-----+\n",
      "|level|count|\n",
      "+-----+-----+\n",
      "| free| 3076|\n",
      "| paid| 6924|\n",
      "+-----+-----+\n",
      "\n"
     ]
    }
   ],
   "source": [
    "df.groupby(\"level\").count().show()"
   ]
  },
  {
   "cell_type": "markdown",
   "metadata": {},
   "source": [
    "### 6. What pages are available in the dataset, and how many times have each been visited? "
   ]
  },
  {
   "cell_type": "code",
   "execution_count": 12,
   "metadata": {},
   "outputs": [
    {
     "name": "stdout",
     "output_type": "stream",
     "text": [
      "+----------------+-----+\n",
      "|            page|count|\n",
      "+----------------+-----+\n",
      "|        NextSong| 8347|\n",
      "|            Home| 1126|\n",
      "|           Login|  126|\n",
      "|          Logout|  100|\n",
      "|       Downgrade|   75|\n",
      "|        Settings|   59|\n",
      "|            Help|   58|\n",
      "|           About|   43|\n",
      "|         Upgrade|   32|\n",
      "|           Error|   12|\n",
      "|   Save Settings|   11|\n",
      "|  Submit Upgrade|   10|\n",
      "|Submit Downgrade|    1|\n",
      "+----------------+-----+\n",
      "\n"
     ]
    }
   ],
   "source": [
    "page_visits = df.groupBy(\"page\").count().orderBy(desc(\"count\"))\n",
    "page_visits.show()"
   ]
  },
  {
   "cell_type": "markdown",
   "metadata": {},
   "source": [
    "### 7. How many logs has the user id: 1138 saved?\n",
    "\n",
    "-  Display the first 5 and last 5 logs of this user, what do you notice?"
   ]
  },
  {
   "cell_type": "code",
   "execution_count": 13,
   "metadata": {},
   "outputs": [],
   "source": [
    "user_logs = df.filter(col(\"userId\") == '1138').count()# filter is projection of all data(select) with where clause(apply conditions to all rows)"
   ]
  },
  {
   "cell_type": "code",
   "execution_count": 14,
   "metadata": {
    "scrolled": true
   },
   "outputs": [
    {
     "name": "stdout",
     "output_type": "stream",
     "text": [
      "+-------------+---------+--------------------+--------------------+--------+------+-----+\n",
      "|       artist|firstName|            location|                song|    page|method|level|\n",
      "+-------------+---------+--------------------+--------------------+--------+------+-----+\n",
      "|         NULL|    Kelly|Houston-The Woodl...|                NULL|    Home|   GET| paid|\n",
      "|    Black Box|    Kelly|Houston-The Woodl...| Everybody Everybody|NextSong|   PUT| paid|\n",
      "|  Future Rock|    Kelly|Houston-The Woodl...|               Gears|NextSong|   PUT| paid|\n",
      "|Kings Of Leon|    Kelly|Houston-The Woodl...|        Use Somebody|NextSong|   PUT| paid|\n",
      "|        Queen|    Kelly|Houston-The Woodl...|Love Of My Life (...|NextSong|   PUT| paid|\n",
      "+-------------+---------+--------------------+--------------------+--------+------+-----+\n",
      "only showing top 5 rows\n",
      "\n",
      "+--------------------+---------+--------------------+--------------------+----------------+------+-----+\n",
      "|              artist|firstName|            location|                song|            page|method|level|\n",
      "+--------------------+---------+--------------------+--------------------+----------------+------+-----+\n",
      "|FrÃÂ©meaux & Ass...|    Kelly|Houston-The Woodl...|Grenouilles Manti...|        NextSong|   PUT| free|\n",
      "|                NULL|    Kelly|Houston-The Woodl...|                NULL|            Home|   GET| free|\n",
      "|         The Killers|    Kelly|Houston-The Woodl...|               Bones|        NextSong|   PUT| free|\n",
      "|                NULL|    Kelly|Houston-The Woodl...|                NULL|            Home|   GET| free|\n",
      "|                NULL|    Kelly|Houston-The Woodl...|                NULL|Submit Downgrade|   PUT| paid|\n",
      "+--------------------+---------+--------------------+--------------------+----------------+------+-----+\n",
      "only showing top 5 rows\n",
      "\n"
     ]
    }
   ],
   "source": [
    "user_logs = df.filter(col(\"userId\") == '1138').orderBy(\"ts\")\n",
    "user_logs.select(\"artist\",\"firstName\",\"location\",\"song\",\"page\",\"method\",\"level\").show(5)\n",
    "user_logs.select(\"artist\",\"firstName\",\"location\",\"song\",\"page\",\"method\",\"level\").orderBy(desc(\"ts\")).show(5)\n"
   ]
  },
  {
   "cell_type": "markdown",
   "metadata": {},
   "source": [
    "This guy is from Houston and prefers rock music"
   ]
  },
  {
   "cell_type": "code",
   "execution_count": 15,
   "metadata": {},
   "outputs": [
    {
     "data": {
      "text/plain": [
       "[Row(artist='Gym Class Heroes', auth='Logged In', firstName='Judson', gender='M', itemInSession=11, lastName='Kim', length=233.45587, level='paid', location='Worcester, MA-CT', method='PUT', page='NextSong', registration=1510667861284, sessionId=7116, song='Viva La White Girl (Album Version)', status=200, ts=1513848303284, userAgent='\"Mozilla/5.0 (Windows NT 6.1; WOW64) AppleWebKit/537.36 (KHTML, like Gecko) Chrome/36.0.1985.143 Safari/537.36\"', userId='1103'),\n",
       " Row(artist='Black Eyed Peas', auth='Logged In', firstName='Zachary', gender='M', itemInSession=5, lastName='Bennett', length=289.12281, level='paid', location='Winston-Salem, NC', method='PUT', page='NextSong', registration=1511134405284, sessionId=1350, song='I Gotta Feeling', status=200, ts=1513848305284, userAgent='Mozilla/5.0 (Windows NT 6.1; WOW64; rv:31.0) Gecko/20100101 Firefox/31.0', userId='1351'),\n",
       " Row(artist='LMFAO', auth='Logged In', firstName='Oakley', gender='F', itemInSession=1, lastName='Baker', length=183.74485, level='free', location='Scranton--Wilkes-Barre--Hazleton, PA', method='PUT', page='NextSong', registration=1510535258284, sessionId=7014, song='Yes', status=200, ts=1513848316284, userAgent='\"Mozilla/5.0 (Macintosh; Intel Mac OS X 10_9_4) AppleWebKit/537.36 (KHTML, like Gecko) Chrome/37.0.2062.94 Safari/537.36\"', userId='480'),\n",
       " Row(artist='Led Zeppelin', auth='Logged In', firstName='Jazlean', gender='F', itemInSession=41, lastName='Watkins', length=190.40608, level='paid', location='Washington-Arlington-Alexandria, DC-VA-MD-WV', method='PUT', page='NextSong', registration=1501481074284, sessionId=4421, song='Tangerine  (Album Version)', status=200, ts=1513848349284, userAgent='Mozilla/5.0 (Windows NT 6.1; Trident/7.0; rv:11.0) like Gecko', userId='1881')]"
      ]
     },
     "execution_count": 15,
     "metadata": {},
     "output_type": "execute_result"
    }
   ],
   "source": [
    "df.columns\n",
    "df.head(4)\n",
    "df.tail(4)"
   ]
  },
  {
   "cell_type": "markdown",
   "metadata": {},
   "source": [
    "### 8. How many pages did the user with id “” (empty string) NOT visit, display the ."
   ]
  },
  {
   "cell_type": "code",
   "execution_count": 16,
   "metadata": {},
   "outputs": [
    {
     "name": "stdout",
     "output_type": "stream",
     "text": [
      "+----------------+\n",
      "|            page|\n",
      "+----------------+\n",
      "|Submit Downgrade|\n",
      "|       Downgrade|\n",
      "|          Logout|\n",
      "|   Save Settings|\n",
      "|        Settings|\n",
      "|        NextSong|\n",
      "|         Upgrade|\n",
      "|           Error|\n",
      "|  Submit Upgrade|\n",
      "+----------------+\n",
      "\n",
      "+-----+\n",
      "| page|\n",
      "+-----+\n",
      "| Home|\n",
      "|About|\n",
      "|Login|\n",
      "| Help|\n",
      "+-----+\n",
      "\n"
     ]
    }
   ],
   "source": [
    "from pyspark.sql.functions import lit\n",
    "\n",
    "# Get all unique pages\n",
    "all_pages = df.select(\"page\").distinct()\n",
    "\n",
    "# Get pages visited by the empty userId\n",
    "empty_user_pages = df.filter(col(\"userId\") == \"\").select(\"page\").distinct()\n",
    "\n",
    "# Find pages not visited by the empty userId\n",
    "pages_not_visited = all_pages.subtract(empty_user_pages)\n",
    "pages_not_visited.show()\n",
    "empty_user_pages.show()"
   ]
  },
  {
   "cell_type": "markdown",
   "metadata": {},
   "source": [
    "### 9. What type of user do you think this is?"
   ]
  },
  {
   "cell_type": "code",
   "execution_count": 17,
   "metadata": {
    "scrolled": true
   },
   "outputs": [
    {
     "name": "stdout",
     "output_type": "stream",
     "text": [
      "+-----+----------+------------+------+------+---------+----+\n",
      "|level|      auth|registration|method|status|userAgent|song|\n",
      "+-----+----------+------------+------+------+---------+----+\n",
      "| free|Logged Out|        NULL|   PUT|   307|     NULL|NULL|\n",
      "| paid|Logged Out|        NULL|   GET|   200|     NULL|NULL|\n",
      "| free|Logged Out|        NULL|   GET|   200|     NULL|NULL|\n",
      "| paid|Logged Out|        NULL|   GET|   200|     NULL|NULL|\n",
      "| paid|Logged Out|        NULL|   PUT|   307|     NULL|NULL|\n",
      "| free|Logged Out|        NULL|   PUT|   307|     NULL|NULL|\n",
      "| paid|Logged Out|        NULL|   GET|   200|     NULL|NULL|\n",
      "| paid|Logged Out|        NULL|   GET|   200|     NULL|NULL|\n",
      "| paid|Logged Out|        NULL|   PUT|   307|     NULL|NULL|\n",
      "| paid|Logged Out|        NULL|   GET|   200|     NULL|NULL|\n",
      "| paid|Logged Out|        NULL|   PUT|   307|     NULL|NULL|\n",
      "| paid|Logged Out|        NULL|   GET|   200|     NULL|NULL|\n",
      "| paid|Logged Out|        NULL|   GET|   200|     NULL|NULL|\n",
      "| paid|Logged Out|        NULL|   GET|   200|     NULL|NULL|\n",
      "| paid|Logged Out|        NULL|   PUT|   307|     NULL|NULL|\n",
      "| free|Logged Out|        NULL|   GET|   200|     NULL|NULL|\n",
      "| free|Logged Out|        NULL|   PUT|   307|     NULL|NULL|\n",
      "| free|Logged Out|        NULL|   GET|   200|     NULL|NULL|\n",
      "| free|Logged Out|        NULL|   PUT|   307|     NULL|NULL|\n",
      "| paid|Logged Out|        NULL|   GET|   200|     NULL|NULL|\n",
      "+-----+----------+------------+------+------+---------+----+\n",
      "only showing top 20 rows\n",
      "\n"
     ]
    }
   ],
   "source": [
    "empty_user_details = df.filter(col(\"userId\") == \"\").select(\"level\",\"auth\",\"registration\",\"method\",\"status\",\"userAgent\",\"song\").show()\n"
   ]
  },
  {
   "cell_type": "markdown",
   "metadata": {},
   "source": [
    "The empty userId typically corresponds to unauthenticated or anonymous users, such as those browsing without logging in as we see that the registeration is null for these users and they also have no access to the songs."
   ]
  },
  {
   "cell_type": "markdown",
   "metadata": {},
   "source": [
    "### 10. how many users of each type are present in the dataset?"
   ]
  },
  {
   "cell_type": "code",
   "execution_count": 18,
   "metadata": {},
   "outputs": [
    {
     "name": "stdout",
     "output_type": "stream",
     "text": [
      "+------+-----+\n",
      "|gender|count|\n",
      "+------+-----+\n",
      "|     F|  462|\n",
      "|  NULL|    1|\n",
      "|     M|  501|\n",
      "+------+-----+\n",
      "\n"
     ]
    }
   ],
   "source": [
    "gender_count = df.select(\"userId\", \"gender\").distinct().groupBy(\"gender\").count()\n",
    "gender_count.show()\n"
   ]
  },
  {
   "cell_type": "markdown",
   "metadata": {},
   "source": [
    "### 11. Visualiser la répartition, Y a-t-il une différence significative entre le nombre d'utilisateurs de chaque genre ?\n",
    "You can visualize this using matplotlib or seaborn after collecting the results:"
   ]
  },
  {
   "cell_type": "code",
   "execution_count": 19,
   "metadata": {},
   "outputs": [
    {
     "data": {
      "image/png": "[encoded data removed]",
      "text/plain": [
       "<Figure size 640x480 with 1 Axes>"
      ]
     },
     "metadata": {},
     "output_type": "display_data"
    }
   ],
   "source": [
    "import matplotlib.pyplot as plt\n",
    "\n",
    "gender_data = gender_count.collect()\n",
    "labels = [row['gender'] for row in gender_data] # or df.topandas because matplotlib understands pandas and not spark dataframe\n",
    "sizes = [row['count'] for row in gender_data]\n",
    "\n",
    "plt.pie(sizes, labels=labels, autopct='%1.1f%%')\n",
    "plt.title('Distribution of Users by Gender')\n",
    "plt.show()\n"
   ]
  },
  {
   "cell_type": "markdown",
   "metadata": {},
   "source": [
    "### 12. Quel est l'artiste le plus écouté dans le dataset et combien de fois ses chansons ont-elles été jouées ?\n",
    "Group by artist and count the occurrences:"
   ]
  },
  {
   "cell_type": "code",
   "execution_count": 20,
   "metadata": {
    "scrolled": true
   },
   "outputs": [
    {
     "name": "stdout",
     "output_type": "stream",
     "text": [
      "+--------------------+-----+\n",
      "|              artist|count|\n",
      "+--------------------+-----+\n",
      "|            Coldplay|   83|\n",
      "|       Kings Of Leon|   69|\n",
      "|Florence + The Ma...|   52|\n",
      "|            BjÃÂ¶rk|   46|\n",
      "|       Dwight Yoakam|   45|\n",
      "|       Justin Bieber|   43|\n",
      "|      The Black Keys|   40|\n",
      "|         OneRepublic|   37|\n",
      "|        Jack Johnson|   36|\n",
      "|                Muse|   36|\n",
      "|           Radiohead|   31|\n",
      "|        Taylor Swift|   29|\n",
      "|          Lily Allen|   28|\n",
      "|Barry Tuckwell/Ac...|   28|\n",
      "|               Train|   28|\n",
      "|           Daft Punk|   27|\n",
      "|          Nickelback|   27|\n",
      "|           Metallica|   27|\n",
      "|          Kanye West|   26|\n",
      "|          John Mayer|   24|\n",
      "+--------------------+-----+\n",
      "only showing top 20 rows\n",
      "\n"
     ]
    }
   ],
   "source": [
    "top_artist = df.filter(col(\"page\") == \"NextSong\").groupBy(\"artist\").count().orderBy(desc(\"count\")) # by adding filter by nextpage we focus on the songs most heard during suggestion\n",
    "top_artist.show()\n"
   ]
  },
  {
   "cell_type": "markdown",
   "metadata": {},
   "source": [
    "### 13. Combien de chansons différentes ont été jouées dans l'ensemble des logs ?\n",
    "How many unique songs have been played across all the logs?"
   ]
  },
  {
   "cell_type": "code",
   "execution_count": 25,
   "metadata": {},
   "outputs": [
    {
     "name": "stdout",
     "output_type": "stream",
     "text": [
      "Number of unique songs played: 6125\n",
      "+--------------------+\n",
      "|count(DISTINCT song)|\n",
      "+--------------------+\n",
      "|                6125|\n",
      "+--------------------+\n",
      "\n"
     ]
    }
   ],
   "source": [
    "from pyspark.sql.functions import countDistinct\n",
    "\n",
    "# Count distinct songs\n",
    "unique_songs_count = df.select(countDistinct(\"song\")).collect()[0][0]\n",
    "print(f\"Number of unique songs played: {unique_songs_count}\")\n",
    "unique_songs_count = df.select(countDistinct(\"song\")).show()"
   ]
  },
  {
   "cell_type": "markdown",
   "metadata": {},
   "source": [
    "## 14. Visualiser le nombre de chansons jouées par heure,  À quelle heure de la journée les utilisateurs écoutent-ils le plus de chansons ?\n",
    "Visualize the number of songs played per hour: At what time of the day do users listen to the most songs?( to find number of songs being place at each hour in the day)"
   ]
  },
  {
   "cell_type": "code",
   "execution_count": 32,
   "metadata": {},
   "outputs": [
    {
     "ename": "AttributeError",
     "evalue": "'int' object has no attribute 'collect'",
     "output_type": "error",
     "traceback": [
      "\u001b[0;31m---------------------------------------------------------------------------\u001b[0m",
      "\u001b[0;31mAttributeError\u001b[0m                            Traceback (most recent call last)",
      "Cell \u001b[0;32mIn[32], line 1\u001b[0m\n\u001b[0;32m----> 1\u001b[0m filter_df \u001b[38;5;241m=\u001b[39m \u001b[43mdf\u001b[49m\u001b[38;5;241;43m.\u001b[39;49m\u001b[43mfilter\u001b[49m\u001b[43m(\u001b[49m\u001b[43mcol\u001b[49m\u001b[43m(\u001b[49m\u001b[38;5;124;43m\"\u001b[39;49m\u001b[38;5;124;43mpage\u001b[39;49m\u001b[38;5;124;43m\"\u001b[39;49m\u001b[43m)\u001b[49m\u001b[43m \u001b[49m\u001b[38;5;241;43m==\u001b[39;49m\u001b[43m \u001b[49m\u001b[38;5;124;43m\"\u001b[39;49m\u001b[38;5;124;43mNextSong\u001b[39;49m\u001b[38;5;124;43m\"\u001b[39;49m\u001b[43m)\u001b[49m\u001b[38;5;241;43m.\u001b[39;49m\u001b[43mcount\u001b[49m\u001b[43m(\u001b[49m\u001b[43m)\u001b[49m\u001b[38;5;241;43m.\u001b[39;49m\u001b[43mcollect\u001b[49m()\n",
      "\u001b[0;31mAttributeError\u001b[0m: 'int' object has no attribute 'collect'"
     ]
    }
   ],
   "source": [
    "filter_df = df.filter(col(\"page\") == \"NextSong\").count()"
   ]
  },
  {
   "cell_type": "code",
   "execution_count": 28,
   "metadata": {},
   "outputs": [
    {
     "ename": "AttributeError",
     "evalue": "'NoneType' object has no attribute 'withColumn'",
     "output_type": "error",
     "traceback": [
      "\u001b[0;31m---------------------------------------------------------------------------\u001b[0m",
      "\u001b[0;31mAttributeError\u001b[0m                            Traceback (most recent call last)",
      "Cell \u001b[0;32mIn[28], line 7\u001b[0m\n\u001b[1;32m      1\u001b[0m \u001b[38;5;28;01mfrom\u001b[39;00m \u001b[38;5;21;01mpyspark\u001b[39;00m\u001b[38;5;21;01m.\u001b[39;00m\u001b[38;5;21;01msql\u001b[39;00m\u001b[38;5;21;01m.\u001b[39;00m\u001b[38;5;21;01mfunctions\u001b[39;00m \u001b[38;5;28;01mimport\u001b[39;00m hour, col\n\u001b[1;32m      3\u001b[0m \u001b[38;5;66;03m# Extract hour from timestamp and count the songs played per hour(Time stamp gives you all the time a user spends all the time on the music app if we\u001b[39;00m\n\u001b[1;32m      4\u001b[0m \u001b[38;5;66;03m# filter it by \"nextpage\" we can focus on the time spent for listning songs\"\u001b[39;00m\n\u001b[0;32m----> 7\u001b[0m songs_per_hour \u001b[38;5;241m=\u001b[39m \u001b[43mfilter_df\u001b[49m\u001b[38;5;241;43m.\u001b[39;49m\u001b[43mwithColumn\u001b[49m(\u001b[38;5;124m\"\u001b[39m\u001b[38;5;124mhour\u001b[39m\u001b[38;5;124m\"\u001b[39m, hour((col(\u001b[38;5;124m\"\u001b[39m\u001b[38;5;124mts\u001b[39m\u001b[38;5;124m\"\u001b[39m)\u001b[38;5;241m/\u001b[39m\u001b[38;5;241m1000\u001b[39m)\u001b[38;5;241m.\u001b[39mcast(\u001b[38;5;124m\"\u001b[39m\u001b[38;5;124mtimestamp\u001b[39m\u001b[38;5;124m\"\u001b[39m))) \\\n\u001b[1;32m      8\u001b[0m                    \u001b[38;5;241m.\u001b[39mgroupBy(\u001b[38;5;124m\"\u001b[39m\u001b[38;5;124mhour\u001b[39m\u001b[38;5;124m\"\u001b[39m) \\\n\u001b[1;32m      9\u001b[0m                    \u001b[38;5;241m.\u001b[39mcount() \\\n\u001b[1;32m     10\u001b[0m                    \u001b[38;5;241m.\u001b[39morderBy(\u001b[38;5;124m\"\u001b[39m\u001b[38;5;124mhour\u001b[39m\u001b[38;5;124m\"\u001b[39m)\n\u001b[1;32m     12\u001b[0m songs_per_hour\u001b[38;5;241m.\u001b[39mshow()\n\u001b[1;32m     14\u001b[0m \u001b[38;5;66;03m# Visualization with matplotlib\u001b[39;00m\n",
      "\u001b[0;31mAttributeError\u001b[0m: 'NoneType' object has no attribute 'withColumn'"
     ]
    }
   ],
   "source": [
    "from pyspark.sql.functions import hour, col\n",
    "\n",
    "# Extract hour from timestamp and count the songs played per hour(Time stamp gives you all the time a user spends all the time on the music app if we\n",
    "# filter it by \"nextpage\" we can focus on the time spent for listning songs\"\n",
    "\n",
    "\n",
    "songs_per_hour = filter_df.withColumn(\"hour\", hour((col(\"ts\")/1000).cast(\"timestamp\"))) \\\n",
    "                   .groupBy(\"hour\") \\\n",
    "                   .count() \\\n",
    "                   .orderBy(\"hour\")\n",
    "\n",
    "songs_per_hour.show()\n",
    "\n",
    "# Visualization with matplotlib\n",
    "import matplotlib.pyplot as plt\n",
    "\n",
    "pandas_df = songs_per_hour.toPandas()\n",
    "plt.bar(pandas_df['hour'], pandas_df['count'])\n",
    "plt.xlabel('Hour of the day')\n",
    "plt.ylabel('Number of songs played')\n",
    "plt.title('Number of songs played per hour')\n",
    "plt.show()\n"
   ]
  },
  {
   "cell_type": "markdown",
   "metadata": {},
   "source": [
    "### 15. Trouver les utilisateurs qui ont fait des upgrade et downgrade de leur abonnement?\n",
    "\n",
    "(we can identify users who have either upgraded or downgraded their subscription by checking for changes in the level column)\n"
   ]
  },
  {
   "cell_type": "code",
   "execution_count": 31,
   "metadata": {},
   "outputs": [
    {
     "name": "stdout",
     "output_type": "stream",
     "text": [
      "+------+-----+-------------+\n",
      "|userId|level|           ts|\n",
      "+------+-----+-------------+\n",
      "|  1079| free|1513749216284|\n",
      "|  1138| paid|1513768454284|\n",
      "|  1232| free|1513739104284|\n",
      "|  1374| free|1513793239284|\n",
      "|  1869| free|1513781766284|\n",
      "|  2081| free|1513783320284|\n",
      "|  2359| free|1513825672284|\n",
      "|  2652| free|1513788509284|\n",
      "|  2713| free|1513814900284|\n",
      "|   512| free|1513730197284|\n",
      "|   540| free|1513753826284|\n",
      "+------+-----+-------------+\n",
      "\n",
      "+------+\n",
      "|userId|\n",
      "+------+\n",
      "|   512|\n",
      "|  1079|\n",
      "|  1232|\n",
      "|  2359|\n",
      "|  1138|\n",
      "|  2713|\n",
      "|   540|\n",
      "|  1869|\n",
      "|  1374|\n",
      "|  2652|\n",
      "|  2081|\n",
      "+------+\n",
      "\n"
     ]
    }
   ],
   "source": [
    "df_up_down = df.filter(col(\"page\").isin(\"Submit Downgrade\", \"Submit Upgrade\")) \\\n",
    "               .select(\"userId\", \"level\", \"ts\") \\\n",
    "               .orderBy(\"userId\", \"ts\")\n",
    "\n",
    "df_up_down.show()\n",
    "\n",
    "# Identify users who have changed their level (both free and paid levels present)\n",
    "users_with_changes = df_up_down.groupBy(\"userId\").agg(countDistinct(\"level\").alias(\"distinct_levels\")) \\\n",
    "                               .filter(col(\"distinct_levels\") >= 1) \\\n",
    "                               .select(\"userId\")\n",
    "\n",
    "users_with_changes.show()\n",
    "\n"
   ]
  },
  {
   "cell_type": "markdown",
   "metadata": {
    "jp-MarkdownHeadingCollapsed": true
   },
   "source": [
    "\n",
    "16. Créer une vue temporaire répondre avec des requêtes SQL aux questions suivantes:\n",
    "\n",
    " a- Afficher les 3 premiers logs de l'utilisateur d'id 1046\n",
    " \n",
    " b- Trouver les pages que les utilisateurs ayant empty userID ont visité\n",
    " \n",
    " c- Combien de chansons ont été jouées par l'artiste le plus joué \n",
    "17. Proposer un axe d'analyse de votre choix ?\n"
   ]
  },
  {
   "cell_type": "code",
   "execution_count": 35,
   "metadata": {},
   "outputs": [],
   "source": [
    "# Creating temporary view\n",
    "df.createOrReplaceTempView(\"logs\")\n"
   ]
  },
  {
   "cell_type": "code",
   "execution_count": 38,
   "metadata": {},
   "outputs": [
    {
     "name": "stdout",
     "output_type": "stream",
     "text": [
      "+-------------+---------+--------------------+-------------+--------------------+\n",
      "|       artist|firstName|            location| registration|           userAgent|\n",
      "+-------------+---------+--------------------+-------------+--------------------+\n",
      "|Showaddywaddy|  Kenneth|Charlotte-Concord...|1509380319284|\"Mozilla/5.0 (Win...|\n",
      "|Darius Rucker|  Kenneth|Charlotte-Concord...|1509380319284|\"Mozilla/5.0 (Win...|\n",
      "| Public Enemy|  Kenneth|Charlotte-Concord...|1509380319284|\"Mozilla/5.0 (Win...|\n",
      "+-------------+---------+--------------------+-------------+--------------------+\n",
      "\n"
     ]
    }
   ],
   "source": [
    "# Example 1: Display the first 3 logs for the user with userId 1046\n",
    "spark.sql(\"\"\"\n",
    "    SELECT artist, firstName, location, registration, userAgent  FROM logs \n",
    "    WHERE userId = '1046' \n",
    "    ORDER BY ts \n",
    "    LIMIT 3\n",
    "\"\"\").show()\n"
   ]
  },
  {
   "cell_type": "code",
   "execution_count": 39,
   "metadata": {},
   "outputs": [
    {
     "name": "stdout",
     "output_type": "stream",
     "text": [
      "+-----+\n",
      "| page|\n",
      "+-----+\n",
      "| Home|\n",
      "|About|\n",
      "|Login|\n",
      "| Help|\n",
      "+-----+\n",
      "\n"
     ]
    }
   ],
   "source": [
    "# Example 2: Find the pages visited by users with an empty userId\n",
    "spark.sql(\"\"\"\n",
    "    SELECT DISTINCT page \n",
    "    FROM logs \n",
    "    WHERE userId = ''\n",
    "\"\"\").show()\n"
   ]
  },
  {
   "cell_type": "code",
   "execution_count": 40,
   "metadata": {},
   "outputs": [
    {
     "name": "stdout",
     "output_type": "stream",
     "text": [
      "+----------+\n",
      "|song_count|\n",
      "+----------+\n",
      "|        83|\n",
      "+----------+\n",
      "\n"
     ]
    }
   ],
   "source": [
    "# Example 3: How many songs were played by the most played artist?\n",
    "spark.sql(\"\"\"\n",
    "    WITH artist_counts AS (\n",
    "        SELECT artist, COUNT(*) AS song_count\n",
    "        FROM logs\n",
    "        WHERE artist IS NOT NULL\n",
    "        GROUP BY artist\n",
    "        ORDER BY song_count DESC\n",
    "        LIMIT 1\n",
    "    )\n",
    "    SELECT song_count FROM artist_counts\n",
    "\"\"\").show()"
   ]
  },
  {
   "cell_type": "markdown",
   "metadata": {},
   "source": [
    "### 17. Proposer un axe d'analyse de votre choix ?\n",
    "\n",
    "We can analyse the songs most played during the night time between (00:00 am until 3:00 am)\n",
    "\n",
    "Steps:\n",
    "Extract the hour from the timestamp.\n",
    "Filter the logs to keep only those within the specified time range (12:00 AM to 3:00 AM).\n",
    "Group by the song title and count the occurrences to find the most played songs.\n",
    "Visualize the results using a bar chart.\n"
   ]
  },
  {
   "cell_type": "code",
   "execution_count": 41,
   "metadata": {},
   "outputs": [
    {
     "name": "stdout",
     "output_type": "stream",
     "text": [
      "+--------------------+---------+---------+------+-------------+---------+---------+-----+--------------------+------+--------+-------------+---------+--------------------+------+-------------+--------------------+------+\n",
      "|              artist|     auth|firstName|gender|itemInSession| lastName|   length|level|            location|method|    page| registration|sessionId|                song|status|           ts|           userAgent|userId|\n",
      "+--------------------+---------+---------+------+-------------+---------+---------+-----+--------------------+------+--------+-------------+---------+--------------------+------+-------------+--------------------+------+\n",
      "|       Showaddywaddy|Logged In|  Kenneth|     M|          112| Matthews|232.93342| paid|Charlotte-Concord...|   PUT|NextSong|1509380319284|     5132|Christmas Tears W...|   200|1513720872284|\"Mozilla/5.0 (Win...|  1046|\n",
      "|          Lily Allen|Logged In|Elizabeth|     F|            7|    Chase|195.23873| free|Shreveport-Bossie...|   PUT|NextSong|1512718541284|     5027|       Cheryl Tweedy|   200|1513720878284|\"Mozilla/5.0 (Win...|  1000|\n",
      "|Cobra Starship Fe...|Logged In|     Vera|     F|            6|Blackwell|196.20526| paid|          Racine, WI|   PUT|NextSong|1499855749284|     5516|Good Girls Go Bad...|   200|1513720881284|\"Mozilla/5.0 (Mac...|  2219|\n",
      "+--------------------+---------+---------+------+-------------+---------+---------+-----+--------------------+------+--------+-------------+---------+--------------------+------+-------------+--------------------+------+\n",
      "\n"
     ]
    }
   ],
   "source": [
    "spark.sql(\"\"\"\n",
    "    SELECT *  FROM logs \n",
    "    ORDER BY ts \n",
    "    LIMIT 3\n",
    "\"\"\").show()"
   ]
  },
  {
   "cell_type": "code",
   "execution_count": 54,
   "metadata": {},
   "outputs": [
    {
     "name": "stdout",
     "output_type": "stream",
     "text": [
      "+----+--------------------+\n",
      "|hour|                song|\n",
      "+----+--------------------+\n",
      "|  22|Christmas Tears W...|\n",
      "|  22|       Cheryl Tweedy|\n",
      "|  22|Good Girls Go Bad...|\n",
      "|  22| Don't See The Point|\n",
      "|  22|                NULL|\n",
      "|  22|                NULL|\n",
      "|  22|        Smoke Buddah|\n",
      "|  22|           On My Own|\n",
      "|  22|                NULL|\n",
      "|  22|                NULL|\n",
      "|  22|Heart Of The City...|\n",
      "|  22|    Bring Me To Life|\n",
      "|  22|               Laura|\n",
      "|  22|    Here Without You|\n",
      "|  22|This Old House w/...|\n",
      "|  22|Follow Me (Club Mix)|\n",
      "|  22|                NULL|\n",
      "|  22|                Undo|\n",
      "|  22|Sheebeg And Sheemore|\n",
      "|  22|Far Away (Album V...|\n",
      "+----+--------------------+\n",
      "only showing top 20 rows\n",
      "\n"
     ]
    }
   ],
   "source": [
    "# Extract the hour from the timestamp\n",
    "df_with_hour = df.withColumn(\"hour\", hour((col(\"ts\")/1000).cast(\"timestamp\")))\n",
    "df_with_hour.select(\"hour\",\"song\").show()"
   ]
  },
  {
   "cell_type": "code",
   "execution_count": 55,
   "metadata": {},
   "outputs": [
    {
     "name": "stdout",
     "output_type": "stream",
     "text": [
      "+----+--------------------+\n",
      "|hour|                song|\n",
      "+----+--------------------+\n",
      "|   0|             Mumbles|\n",
      "|   0|Television Rules ...|\n",
      "|   0|                Stay|\n",
      "|   0|  Friend Of A Friend|\n",
      "|   0|           Potential|\n",
      "|   0|  Soul Of A Vagabond|\n",
      "|   0|             Fix You|\n",
      "|   0|  Lively Up Yourself|\n",
      "|   0|                NULL|\n",
      "|   0|      Garden Of Eden|\n",
      "|   0|                NULL|\n",
      "|   0|Praise You In Thi...|\n",
      "|   0|Moron Brothers (l...|\n",
      "|   0|                NULL|\n",
      "|   0|             Fix You|\n",
      "|   0|When This World F...|\n",
      "|   0|Left With Alibis ...|\n",
      "|   0|      Stupid In Love|\n",
      "|   0|I Need You (Album...|\n",
      "|   0|Moving Forward (f...|\n",
      "+----+--------------------+\n",
      "only showing top 20 rows\n",
      "\n"
     ]
    }
   ],
   "source": [
    "# Filter for logs between 12:00 AM and 3:00 AM\n",
    "night_time_df = df_with_hour.filter((col(\"hour\") >= 0) & (col(\"hour\") < 3))\n",
    "night_time_df.select(\"hour\",\"song\").show()"
   ]
  },
  {
   "cell_type": "code",
   "execution_count": 49,
   "metadata": {
    "scrolled": true
   },
   "outputs": [
    {
     "name": "stdout",
     "output_type": "stream",
     "text": [
      "+----------------+-----+\n",
      "|song            |count|\n",
      "+----------------+-----+\n",
      "|NULL            |238  |\n",
      "|Undo            |10   |\n",
      "|You're The One  |8    |\n",
      "|Revelry         |5    |\n",
      "|Use Somebody    |5    |\n",
      "|Invalid         |4    |\n",
      "|Ain't Misbehavin|4    |\n",
      "|Fuck Kitty      |4    |\n",
      "|Stronger        |3    |\n",
      "|Love Story      |3    |\n",
      "+----------------+-----+\n",
      "only showing top 10 rows\n",
      "\n"
     ]
    }
   ],
   "source": [
    "# Group by song and count the occurrences\n",
    "songs_count = night_time_df.groupBy(\"song\").count().orderBy(col(\"count\").desc())\n",
    "\n",
    "# Show the top 10 most played songs during the night time\n",
    "songs_count.show(10, truncate=False)\n"
   ]
  },
  {
   "cell_type": "code",
   "execution_count": 56,
   "metadata": {},
   "outputs": [],
   "source": [
    "# Filter out rows where the song column is NULL\n",
    "filtered_night_time_df = night_time_df.filter(col(\"song\").isNotNull())\n"
   ]
  },
  {
   "cell_type": "code",
   "execution_count": 57,
   "metadata": {},
   "outputs": [
    {
     "name": "stdout",
     "output_type": "stream",
     "text": [
      "+----------------+-----+\n",
      "|song            |count|\n",
      "+----------------+-----+\n",
      "|Undo            |10   |\n",
      "|You're The One  |8    |\n",
      "|Use Somebody    |5    |\n",
      "|Revelry         |5    |\n",
      "|Ain't Misbehavin|4    |\n",
      "|Invalid         |4    |\n",
      "|Fuck Kitty      |4    |\n",
      "|Stronger        |3    |\n",
      "|Love Story      |3    |\n",
      "|Hello           |3    |\n",
      "+----------------+-----+\n",
      "only showing top 10 rows\n",
      "\n"
     ]
    }
   ],
   "source": [
    "# Group by song and count the occurrences after filtering out NULLs\n",
    "songs_count = filtered_night_time_df.groupBy(\"song\").count().orderBy(col(\"count\").desc())\n",
    "\n",
    "# Show the top 10 most played songs during the night time\n",
    "songs_count.show(10, truncate=False)\n"
   ]
  },
  {
   "cell_type": "code",
   "execution_count": 58,
   "metadata": {},
   "outputs": [
    {
     "name": "stderr",
     "output_type": "stream",
     "text": [
      "/opt/conda/lib/python3.11/site-packages/IPython/core/pylabtools.py:170: UserWarning: Glyph 131 (\\x83) missing from font(s) DejaVu Sans.\n",
      "  fig.canvas.print_figure(bytes_io, **kw)\n"
     ]
    },
    {
     "data": {
      "image/png": "[encoded data removed]",
      "text/plain": [
       "<Figure size 1000x600 with 1 Axes>"
      ]
     },
     "metadata": {},
     "output_type": "display_data"
    }
   ],
   "source": [
    "import matplotlib.pyplot as plt\n",
    "\n",
    "# Convert the DataFrame to Pandas for visualization\n",
    "songs_pandas_df = songs_count.limit(10).toPandas()\n",
    "\n",
    "# Plotting the data\n",
    "plt.figure(figsize=(10, 6))\n",
    "plt.barh(songs_pandas_df['song'], songs_pandas_df['count'], color='skyblue')\n",
    "plt.xlabel('Number of Plays')\n",
    "plt.ylabel('Song')\n",
    "plt.title('Top 10 Most Played Songs Between 12:00 AM and 3:00 AM')\n",
    "plt.gca().invert_yaxis()  # Invert the y-axis to have the most played song at the top\n",
    "plt.show()\n"
   ]
  },
  {
   "cell_type": "code",
   "execution_count": null,
   "metadata": {},
   "outputs": [],
   "source": []
  }
 ],
 "metadata": {
  "kernelspec": {
   "display_name": "Python 3 (ipykernel)",
   "language": "python",
   "name": "python3"
  },
  "language_info": {
   "codemirror_mode": {
    "name": "ipython",
    "version": 3
   },
   "file_extension": ".py",
   "mimetype": "text/x-python",
   "name": "python",
   "nbconvert_exporter": "python",
   "pygments_lexer": "ipython3",
   "version": "3.11.9"
  },
  "toc": {
   "base_numbering": 1,
   "nav_menu": {},
   "number_sections": true,
   "sideBar": true,
   "skip_h1_title": true,
   "title_cell": "Table of Contents",
   "title_sidebar": "Contents",
   "toc_cell": false,
   "toc_position": {
    "height": "calc(100% - 180px)",
    "left": "10px",
    "top": "150px",
    "width": "165px"
   },
   "toc_section_display": true,
   "toc_window_display": true
  }
 },
 "nbformat": 4,
 "nbformat_minor": 4
}
