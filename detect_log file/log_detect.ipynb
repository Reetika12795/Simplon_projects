{
 "cells": [
  {
   "cell_type": "code",
   "execution_count": 2,
   "id": "4d78bfd7-dffa-4dd3-b3c5-9f2c7a56a60a",
   "metadata": {},
   "outputs": [
    {
     "name": "stdout",
     "output_type": "stream",
     "text": [
      "3373\n"
     ]
    }
   ],
   "source": [
    "# Scan the file for a list of all users who have logged on, and save this list in a users.txt file\n",
    "log_list = []\n",
    "users = set()\n",
    "with open(\"connexion.log\", 'r') as f: #to create list of all unique users\n",
    "    for line in f:\n",
    "        users.add(line.split(\";\")[1])\n",
    "        log_list.append(line.split(\";\"))\n",
    "    print(len(users))\n",
    "\n",
    "with open('users.txt', 'w') as f:#to write the list into users.txt\n",
    "    for line in users:\n",
    "        f.write(f\"{line}\\n\")"
   ]
  },
  {
   "cell_type": "code",
   "execution_count": 3,
   "id": "13c93dbe-841d-485e-8e1a-3999698a4c22",
   "metadata": {},
   "outputs": [
    {
     "name": "stdout",
     "output_type": "stream",
     "text": [
      "39\n"
     ]
    }
   ],
   "source": [
    "#We suspect that someone is logging in outside office hours (8am-7pm),perhaps from a remote workstation. Use a script to find this person's identifier and the ip\n",
    "#and the ip they were connecting to.\n",
    "\n",
    "suspect = []\n",
    "for line in log_list: #create list of users from connection.log who are likely to be suspect(filter by time)\n",
    "    time = line[2].split()[1]\n",
    "    time_in_int = int(time.split(\":\")[0]) \n",
    "    # print(int(time.split(\":\")[0]))\n",
    "    # print(time_in_int)\n",
    "    if time_in_int < 8 or time_in_int > 19:\n",
    "        suspect.append([line[1],line[0]])\n",
    "print(len(suspect))    \n"
   ]
  },
  {
   "cell_type": "code",
   "execution_count": 4,
   "id": "3141e0d2-7aac-4cdb-8977-ff17b5c62b35",
   "metadata": {},
   "outputs": [
    {
     "data": {
      "text/plain": [
       "datetime.datetime(2024, 6, 26, 14, 36, 48, 981604)"
      ]
     },
     "execution_count": 4,
     "metadata": {},
     "output_type": "execute_result"
    }
   ],
   "source": [
    "date.today()\n",
    "datetime.now()\n"
   ]
  },
  {
   "cell_type": "code",
   "execution_count": 5,
   "id": "3b49862f-c608-45b1-8906-d51c4175f880",
   "metadata": {},
   "outputs": [
    {
     "name": "stdout",
     "output_type": "stream",
     "text": [
      "['92.63.87.106', '92.63.87.134', '92.63.87.48', '92.63.87.53', '93.170.104.127', '93.170.123.119', '93.170.123.185', '93.170.123.60', '93.170.131.108', '93.170.169.52', '94.242.57.45']\n"
     ]
    }
   ],
   "source": [
    "#The IT security department has provided a file containing dangerous ips: warning.txt. Read this file to build a list containing all dangerous ip.\n",
    "#Using this list, record in the connexion.log file all users who have connected to one of these ip\n",
    "#one of these IP, you'll produce a suspect.txt file with one line for each user and the number of times he or she\n",
    "#connected to a prohibited IP\n",
    "\n",
    "dangerous_ip = []\n",
    "with open(\"warning.txt\", 'r') as f: #to extract list of dangerous ip\n",
    "    for line in f:\n",
    "        dangerous_ip.append(line.strip())\n",
    "    print(dangerous_ip)\n"
   ]
  },
  {
   "cell_type": "code",
   "execution_count": 68,
   "id": "b8c7090e-0559-42ac-b9a0-8c3e05e3871e",
   "metadata": {},
   "outputs": [
    {
     "name": "stdout",
     "output_type": "stream",
     "text": [
      "161\n"
     ]
    }
   ],
   "source": [
    "\n",
    "list_of_attackers = []\n",
    "for record in log_list: #to find list attackers name and Ip from connection.log that matches dangerous ips \n",
    "    # print(record[0])\n",
    "    for danger in dangerous_ip:\n",
    "        if record[0] == danger:\n",
    "            list_of_attackers.append([record[0],record[1]])\n",
    "\n",
    "print(len(list_of_attackers))\n",
    "            "
   ]
  },
  {
   "cell_type": "code",
   "execution_count": 67,
   "id": "340443fc-6864-4f33-8d0b-f1e271fb8f95",
   "metadata": {},
   "outputs": [
    {
     "name": "stdout",
     "output_type": "stream",
     "text": [
      "[('forefinger', 1), ('clumsy', 1), ('pileum', 1), ('antipathetic', 1), ('lushy', 1), ('stila', 1), ('calix', 1), ('disposed', 1), ('ultramundane', 1), ('cedric', 1), ('monetta', 1), ('kab', 1), ('cystitis', 1), ('quinby', 1), ('derision', 1), ('marler', 1), ('lazarus', 1), ('greco', 1), ('brazen', 1), ('dartmouth', 1), ('selfseeker', 1), ('outlive', 1), ('incongruent', 1), ('shore', 1), ('gothart', 1), ('heid', 1), ('nyaya', 1), ('clair', 1), ('corkwood', 1), ('vagrancy', 1), ('milepost', 1), ('while', 1), ('spearing', 1), ('throat', 1), ('prouty', 1), ('rimbaud', 1), ('atlee', 1), ('turnpike', 1), ('maxillary', 1), ('romance', 1), ('eberta', 1), ('maricela', 1), ('counterpunch', 1), ('elora', 1), ('trona', 1), ('giselle', 1), ('nagel', 1), ('kodok', 1), ('grass', 1), ('photoconductivity', 1), ('halstead', 1), ('miculek', 1), ('aland', 1), ('huntington', 1), ('stelmach', 1), ('serafinaserafine', 1), ('puddling', 1), ('arrears', 1), ('mistook', 1), ('hosbein', 1), ('leake', 1), ('panocha', 1), ('orchard', 1), ('norrisnorrv', 1), ('joey', 1), ('cushitic', 1), ('tinstone', 1), ('luxurious', 1), ('dense', 1), ('furlough', 1), ('soloist', 1), ('spectacles', 1), ('noami', 1), ('fraase', 1), ('disabuse', 1), ('abdominal', 1), ('vasectomy', 1), ('mario', 1), ('cerebration', 1), ('joly', 1), ('coit', 1), ('mesitylene', 1), ('stutter', 1), ('ireful', 1), ('drypoint', 1), ('wilheminawilhide', 1), ('alexandro', 1), ('overelaborate', 1), ('mather', 1), ('allodial', 1), ('godown', 1), ('directed', 1), ('toledo', 1), ('enoch', 1), ('leeann', 1), ('pomology', 1), ('weeks', 1), ('airhead', 1), ('imponderabilia', 1), ('reconciliatory', 1), ('letti', 1), ('valediction', 1), ('lido', 1), ('stilla', 1), ('ashia', 1), ('hoffmann', 1), ('ballentine', 1), ('ame', 1), ('resht', 1), ('broom', 1), ('fairyfairyland', 1), ('buckshee', 1), ('funnelform', 1), ('culverin', 1), ('cincture', 1), ('pisistratus', 46)]\n"
     ]
    }
   ],
   "source": [
    "#to find unique users attacking the ip\n",
    "attack_counts = {}\n",
    "for ip in dangerous_ip: #to find the list of names and the time they try to access dangerous ip\n",
    "    for attacker in list_of_attackers:\n",
    "        if attacker[0] == ip:\n",
    "            user = attacker[1]\n",
    "            if user in attack_counts:\n",
    "                attack_counts[user] += 1\n",
    "            else:\n",
    "                attack_counts[user] = 1\n",
    "                \n",
    "sorted_attack_counts = sorted(attack_counts.items(), key=lambda kv: kv[1])\n",
    "print(sorted_attack_counts)\n",
    "    "
   ]
  },
  {
   "cell_type": "code",
   "execution_count": 66,
   "id": "54251fdc-40f8-4593-bd2a-6d9c699e1e07",
   "metadata": {},
   "outputs": [],
   "source": [
    "with open('suspect.txt', 'w') as f:\n",
    "    for line in sorted_attack_counts:\n",
    "        f.write(f\"{line}\\n\")"
   ]
  },
  {
   "cell_type": "code",
   "execution_count": 123,
   "id": "26d18357-ac1a-4145-acc5-29794e48d672",
   "metadata": {},
   "outputs": [],
   "source": []
  },
  {
   "cell_type": "code",
   "execution_count": null,
   "id": "f9112e12-95da-49b0-89dc-8d25e1508237",
   "metadata": {},
   "outputs": [],
   "source": []
  }
 ],
 "metadata": {
  "kernelspec": {
   "display_name": "Python 3 (ipykernel)",
   "language": "python",
   "name": "python3"
  },
  "language_info": {
   "codemirror_mode": {
    "name": "ipython",
    "version": 3
   },
   "file_extension": ".py",
   "mimetype": "text/x-python",
   "name": "python",
   "nbconvert_exporter": "python",
   "pygments_lexer": "ipython3",
   "version": "3.12.1"
  }
 },
 "nbformat": 4,
 "nbformat_minor": 5
}
