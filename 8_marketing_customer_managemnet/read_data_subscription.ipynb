{
 "cells": [
  {
   "cell_type": "code",
   "execution_count": 2,
   "metadata": {},
   "outputs": [],
   "source": [
    "import pandas as pd"
   ]
  },
  {
   "cell_type": "code",
   "execution_count": 6,
   "metadata": {},
   "outputs": [
    {
     "name": "stderr",
     "output_type": "stream",
     "text": [
      "C:\\Users\\reegauta\\AppData\\Local\\Temp\\ipykernel_6332\\1520839894.py:1: DtypeWarning: Columns (124,126,127,128) have mixed types. Specify dtype option on import or set low_memory=False.\n",
      "  df = pd.read_csv('av_souscriptions.csv', delimiter=';')  # Replace ';' with the correct delimiter\n"
     ]
    },
    {
     "data": {
      "text/plain": [
       "Index(['id_souscription', 'cd_client', 'cd_client_a_date', 'id_logement',\n",
       "       'id_contact', 'id_contrat', 'cd_contrat', 'id_conversation_pc',\n",
       "       'fg_client', 'fg_contrat',\n",
       "       ...\n",
       "       'id_ref_vente_externe', 'id_vendeur_partenaire', 'cd_raison_incomplet',\n",
       "       'lb_raison_incomplet', 'cd_type_parcours_souscription',\n",
       "       'lb_type_parcours_souscription', 'fg_rib_renseigne_pre_contrat',\n",
       "       'cd_etat_souscription', 'lb_etat_souscription', 'mt_ca_brut'],\n",
       "      dtype='object', length=135)"
      ]
     },
     "execution_count": 6,
     "metadata": {},
     "output_type": "execute_result"
    }
   ],
   "source": [
    "df = pd.read_csv('av_souscriptions.csv', delimiter=';')  # Replace ';' with the correct delimiter\n",
    "df.columns"
   ]
  },
  {
   "cell_type": "code",
   "execution_count": 7,
   "metadata": {},
   "outputs": [
    {
     "name": "stdout",
     "output_type": "stream",
     "text": [
      "Index(['id_souscription', 'cd_client', 'cd_client_a_date', 'id_logement',\n",
      "       'id_contact', 'id_contrat', 'cd_contrat', 'id_conversation_pc',\n",
      "       'fg_client', 'fg_contrat'],\n",
      "      dtype='object')\n",
      "Index(['fg_police', 'fg_primo_police', 'niveau', 'nb_creation',\n",
      "       'nb_creation_promesse', 'nb_creation_incomplet', 'nb_souscription',\n",
      "       'nb_demarre', 'nb_nouveau', 'nb_creation_client'],\n",
      "      dtype='object')\n",
      "Index(['nb_souscription_client', 'nb_demarre_client', 'nb_nouveau_client',\n",
      "       'nb_creation_contrat', 'nb_souscription_contrat', 'nb_demarre_contrat',\n",
      "       'nb_nouveau_contrat', 'nb_creation_police', 'nb_souscription_police',\n",
      "       'nb_demarre_police'],\n",
      "      dtype='object')\n",
      "Index(['nb_nouveau_police', 'nb_souscription_ajout_option', 'nb_ajout_auto',\n",
      "       'fg_remplacant', 'dt_creation', 'dt_tampon_poste',\n",
      "       'dt_accord_souscription', 'dth_souscription', 'dt_souscription',\n",
      "       'dt_demarrage'],\n",
      "      dtype='object')\n",
      "Index(['dt_demarrage_reelle', 'dt_fin_periode_couv', 'dth_debut_communication',\n",
      "       'id_produit_contrat', 'cd_produit_contrat', 'grp_produit_contrat',\n",
      "       'lst_cd_produit_combine_contrat', 'univers_contrat',\n",
      "       'cd_assureur_contrat', 'lb_assureur_contrat'],\n",
      "      dtype='object')\n",
      "Index(['type_habitat_produit', 'id_marque', 'cd_marque', 'cd_partenaire',\n",
      "       'lb_secteur_activite', 'lb_verticale', 'id_campagne_souscrit',\n",
      "       'cd_type_campagne_detail', 'type_campagne_macro',\n",
      "       'id_campagne_offre_mkt'],\n",
      "      dtype='object')\n",
      "Index(['cd_campagne_bpc', 'cd_sous_campagne_bpc', 'fg_campagne_cible',\n",
      "       'dt_demarrage_campagne', 'id_push_mkt', 'fg_membre_push_cible_mkt',\n",
      "       'fg_reaffect_push_cible', 'dth_push', 'cd_canal_communication',\n",
      "       'lb_canal_communication'],\n",
      "      dtype='object')\n",
      "Index(['media_communication', 'regroup_canal_type_campagne',\n",
      "       'type_acquis_upsell', 'fg_acquis', 'fg_contrat_acquis',\n",
      "       'fg_contrat_primo_acquis', 'fg_contrat_der_acquis',\n",
      "       'type_acquis_upsell_partenaire', 'fg_acquis_partenaire',\n",
      "       'fg_contrat_acquis_partenaire'],\n",
      "      dtype='object')\n",
      "Index(['fg_vente_multiple_acquis_partenaire', 'cd_canal_reception',\n",
      "       'media_reception', 'media_com_recep', 'cd_canal_interaction',\n",
      "       'type_lien_interaction', 'activite_file_attente',\n",
      "       'sous_activite_file_attente', 'lb_type_interaction', 'lb_contact_list'],\n",
      "      dtype='object')\n",
      "Index(['cd_canal_vente', 'lb_canal_vente', 'id_agent_vendeur',\n",
      "       'lb_departement_vendeur', 'type_plateau_hsv_vendeur',\n",
      "       'regroup_plateau_canal_reception', 'cd_type_paiement',\n",
      "       'lb_type_paiement', 'grp_paiement', 'version_contrat'],\n",
      "      dtype='object')\n",
      "Index(['version_contrat_r2', 'version_contrat_r3', 'version_contrat_r5',\n",
      "       'version_police', 'cd_type_habitat_logement',\n",
      "       'lb_type_habitat_logement', 'cd_pays', 'cd_statut_occupant',\n",
      "       'lb_statut_occupant', 'accord_courrier_commercial_hsv'],\n",
      "      dtype='object')\n",
      "Index(['accord_tel_commercial_hsv', 'accord_sms_commercial_hsv',\n",
      "       'accord_email_commercial_hsv', 'accord_sms_gestion_hsv',\n",
      "       'accord_email_gestion_hsv', 'accord_email_newsletter_hsv',\n",
      "       'accord_email_enquete_hsv', 'accord_tel_courrier_commercial_partenaire',\n",
      "       'accord_email_commercial_partenaire', 'fg_tel_fixe'],\n",
      "      dtype='object')\n",
      "Index(['fg_tel_portable', 'fg_email', 'fg_envoi_doc_pre_contract',\n",
      "       'commentaires_fic', 'id_ordre_vente_externe', 'id_ref_vente_externe',\n",
      "       'id_vendeur_partenaire', 'cd_raison_incomplet', 'lb_raison_incomplet',\n",
      "       'cd_type_parcours_souscription'],\n",
      "      dtype='object')\n",
      "Index(['lb_type_parcours_souscription', 'fg_rib_renseigne_pre_contrat',\n",
      "       'cd_etat_souscription', 'lb_etat_souscription', 'mt_ca_brut'],\n",
      "      dtype='object')\n"
     ]
    }
   ],
   "source": [
    "columns = df.columns  # Replace 'df' with your DataFrame name\n",
    "for i in range(0, len(columns), 10):\n",
    "    print(columns[i:i+10])\n"
   ]
  },
  {
   "cell_type": "code",
   "execution_count": 8,
   "metadata": {},
   "outputs": [],
   "source": [
    "columns = df.columns  # Replace 'df' with your DataFrame name\n",
    "with open('column_chunks.txt', 'w') as file:\n",
    "    for i in range(0, len(columns), 10):\n",
    "        chunk = columns[i:i+10]\n",
    "        file.write(', '.join(chunk) + '\\n')  # Join the columns with a comma and write to the file\n"
   ]
  },
  {
   "cell_type": "code",
   "execution_count": null,
   "metadata": {},
   "outputs": [],
   "source": []
  }
 ],
 "metadata": {
  "kernelspec": {
   "display_name": "base",
   "language": "python",
   "name": "python3"
  },
  "language_info": {
   "codemirror_mode": {
    "name": "ipython",
    "version": 3
   },
   "file_extension": ".py",
   "mimetype": "text/x-python",
   "name": "python",
   "nbconvert_exporter": "python",
   "pygments_lexer": "ipython3",
   "version": "3.12.3"
  }
 },
 "nbformat": 4,
 "nbformat_minor": 2
}
