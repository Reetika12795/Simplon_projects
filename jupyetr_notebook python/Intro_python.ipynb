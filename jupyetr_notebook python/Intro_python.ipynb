{
  "cells": [
    {
      "cell_type": "markdown",
      "metadata": {
        "id": "Q6gnefI3WtCK"
      },
      "source": [
        "# Python\n",
        "\n",
        "\n",
        "Python est un langage de programmation très réputé pour l'écriture et la manipulation de structures de données.\n",
        "\n",
        "Comme tout langage de programmation, Python possède un **vocabulaire** (des mots clés) et des **règles de grammaire** (comment agencer les mots clés).\n",
        "\n",
        "Python est un langage **interprété**, les mots clés que nous allons utiliser dans nos lignes de code seront lues par un **interpreteur** qui \"dira quoi faire à notre machine\".\n",
        "\n",
        "Il est beaucoup utilisé dans le monde de la data car il possède de nombreuses bibliothèques mathématiques (morceaux de code réutilisables) accessibles/utiles pour les développeurs."
      ]
    },
    {
      "cell_type": "markdown",
      "metadata": {
        "id": "2upK3f7vWtCO"
      },
      "source": [
        "Afin d'écrire et exécuter du Python. Deux méthodes différentes s'offrent à nous :\n",
        "\n",
        "- utiliser **l'interpréteur** de commande Python en tapant simplement la commande `python` dans la console et écrire ensuite les instructions les unes après les autres\n",
        "\n",
        "- écrire une suite d'instructions dans un seul et même **fichier** Python. Nous passerons ensuite à l'interpréteur Python le fichier en **paramètre**. L'interpréteur se chargera de lire les instructions de haut en bas et de les exécuter les unes après les autres."
      ]
    },
    {
      "cell_type": "markdown",
      "metadata": {
        "id": "xD9Z6pY0WtCO"
      },
      "source": [
        "* Mise en place de l’environnement de travail\n",
        "\n",
        "Anaconda est une distribution scientifique de Python : c’est-à-dire qu’en installant Anaconda, vous installerez Python, Jupyter Notebook et des dizaines de packages scientifiques, dont certains indispensables à l’analyse de données et à la DataScience en général !\n",
        "\n",
        "Pour commencer, téléchargez la distribution Anaconda correspondant à votre système d’exploitation, en Python version 3 : https://www.anaconda.com/distribution/\n",
        "\n",
        "\n",
        "Les notebooks Jupyter sont particulièrement adaptés à l'analyse de données .\n",
        "\n",
        "Pour lancer les notebooks Jupyter, utilisez la commande suivante depuis un anaconda powershell :\n",
        "jupyter-notebook"
      ]
    },
    {
      "cell_type": "markdown",
      "metadata": {
        "id": "WW5Wy6vqWtCP"
      },
      "source": [
        "# Commenter le code\n",
        "\n",
        "Avant toute chose, il convient de parler des commentaires ! C'est certainement une des choses les plus importantes que l'on écrit lorsque l'on code. Ce sont des lignes de code qui ne seront pas interprétées mais qui donnent des indications primordiales pour les programmeurs qui liront le code (y compris vous dans quelques mois / années)."
      ]
    },
    {
      "cell_type": "code",
      "execution_count": null,
      "metadata": {
        "id": "t6qzXzEyWtCP",
        "outputId": "f641d92e-a48f-4209-a3df-c3cd5eb2c443"
      },
      "outputs": [
        {
          "name": "stdout",
          "output_type": "stream",
          "text": [
            "Hello World!!\n"
          ]
        }
      ],
      "source": [
        "# Voici comment j'écris un commentaire en Python : en démarrant ma ligne de code par le caractère #\n",
        "# C'est vraiment très important de documenter son code en mettant des bons commentaires pour les futurs développeur•euse•s\n",
        "\n",
        "print('Hello World!!')"
      ]
    },
    {
      "cell_type": "markdown",
      "metadata": {
        "id": "r5w0pKu0WtCQ"
      },
      "source": [
        "# Variable , type de données et Opérations de base\n",
        "\n",
        "Les**variables**, C'est des blocs de la mémoire de l'ordinateur que le programme va réserver pour y stocker des données (un age, un prénom, la liste des numéros de sécu des inscrits, votre adresse IP, ...). Chaque variable aura un **type de données** associé (un age sera un nombre, un prénom sera une chaîne de caractères, ...)\n",
        "\n",
        "Pour **déclarer** une variable en Python il suffit de donner un nom à notre variable et de lui donner une valeur."
      ]
    },
    {
      "cell_type": "code",
      "execution_count": 2,
      "metadata": {
        "id": "UeYV8HW4WtCR"
      },
      "outputs": [],
      "source": [
        "data_analyst = True\n",
        "age = 30\n",
        "prenom = \"Jean\""
      ]
    },
    {
      "cell_type": "code",
      "execution_count": 3,
      "metadata": {
        "id": "jQIM7OOGWtCR",
        "outputId": "1d84294d-8f99-4af6-9d88-37346c5b50c5",
        "colab": {
          "base_uri": "https://localhost:8080/"
        }
      },
      "outputs": [
        {
          "output_type": "stream",
          "name": "stdout",
          "text": [
            "Jean\n"
          ]
        }
      ],
      "source": [
        "print(prenom)"
      ]
    },
    {
      "cell_type": "markdown",
      "metadata": {
        "id": "OTvPx6svWtCR"
      },
      "source": [
        "## Les booléens\n",
        "\n",
        "Le type de données élémentaire à connaître qui est à la base de l'informatique d'aujourd'hui est le booléen. Il s'agit d'un type de données qui n'a que deux valeurs possibles : `True`ou `False`. Cela correspond au `0` et au `1` du binaire. Nous l'utiliserons beaucoup lorsque nous aborderons les conditions.\n",
        "\n",
        "![image.png](attachment:image.png)\n",
        "\n",
        "\n",
        "![image-2.png](attachment:image-2.png)"
      ]
    },
    {
      "cell_type": "code",
      "execution_count": 4,
      "metadata": {
        "id": "cyyZBAFWWtCS",
        "outputId": "2f55777d-705e-4321-8c39-3b217016d880",
        "colab": {
          "base_uri": "https://localhost:8080/"
        }
      },
      "outputs": [
        {
          "output_type": "stream",
          "name": "stdout",
          "text": [
            "<class 'bool'>\n",
            "True\n",
            "False\n"
          ]
        }
      ],
      "source": [
        "a = True\n",
        "print(type(a))\n",
        "\n",
        "print(a)\n",
        "\n",
        "b = not(a)\n",
        "print(b)"
      ]
    },
    {
      "cell_type": "markdown",
      "metadata": {
        "id": "kVnEBDugWtCS"
      },
      "source": [
        "## Les nombres, Types numériques — int, float, complex\n",
        "\n",
        "Deux grand types de nombre utiles : les `int` qui représentent les nombres entiers et les `float` qui représentent les nombres décimaux.\n",
        "\n",
        "![image.png](attachment:image.png)"
      ]
    },
    {
      "cell_type": "code",
      "execution_count": 5,
      "metadata": {
        "id": "XxIyBJs4WtCS",
        "outputId": "559d3df3-b456-450e-d7f8-c4221eacc832",
        "colab": {
          "base_uri": "https://localhost:8080/"
        }
      },
      "outputs": [
        {
          "output_type": "stream",
          "name": "stdout",
          "text": [
            "30 184.5\n"
          ]
        },
        {
          "output_type": "execute_result",
          "data": {
            "text/plain": [
              "float"
            ]
          },
          "metadata": {},
          "execution_count": 5
        }
      ],
      "source": [
        "# variable age\n",
        "age = 30\n",
        "\n",
        "# Ma taille en cm\n",
        "taille = 184.5\n",
        "print(age,taille)\n",
        "type(taille)"
      ]
    },
    {
      "cell_type": "code",
      "execution_count": 6,
      "metadata": {
        "id": "5DSKLB-WWtCS",
        "outputId": "bac1a7c8-5a43-44b3-c066-154adbcf6634",
        "colab": {
          "base_uri": "https://localhost:8080/"
        }
      },
      "outputs": [
        {
          "output_type": "stream",
          "name": "stdout",
          "text": [
            "taille = 184.5\n",
            "-----------------------\n",
            "taille = 184.5000\n"
          ]
        }
      ],
      "source": [
        "print(\"taille =\", taille)\n",
        "## affichage formate :\n",
        "print(\"{}\".format(\"-\"*23))\n",
        "print(\"taille = {:.4f}\".format(taille)) # arrondi a 2 chiffres\n"
      ]
    },
    {
      "cell_type": "code",
      "execution_count": 11,
      "metadata": {
        "id": "hcZcn7F8WtCS",
        "outputId": "3c46818e-b3c9-4e9f-fd79-5b2b2d81db27",
        "colab": {
          "base_uri": "https://localhost:8080/"
        }
      },
      "outputs": [
        {
          "output_type": "stream",
          "name": "stdout",
          "text": [
            "105\n",
            "130\n",
            "45.0\n"
          ]
        }
      ],
      "source": [
        "soldeCompte = 150\n",
        "depot = 105\n",
        "retrait = 20\n",
        "pourcentage = 0.3\n",
        "nouveauSolde = 0\n",
        "\n",
        "#Addition\n",
        "nouveauSolde = nouveauSolde + depot\n",
        "print(nouveauSolde)\n",
        "\n",
        "#Soustraction\n",
        "nouveauSolde = soldeCompte - retrait\n",
        "print(nouveauSolde)\n",
        "\n",
        "#Multiplication\n",
        "nouveauSolde = soldeCompte * 0.3\n",
        "print(nouveauSolde)\n"
      ]
    },
    {
      "cell_type": "code",
      "execution_count": 9,
      "metadata": {
        "id": "8MgIYz7cWtCT",
        "outputId": "233e56ec-dc3d-47c3-8ecd-677970b05a4e",
        "colab": {
          "base_uri": "https://localhost:8080/"
        }
      },
      "outputs": [
        {
          "output_type": "stream",
          "name": "stdout",
          "text": [
            "4.5\n",
            "4\n",
            "1\n"
          ]
        }
      ],
      "source": [
        "nbPartPizza = 9\n",
        "nbPersonne = 2\n",
        "\n",
        "nbPart = 9/2\n",
        "print(nbPartPizza / nbPersonne)\n",
        "print(nbPartPizza // nbPersonne)\n",
        "print(nbPartPizza % nbPersonne)\n"
      ]
    },
    {
      "cell_type": "markdown",
      "metadata": {
        "id": "D7FBmNuxWtCT"
      },
      "source": [
        "Les priorités de calcul sont les priorités habituelles, on peut utiliser des parenthèses."
      ]
    },
    {
      "cell_type": "code",
      "execution_count": 12,
      "metadata": {
        "id": "2_yMI43yWtCT",
        "outputId": "05fd80cf-c773-4b71-e79e-f19684024cd0",
        "colab": {
          "base_uri": "https://localhost:8080/"
        }
      },
      "outputs": [
        {
          "output_type": "stream",
          "name": "stdout",
          "text": [
            "14\n"
          ]
        }
      ],
      "source": [
        "a = (2+4)*3 # 18\n",
        "b = 2+(4*3) # ?\n",
        "print(b)"
      ]
    },
    {
      "cell_type": "markdown",
      "metadata": {
        "id": "MZr3YN3zWtCT"
      },
      "source": [
        "Pour plus de détails : [La documentation officielle de Python](https://docs.python.org/fr/3/tutorial/introduction.html#numbers)"
      ]
    },
    {
      "cell_type": "markdown",
      "metadata": {
        "id": "WE9iqUd9WtCT"
      },
      "source": [
        "## Les chaînes de caractères\n",
        "\n",
        "Afin de stocker du texte (un prénom, un nom, une phrase, ...) nous utiliserons les `str` qui représentent les chaînes de caractères. Il y a deux méthodes pour déclarer un `str` (avec guillemets simples ou doubles):\n",
        "\n",
        "\n",
        "Les guillemets simples : 'autorisent les \"guillemets\"'\n",
        "\n",
        "Les guillemets : \"autorisent les guillemets 'simples'\".\n",
        "\n",
        "Guillemets triples : '''Trois guillemets simples''', \"\"\"Trois guillemets\"\"\"\n"
      ]
    },
    {
      "cell_type": "code",
      "execution_count": 16,
      "metadata": {
        "id": "ywR1evmeWtCT",
        "outputId": "d7f5995a-323a-4ed1-fa55-f0a9cf8d2121",
        "colab": {
          "base_uri": "https://localhost:8080/"
        }
      },
      "outputs": [
        {
          "output_type": "stream",
          "name": "stdout",
          "text": [
            "Jean Dupont\n",
            "Les passions de Jean sont: \n",
            "- Films\n",
            "- Self-Hacking\n",
            "- voyage.\n",
            "the name is Jean Dupont and the passion is \n",
            "- Films\n",
            "- Self-Hacking\n",
            "- voyage\n",
            "Jean\n",
            "- Films\n",
            "- Self-Hacking\n",
            "- voyage\n"
          ]
        }
      ],
      "source": [
        "prenom = \"Jean\"\n",
        "nom = 'Dupont'\n",
        "print(prenom, nom)\n",
        "passions = \"\"\"\n",
        "- Films\n",
        "- Self-Hacking\n",
        "- voyage\"\"\"\n",
        "print (\"Les passions de {} sont: {}.\". format (prenom , passions ) )\n",
        "print(\"the name is {} {} and the passion is {}\".format(prenom,nom,passions))\n",
        "print(prenom+passions)"
      ]
    },
    {
      "cell_type": "code",
      "execution_count": 17,
      "metadata": {
        "id": "nM1qxXMGWtCU",
        "outputId": "df5f9b35-d7ad-47f1-f144-aca30f3d6377",
        "colab": {
          "base_uri": "https://localhost:8080/"
        }
      },
      "outputs": [
        {
          "output_type": "stream",
          "name": "stdout",
          "text": [
            "ton nom ? reetika\n",
            "reetika\n"
          ]
        }
      ],
      "source": [
        "nom = input(\"ton nom ? \")\n",
        "print(nom)"
      ]
    },
    {
      "cell_type": "code",
      "execution_count": 19,
      "metadata": {
        "id": "mwBGdfZDWtCU",
        "outputId": "a5a75a79-e63d-423f-fa3f-50df16f25346",
        "colab": {
          "base_uri": "https://localhost:8080/"
        }
      },
      "outputs": [
        {
          "output_type": "execute_result",
          "data": {
            "text/plain": [
              "str"
            ]
          },
          "metadata": {},
          "execution_count": 19
        }
      ],
      "source": [
        "type(nom)"
      ]
    },
    {
      "cell_type": "markdown",
      "metadata": {
        "id": "2GDPK28TWtCU"
      },
      "source": [
        "Dans cette dernière citation, j'ai besoin **d'échapper** le guillemet simple afin qu'il ne soit pas interprété comme la fin de la chaîne de caractères. On utilise dans ce cas le caractère `backslash`.\n",
        "\n",
        "On peut aussi avoir besoin d'écrire une chaine de caractères qui contient plusieurs lignes de texte. Dans ce cas, deux solutions : utiliser le caractère spécial `\\n` pour indiquer un retour à la ligne ou utiliser le commentaire multiligne."
      ]
    },
    {
      "cell_type": "markdown",
      "metadata": {
        "id": "5leDsza6WtCU"
      },
      "source": [
        "Pour plus de détails : [La documentation officielle de Python](https://docs.python.org/fr/3/tutorial/introduction.html#strings)"
      ]
    },
    {
      "cell_type": "code",
      "execution_count": null,
      "metadata": {
        "id": "7T_N7qrXWtCU",
        "outputId": "1eda9758-8fff-4def-c5f7-9f9f7e0285f1"
      },
      "outputs": [
        {
          "name": "stdout",
          "output_type": "stream",
          "text": [
            "Manel\n",
            "False\n"
          ]
        }
      ],
      "source": [
        "print(nom.capitalize())\n",
        "print(nom.isupper())"
      ]
    },
    {
      "cell_type": "markdown",
      "metadata": {
        "id": "5rUCGgBtWtCU"
      },
      "source": [
        "la suite des fonctions sur les chaines de caractères : https://docs.python.org/fr/3/library/stdtypes.html#text-sequence-type-str"
      ]
    },
    {
      "cell_type": "markdown",
      "metadata": {
        "id": "_L6lm8EjWtCU"
      },
      "source": [
        "* Opérations avec des chaînes\n",
        "\n",
        "On peut concaténer (mettre bout à bout) des chaînes de caractères avec l'opérateur +."
      ]
    },
    {
      "cell_type": "code",
      "execution_count": 20,
      "metadata": {
        "id": "SA5gyIqEWtCU",
        "outputId": "98c662ef-7646-4cc2-ba1b-ffe55a306106",
        "colab": {
          "base_uri": "https://localhost:8080/"
        }
      },
      "outputs": [
        {
          "output_type": "stream",
          "name": "stdout",
          "text": [
            "Bonjour, je m'appelle Odile et j'ai 34 ans\n"
          ]
        }
      ],
      "source": [
        "nom = \"Odile\"\n",
        "age = 34\n",
        "\n",
        "#presentation = \"Bonjour, je m'appelle \"+nom+ \" et j'ai \"+age+ \" ans\" # ne fonctionne pas, il faut convertir d'abord age en chaîne\n",
        "presentation2 = \"Bonjour, je m'appelle \"+nom+ \" et j'ai \"+str(age)+ \" ans\"\n",
        "print(presentation2)"
      ]
    },
    {
      "cell_type": "markdown",
      "metadata": {
        "id": "1euKAmMFWtCV"
      },
      "source": [
        "On peut aussi utiliser d'autres opérations arithmétiques avec du texte."
      ]
    },
    {
      "cell_type": "code",
      "execution_count": 21,
      "metadata": {
        "id": "_I_TAYGVWtCV",
        "outputId": "79e07af8-b30a-4f46-c644-6ad16a987c64",
        "colab": {
          "base_uri": "https://localhost:8080/"
        }
      },
      "outputs": [
        {
          "output_type": "stream",
          "name": "stdout",
          "text": [
            "Hello Hello Hello \n"
          ]
        }
      ],
      "source": [
        "initial = \"Hello \"\n",
        "magic = 3*initial\n",
        "\n",
        "print(magic)"
      ]
    },
    {
      "cell_type": "markdown",
      "metadata": {
        "id": "_uNB3_MwWtCV"
      },
      "source": [
        "## Comparaison\n",
        "\n",
        "Les relations d'ordre produisent des booleans. Ils se basent sur l'ordre lexicographique (du dictionnaire)."
      ]
    },
    {
      "cell_type": "code",
      "execution_count": 22,
      "metadata": {
        "id": "VCG2-xx-WtCV",
        "outputId": "5ee83fb8-9a50-4797-b8bf-c225b3c8bd93",
        "colab": {
          "base_uri": "https://localhost:8080/",
          "height": 176
        }
      },
      "outputs": [
        {
          "output_type": "error",
          "ename": "TypeError",
          "evalue": "'>' not supported between instances of 'str' and 'int'",
          "traceback": [
            "\u001b[0;31m---------------------------------------------------------------------------\u001b[0m",
            "\u001b[0;31mTypeError\u001b[0m                                 Traceback (most recent call last)",
            "\u001b[0;32m<ipython-input-22-f25577dd78a8>\u001b[0m in \u001b[0;36m<cell line: 5>\u001b[0;34m()\u001b[0m\n\u001b[1;32m      3\u001b[0m \u001b[0;36m2\u001b[0m\u001b[0;34m*\u001b[0m\u001b[0;36m3\u001b[0m \u001b[0;34m<=\u001b[0m \u001b[0;36m6\u001b[0m \u001b[0;31m# True\u001b[0m\u001b[0;34m\u001b[0m\u001b[0;34m\u001b[0m\u001b[0m\n\u001b[1;32m      4\u001b[0m \u001b[0;34m\"la ligne rouge\"\u001b[0m \u001b[0;34m<\u001b[0m \u001b[0;34m\"la ligne orange\"\u001b[0m \u001b[0;31m# False\u001b[0m\u001b[0;34m\u001b[0m\u001b[0;34m\u001b[0m\u001b[0m\n\u001b[0;32m----> 5\u001b[0;31m \u001b[0;34m\"rocky3\"\u001b[0m \u001b[0;34m>\u001b[0m \u001b[0;36m2\u001b[0m \u001b[0;31m# erreur\u001b[0m\u001b[0;34m\u001b[0m\u001b[0;34m\u001b[0m\u001b[0m\n\u001b[0m",
            "\u001b[0;31mTypeError\u001b[0m: '>' not supported between instances of 'str' and 'int'"
          ]
        }
      ],
      "source": [
        "18 < 22 # True\n",
        "3*5 < 10 # False\n",
        "2*3 <= 6 # True\n",
        "\"la ligne rouge\" > \"la ligne orange\" # False\n",
        "\"rocky3\" > 2 # erreur\n"
      ]
    },
    {
      "cell_type": "markdown",
      "metadata": {
        "id": "MBKHsT1aWtCV"
      },
      "source": [
        "## Egalité\n",
        "\n",
        "On compare des variables avec **==**, puisque le **=** est déjà utilisé pour l'affectation. Cela produit aussi un boolean."
      ]
    },
    {
      "cell_type": "code",
      "execution_count": 23,
      "metadata": {
        "id": "4nqlglcUWtCV",
        "outputId": "ffe37e90-d9c8-404f-e7b7-dbace9d6d631",
        "colab": {
          "base_uri": "https://localhost:8080/"
        }
      },
      "outputs": [
        {
          "output_type": "stream",
          "name": "stdout",
          "text": [
            "False\n",
            "True\n",
            "True\n"
          ]
        }
      ],
      "source": [
        "line1 = \"Nah nah nah nah nah nah nah nah nah yeah\";\n",
        "line2 = \"Nah nah nah nah nah nah, nah nah nah, hey Jude\";\n",
        "line3 = \"Nah nah nah nah nah nah, nah nah nah, hey Jude\";\n",
        "\n",
        "print(line1 == line2)\n",
        "print(line2 == line3)\n",
        "\n",
        "isDifferent = line2 == line3 # il est vrai que ces lignes ne sont pas égales!\n",
        "print(isDifferent)"
      ]
    },
    {
      "cell_type": "markdown",
      "metadata": {
        "id": "MYiYxLLtWtCV"
      },
      "source": [
        "# Les Structures conditionnelles\n",
        "\n",
        "Pour effectuer un bloc d'instructions si une condition est vraie, on utilise le mot-clé **if**. Pour délimiter la taille du bloc d'instructions, on utilise l'indentation."
      ]
    },
    {
      "cell_type": "markdown",
      "metadata": {
        "id": "uHJp3cmgWtCV"
      },
      "source": [
        "Si la condition est vraie, on exécute les instructions du blocs. Sinon on saute le bloc.\n",
        "On peut ajouter un bloc à exécuter seulement si la condition est fausse avec **else**."
      ]
    },
    {
      "cell_type": "markdown",
      "metadata": {
        "id": "vEIZMiE5WtCW"
      },
      "source": [
        "On peut aussi ajouter d'autres conditions intermédiaires avec **elif**, a exécuter seulement si les précédentes sont fausses."
      ]
    },
    {
      "cell_type": "code",
      "execution_count": 25,
      "metadata": {
        "id": "ufB0ue96WtCW",
        "outputId": "e3a7e20d-3399-4d3e-b5df-977d9170aa4a",
        "colab": {
          "base_uri": "https://localhost:8080/"
        }
      },
      "outputs": [
        {
          "output_type": "stream",
          "name": "stdout",
          "text": [
            "merci d'entrer un age valide \n"
          ]
        }
      ],
      "source": [
        "age = 120\n",
        "\n",
        "if age < 0 or age>110 :\n",
        "    print(\"merci d'entrer un age valide \")\n",
        "\n",
        "elif age < 3 : # on ne rentre pas ici si on est déjà entré dans le cas d'avant\n",
        "    print(\"tarif : gratuit\")\n",
        "\n",
        "elif age < 18 :\n",
        "    print(\"tarif : réduit\")\n",
        "\n",
        "elif age > 65 :\n",
        "    print(\"tarif : réduit\")\n",
        "\n",
        "else : # dans tous les autres cas\n",
        "    print(\"tarif : normal\")"
      ]
    },
    {
      "cell_type": "markdown",
      "metadata": {
        "id": "DdKcGEscWtCW"
      },
      "source": [
        "Une erreur classique est d'utiliser un **or** lorsqu'il faudrait un **and** ou inversement. Ici par exemple, un age qui est inférieur à 18 **et** supérieur à 65 n'existe pas, il fallait bien utiliser **ou**."
      ]
    },
    {
      "cell_type": "markdown",
      "metadata": {
        "id": "XNatPYemWtCa"
      },
      "source": [
        "# Les listes\n",
        "\n",
        "Il est souvent pratique de gérer plusieurs variables à l'aide de listes (ou de tableaux)."
      ]
    },
    {
      "cell_type": "code",
      "execution_count": 26,
      "metadata": {
        "id": "bhdXVj9RWtCa"
      },
      "outputs": [],
      "source": [
        "eleve1 = \"sam\"\n",
        "eleve2 = \"bob\"\n",
        "eleve3 = \"jean\"\n",
        "# etc ..."
      ]
    },
    {
      "cell_type": "markdown",
      "metadata": {
        "id": "dNVYCAIRWtCa"
      },
      "source": [
        "Les éléments sont entre crochets et séparés par des virgules."
      ]
    },
    {
      "cell_type": "code",
      "execution_count": 27,
      "metadata": {
        "id": "ososZlslWtCa",
        "outputId": "1efbb6e8-1932-4413-e279-40be75396cba",
        "colab": {
          "base_uri": "https://localhost:8080/"
        }
      },
      "outputs": [
        {
          "output_type": "execute_result",
          "data": {
            "text/plain": [
              "['sam', 'bob', 'jean']"
            ]
          },
          "metadata": {},
          "execution_count": 27
        }
      ],
      "source": [
        "eleves = [\"sam\", \"bob\", \"jean\"]\n",
        "# une seule variable !\n",
        "eleves"
      ]
    },
    {
      "cell_type": "markdown",
      "metadata": {
        "id": "CEEuk_eUWtCa"
      },
      "source": [
        "On peut faire des listes de nombres, de chaînes, de booléens, etc ..."
      ]
    },
    {
      "cell_type": "code",
      "execution_count": 28,
      "metadata": {
        "id": "_Sz00VjkWtCa",
        "outputId": "76d975b7-353c-4cc8-b604-39091ea10b2e",
        "colab": {
          "base_uri": "https://localhost:8080/"
        }
      },
      "outputs": [
        {
          "output_type": "execute_result",
          "data": {
            "text/plain": [
              "3"
            ]
          },
          "metadata": {},
          "execution_count": 28
        }
      ],
      "source": [
        "listeNb = [1,2,3]\n",
        "listeMot = ['fraise', 'orange', 'Mangue']\n",
        "listeMixe = ['odile', 2, 'ray']\n",
        "\n",
        "listeNb.reverse() # fonction de base\n",
        "listeMot.sort() # trie en place\n",
        "len(listeMot) # taille de la liste"
      ]
    },
    {
      "cell_type": "markdown",
      "metadata": {
        "id": "9eGi2CDyWtCa"
      },
      "source": [
        "## Indices\n",
        "\n",
        "Les éléments sont numérotés à partir de 0. On accède aux éléments avec **[]**"
      ]
    },
    {
      "cell_type": "code",
      "execution_count": 29,
      "metadata": {
        "id": "WcHT9HX4WtCb",
        "outputId": "97d21901-26a6-440e-ae04-0f4534fc17ac",
        "colab": {
          "base_uri": "https://localhost:8080/"
        }
      },
      "outputs": [
        {
          "output_type": "stream",
          "name": "stdout",
          "text": [
            "bob\n"
          ]
        }
      ],
      "source": [
        "eleves = [\"sam\", \"bob\", \"jean\", \"odile\"]\n",
        "print(eleves[1]) # l'élément n°1 de la liste est bob\n"
      ]
    },
    {
      "cell_type": "markdown",
      "metadata": {
        "id": "CeyjjnhmWtCb"
      },
      "source": [
        "On peut extraire une sous-liste avec **:**"
      ]
    },
    {
      "cell_type": "code",
      "execution_count": 30,
      "metadata": {
        "id": "Hom00NYHWtCb",
        "outputId": "1614dc34-ec21-4349-c2b2-a39d35fc1157",
        "colab": {
          "base_uri": "https://localhost:8080/"
        }
      },
      "outputs": [
        {
          "output_type": "stream",
          "name": "stdout",
          "text": [
            "['bob', 'al']\n",
            "['bob', 'al', 'odile']\n"
          ]
        }
      ],
      "source": [
        "eleves = [\"sam\", \"bob\", \"al\", \"odile\"]\n",
        "print(eleves[1:3]) # les éléments 1 à 3 (exclu)\n",
        "print(eleves[1:]) # tous les éléments à partir du 1\n"
      ]
    },
    {
      "cell_type": "markdown",
      "metadata": {
        "id": "8dR9hTXNWtCb"
      },
      "source": [
        "Pour plus de détails : [La documentation officielle de Python](https://docs.python.org/fr/3/tutorial/introduction.html#lists)"
      ]
    },
    {
      "cell_type": "markdown",
      "metadata": {
        "id": "qaAWepwnWtCb"
      },
      "source": [
        "## Range\n",
        "\n",
        "Python sait aussi compter! pour générer une liste de nombre, on utilise simplement la fonction **range**"
      ]
    },
    {
      "cell_type": "markdown",
      "metadata": {
        "id": "QFPCsw3CWtCb"
      },
      "source": [
        "* La fonction range() se définit liée à la fonction list()comme suit: range(valeur_initiale, borne_de_fin, pas)\n",
        "\n",
        "Pour plus de détails : [La documentation officielle de Python](https://docs.python.org/fr/3/tutorial/controlflow.html#the-range-function)\n"
      ]
    },
    {
      "cell_type": "code",
      "execution_count": 45,
      "metadata": {
        "id": "O97Ix9DXWtCb",
        "outputId": "8c2a81ff-8c4d-4fa3-9b3c-7d8c2f9441df",
        "colab": {
          "base_uri": "https://localhost:8080/"
        }
      },
      "outputs": [
        {
          "output_type": "stream",
          "name": "stdout",
          "text": [
            "range(50, 1, -1)\n"
          ]
        }
      ],
      "source": [
        "liste = range(2,10) # de 2 jusqu'à 10 (exclu)\n",
        "liste2 = range(50) # de 0 jusqu'à 50 (exclu)\n",
        "liste3 = range(50,1,-1)\n",
        "print(liste3)"
      ]
    },
    {
      "cell_type": "code",
      "execution_count": 46,
      "metadata": {
        "id": "mkHuw8A0WtCb",
        "outputId": "db7b9357-8f6d-4273-9424-964445145051",
        "colab": {
          "base_uri": "https://localhost:8080/"
        }
      },
      "outputs": [
        {
          "output_type": "execute_result",
          "data": {
            "text/plain": [
              "[50,\n",
              " 49,\n",
              " 48,\n",
              " 47,\n",
              " 46,\n",
              " 45,\n",
              " 44,\n",
              " 43,\n",
              " 42,\n",
              " 41,\n",
              " 40,\n",
              " 39,\n",
              " 38,\n",
              " 37,\n",
              " 36,\n",
              " 35,\n",
              " 34,\n",
              " 33,\n",
              " 32,\n",
              " 31,\n",
              " 30,\n",
              " 29,\n",
              " 28,\n",
              " 27,\n",
              " 26,\n",
              " 25,\n",
              " 24,\n",
              " 23,\n",
              " 22,\n",
              " 21,\n",
              " 20,\n",
              " 19,\n",
              " 18,\n",
              " 17,\n",
              " 16,\n",
              " 15,\n",
              " 14,\n",
              " 13,\n",
              " 12,\n",
              " 11,\n",
              " 10,\n",
              " 9,\n",
              " 8,\n",
              " 7,\n",
              " 6,\n",
              " 5,\n",
              " 4,\n",
              " 3,\n",
              " 2]"
            ]
          },
          "metadata": {},
          "execution_count": 46
        }
      ],
      "source": [
        "list(liste3)"
      ]
    },
    {
      "cell_type": "markdown",
      "metadata": {
        "id": "D3OUEJFrWtCc"
      },
      "source": [
        "Les listes sont un type de structure de données qui permet de stocker un ensemble de valeur."
      ]
    },
    {
      "cell_type": "code",
      "execution_count": 38,
      "metadata": {
        "id": "AiDbSmA-WtCc",
        "outputId": "a438853a-db1d-45d3-f0f1-c89cce131530",
        "colab": {
          "base_uri": "https://localhost:8080/"
        }
      },
      "outputs": [
        {
          "output_type": "stream",
          "name": "stdout",
          "text": [
            "0\n",
            "999\n"
          ]
        }
      ],
      "source": [
        "a = list(range(1000))\n",
        "print(a[0])\n",
        "print(a[-1])"
      ]
    },
    {
      "cell_type": "markdown",
      "metadata": {
        "id": "7lMVZmY_WtCc"
      },
      "source": [
        "## Ajouter/Modifier/Supprimer des éléments"
      ]
    },
    {
      "cell_type": "markdown",
      "metadata": {
        "id": "1eGAVJj7WtCc"
      },
      "source": [
        "La fonction len() renvoie le nombre d’éléments. Par exemple :\n"
      ]
    },
    {
      "cell_type": "code",
      "execution_count": 40,
      "metadata": {
        "id": "OyIXiPNNWtCc",
        "outputId": "59fbb35f-4074-45bb-bd6d-b967b1b99fc9",
        "colab": {
          "base_uri": "https://localhost:8080/"
        }
      },
      "outputs": [
        {
          "output_type": "stream",
          "name": "stdout",
          "text": [
            "[7, 8, 9]\n"
          ]
        },
        {
          "output_type": "execute_result",
          "data": {
            "text/plain": [
              "3"
            ]
          },
          "metadata": {},
          "execution_count": 40
        }
      ],
      "source": [
        "a = list(range(7,10))\n",
        "print(a)\n",
        "len(a)"
      ]
    },
    {
      "cell_type": "markdown",
      "metadata": {
        "id": "MwUNfmJ8WtCd"
      },
      "source": [
        "Interpréter ce résultat ?"
      ]
    },
    {
      "cell_type": "code",
      "execution_count": 47,
      "metadata": {
        "id": "XnQTS6YuWtCd",
        "outputId": "b0e2fdd3-c0d4-442a-b9cf-b9470134f909",
        "colab": {
          "base_uri": "https://localhost:8080/"
        }
      },
      "outputs": [
        {
          "output_type": "stream",
          "name": "stdout",
          "text": [
            "[7, 8, 9, 5, 7, 8, 9, 5, 7, 8, 9, 5, 7, 8, 9, 5]\n"
          ]
        }
      ],
      "source": [
        "b = a*4\n",
        "print(b)"
      ]
    },
    {
      "cell_type": "markdown",
      "metadata": {
        "id": "7BpqbgmgWtCd"
      },
      "source": [
        "Ajouter des éléments à une liste:"
      ]
    },
    {
      "cell_type": "code",
      "execution_count": 48,
      "metadata": {
        "id": "hxSOp7z4WtCd",
        "outputId": "2141a362-2526-4a6d-9ced-ce310be04045",
        "colab": {
          "base_uri": "https://localhost:8080/"
        }
      },
      "outputs": [
        {
          "output_type": "stream",
          "name": "stdout",
          "text": [
            "[7, 8, 9, 5, 5]\n"
          ]
        }
      ],
      "source": [
        "a.append(5)\n",
        "print(a)"
      ]
    },
    {
      "cell_type": "markdown",
      "metadata": {
        "id": "PRzoJr1OWtCd"
      },
      "source": [
        "il est possible de mélanger dans une même liste des variables de type différent. On peut aussi mettre une liste dans une liste.\n",
        "\n",
        "Compléter le code ci dessous et interpréter les outputs.\n"
      ]
    },
    {
      "cell_type": "code",
      "execution_count": 49,
      "metadata": {
        "id": "alk43xm2WtCd",
        "outputId": "70b65d30-c63a-45ca-b339-f6ba3055c386",
        "colab": {
          "base_uri": "https://localhost:8080/"
        }
      },
      "outputs": [
        {
          "output_type": "stream",
          "name": "stdout",
          "text": [
            "[1, 2]\n",
            "['trois', 4.1]\n",
            "[1, 2, 'trois', 4.1, 'cinq']\n"
          ]
        }
      ],
      "source": [
        "# On construit une liste avec des crochets []\n",
        "liste1 = [ 1, 2 ]\n",
        "# on peut mélanger les types dans une liste\n",
        "liste2 = [ \"trois\", 4.1]\n",
        "\n",
        "#additionner 2 listes\n",
        "liste = liste1 + liste2\n",
        "\n",
        "#Ajouter dans liste l'élement \"cinq\"\n",
        "liste.append(\"cinq\")\n",
        "\n",
        "#Afficher le contenu des 3 listes\n",
        "print(liste1)\n",
        "print(liste2)\n",
        "print(liste)"
      ]
    },
    {
      "cell_type": "markdown",
      "metadata": {
        "id": "KzOM-yBbWtCd"
      },
      "source": [
        "* supprimer des élements d'une liste:\n",
        "\n",
        "1- avec del : del variable_a_supprimer.\n",
        "\n",
        "2- avec la méthode remove: qui prend en paramètre l'élément (et non pas l'indice de l'élément à supprimer (pop)."
      ]
    },
    {
      "cell_type": "code",
      "execution_count": 50,
      "metadata": {
        "id": "iMxcyIi3WtCe",
        "outputId": "f07a5c1c-c5da-41ab-c6ed-da56cac392da",
        "colab": {
          "base_uri": "https://localhost:8080/",
          "height": 211
        }
      },
      "outputs": [
        {
          "output_type": "error",
          "ename": "NameError",
          "evalue": "name 'apprenants' is not defined",
          "traceback": [
            "\u001b[0;31m---------------------------------------------------------------------------\u001b[0m",
            "\u001b[0;31mNameError\u001b[0m                                 Traceback (most recent call last)",
            "\u001b[0;32m<ipython-input-50-9130794a1687>\u001b[0m in \u001b[0;36m<cell line: 1>\u001b[0;34m()\u001b[0m\n\u001b[0;32m----> 1\u001b[0;31m \u001b[0mprint\u001b[0m\u001b[0;34m(\u001b[0m\u001b[0mapprenants\u001b[0m\u001b[0;34m)\u001b[0m\u001b[0;34m\u001b[0m\u001b[0;34m\u001b[0m\u001b[0m\n\u001b[0m\u001b[1;32m      2\u001b[0m \u001b[0;32mdel\u001b[0m \u001b[0mapprenants\u001b[0m \u001b[0;34m[\u001b[0m\u001b[0;36m0\u001b[0m\u001b[0;34m]\u001b[0m\u001b[0;34m\u001b[0m\u001b[0;34m\u001b[0m\u001b[0m\n\u001b[1;32m      3\u001b[0m \u001b[0mprint\u001b[0m\u001b[0;34m(\u001b[0m\u001b[0mapprenants\u001b[0m\u001b[0;34m)\u001b[0m\u001b[0;34m\u001b[0m\u001b[0;34m\u001b[0m\u001b[0m\n\u001b[1;32m      4\u001b[0m \u001b[0mapprenants\u001b[0m\u001b[0;34m.\u001b[0m\u001b[0mremove\u001b[0m\u001b[0;34m(\u001b[0m\u001b[0;34m'Céline'\u001b[0m\u001b[0;34m)\u001b[0m\u001b[0;34m\u001b[0m\u001b[0;34m\u001b[0m\u001b[0m\n\u001b[1;32m      5\u001b[0m \u001b[0mprint\u001b[0m\u001b[0;34m(\u001b[0m\u001b[0mapprenants\u001b[0m\u001b[0;34m)\u001b[0m\u001b[0;34m\u001b[0m\u001b[0;34m\u001b[0m\u001b[0m\n",
            "\u001b[0;31mNameError\u001b[0m: name 'apprenants' is not defined"
          ]
        }
      ],
      "source": [
        "print(apprenants)\n",
        "del apprenants [0]\n",
        "print(apprenants)\n",
        "apprenants.remove('Céline')\n",
        "print(apprenants)"
      ]
    },
    {
      "cell_type": "code",
      "execution_count": null,
      "metadata": {
        "id": "Rc8BpU-tWtCe",
        "outputId": "84f7610a-110c-491d-a4bd-5dd244b2566e"
      },
      "outputs": [
        {
          "name": "stdout",
          "output_type": "stream",
          "text": [
            "['françois', 'Yassine', 'Céline']\n"
          ]
        },
        {
          "data": {
            "text/plain": [
              "['Céline']"
            ]
          },
          "execution_count": 66,
          "metadata": {},
          "output_type": "execute_result"
        }
      ],
      "source": [
        "print(apprenants)\n",
        "apprenants[:1:-1]"
      ]
    },
    {
      "cell_type": "markdown",
      "metadata": {
        "id": "6HesS7nvWtCe"
      },
      "source": [
        "Pour plus de détails : [La documentation officielle de Python](https://docs.python.org/fr/3/tutorial/controlflow.html#the-range-function)"
      ]
    },
    {
      "cell_type": "markdown",
      "metadata": {
        "id": "gIpZpOB2WtCe"
      },
      "source": [
        "# Boucles\n",
        "\n",
        "On va parler ici de répétitions. C'est quelque chose qu'un programme sait très bien faire, répéter plusieurs fois (parfois un grand nombre) un bloc d'instructions.\n",
        "\n",
        "## While (tant que)\n",
        "\n",
        "Tant que tu n'auras pas fini ta purée, tu n'auras pas de dessert!"
      ]
    },
    {
      "cell_type": "code",
      "execution_count": 51,
      "metadata": {
        "id": "gCDIGO9DWtCe",
        "outputId": "4fb2deb9-0ee7-471b-93d4-42d3c4a61e68",
        "colab": {
          "base_uri": "https://localhost:8080/"
        }
      },
      "outputs": [
        {
          "output_type": "stream",
          "name": "stdout",
          "text": [
            "je continue mon décompte\n",
            "je continue mon décompte\n",
            "je continue mon décompte\n",
            "je continue mon décompte\n",
            "je continue mon décompte\n",
            "je continue mon décompte\n",
            "je continue mon décompte\n",
            "je continue mon décompte\n",
            "je continue mon décompte\n",
            "je continue mon décompte\n",
            "j'ai fini\n"
          ]
        }
      ],
      "source": [
        "i = 10\n",
        "\n",
        "while i > 0 : # i > 0 est une condition, comme pour le if\n",
        "    print(\"je continue mon décompte\")\n",
        "    i = i -1\n",
        "\n",
        "print( \"j'ai fini\")"
      ]
    },
    {
      "cell_type": "markdown",
      "metadata": {
        "id": "U1r_aL-nWtCe"
      },
      "source": [
        "## For (pour)\n",
        "\n",
        "Si on veut faire le même traitement pour chaque élément d'une liste, il suffit d'utiliser le mot **pour**, mais en anglais. Dans ce cas, on doit choisir un nom pour l'élément courant à parcourir."
      ]
    },
    {
      "cell_type": "code",
      "execution_count": 52,
      "metadata": {
        "id": "DHlCmKKxWtCe",
        "outputId": "8c990956-8601-4449-88e6-01504857307d",
        "colab": {
          "base_uri": "https://localhost:8080/"
        }
      },
      "outputs": [
        {
          "output_type": "stream",
          "name": "stdout",
          "text": [
            "bonjour François\n",
            "bonjour Yassine\n",
            "bonjour Céline\n",
            "bonjour Odile\n"
          ]
        }
      ],
      "source": [
        "eleveListe = [\"François\", \"Yassine\", \"Céline\", \"Odile\"]\n",
        "#print(\"bonjour \"+eleveListe[0])\n",
        "for eleve in eleveListe : # on commence toujours un bloc avec :\n",
        "    print(\"bonjour \"+eleve)\n"
      ]
    },
    {
      "cell_type": "code",
      "execution_count": 53,
      "metadata": {
        "id": "8dDF1nKNWtCf",
        "outputId": "09e4440b-8a0d-41c7-b2d6-d3bc3f3dfd80",
        "colab": {
          "base_uri": "https://localhost:8080/"
        }
      },
      "outputs": [
        {
          "output_type": "stream",
          "name": "stdout",
          "text": [
            " À l ' indice 0 se trouve François.\n",
            " François se trouve à l'indice 0.\n",
            " À l ' indice 1 se trouve Yassine.\n",
            " Yassine se trouve à l'indice 1.\n",
            " À l ' indice 2 se trouve Céline.\n",
            " Céline se trouve à l'indice 2.\n",
            " À l ' indice 3 se trouve Odile.\n",
            " Odile se trouve à l'indice 3.\n"
          ]
        }
      ],
      "source": [
        "for i , elt in enumerate ( eleveListe ) :\n",
        "    print (\" À l ' indice {} se trouve {}.\". format (i , elt ) )\n",
        "    print (\" {} se trouve à l'indice {}.\". format ( elt ,i ) )"
      ]
    },
    {
      "cell_type": "markdown",
      "metadata": {
        "id": "7gHkv0gLWtCf"
      },
      "source": [
        "Ou aussi avec des nombres, pour répéter 100 fois une action (utile!)."
      ]
    },
    {
      "cell_type": "code",
      "execution_count": null,
      "metadata": {
        "id": "zq1BhFj2WtCf",
        "outputId": "3dc60d17-a67f-47fb-c6ed-0efe81f2465b"
      },
      "outputs": [
        {
          "name": "stdout",
          "output_type": "stream",
          "text": [
            "0 Hello!\n",
            "1 Hello!\n",
            "2 Hello!\n",
            "3 Hello!\n",
            "4 Hello!\n",
            "5 Hello!\n",
            "6 Hello!\n",
            "7 Hello!\n",
            "8 Hello!\n",
            "9 Hello!\n"
          ]
        }
      ],
      "source": [
        "for i in range(10) :\n",
        "    print(str(i)+\" Hello!\")"
      ]
    },
    {
      "cell_type": "markdown",
      "metadata": {
        "id": "oZk3SjR7WtCf"
      },
      "source": [
        "Ou encore si je veux remplir une liste au fur et à mesure avec des entrée utilisateur :"
      ]
    },
    {
      "cell_type": "code",
      "execution_count": 54,
      "metadata": {
        "id": "iXmVuh13WtCf",
        "outputId": "e9988b0a-e1cf-4366-9777-4fb938732d22",
        "colab": {
          "base_uri": "https://localhost:8080/"
        }
      },
      "outputs": [
        {
          "output_type": "stream",
          "name": "stdout",
          "text": [
            "combien de personnes? 5\n",
            "entrez le nom de la personne n°0ritu \n",
            "entrez le nom de la personne n°1pratiush\n",
            "entrez le nom de la personne n°2raju\n",
            "entrez le nom de la personne n°3indira\n",
            "entrez le nom de la personne n°4natan\n",
            "Bonjour ritu \n",
            "Bonjour pratiush\n",
            "Bonjour raju\n",
            "Bonjour indira\n",
            "Bonjour natan\n"
          ]
        }
      ],
      "source": [
        "n = int(input(\"combien de personnes? \"))\n",
        "\n",
        "personnes = [] # au début, on crée une liste vide\n",
        "\n",
        "for i in range(n) : # le nombre n est le nombre de répétitions à faire\n",
        "    nom = input(\"entrez le nom de la personne n°\"+ str(i))\n",
        "    personnes.append(nom) # la fonction append permet d'ajouter à la fin de la liste\n",
        "\n",
        "for i in range(len(personnes)) :\n",
        "    print(\"Bonjour \"+personnes[i]) # personne[i] permet d'accéder à la personne de la liste d'indice i\n",
        "\n",
        "\n",
        "\n",
        "\n",
        "# Ou encore\n",
        "#for nom in personnes :\n",
        " #   print(\"Bonjour \"+nom)\n"
      ]
    },
    {
      "cell_type": "code",
      "execution_count": 55,
      "metadata": {
        "id": "mo7vQOsHWtCf",
        "outputId": "86ea956c-b7c3-48c1-8a37-f8a0beaedf2b",
        "colab": {
          "base_uri": "https://localhost:8080/"
        }
      },
      "outputs": [
        {
          "output_type": "stream",
          "name": "stdout",
          "text": [
            "[1, 3, 5, 7, 9]\n"
          ]
        }
      ],
      "source": [
        "print(list(range(1,10,2)))"
      ]
    },
    {
      "cell_type": "markdown",
      "metadata": {
        "id": "UjCxgAVIWtCf"
      },
      "source": [
        "* Le mot-clé **break** permet tout simplement d'interrompre une boucle."
      ]
    },
    {
      "cell_type": "code",
      "execution_count": 56,
      "metadata": {
        "id": "IJga889PWtCg",
        "outputId": "6daccc1e-401c-400b-bafb-5ff687fdb7cb",
        "colab": {
          "base_uri": "https://localhost:8080/"
        }
      },
      "outputs": [
        {
          "output_type": "stream",
          "name": "stdout",
          "text": [
            " Tapez 'Q' pour quitter : q\n",
            " Tapez 'Q' pour quitter : a\n",
            " Tapez 'Q' pour quitter : Q\n",
            "Fin de la boucle \n"
          ]
        }
      ],
      "source": [
        "while 1 : # 1 est toujours vrai -> boucle infinie\n",
        "    lettre = input (\" Tapez 'Q' pour quitter : \")\n",
        "    if lettre == \"Q\":\n",
        "        print (\"Fin de la boucle \")\n",
        "        break"
      ]
    },
    {
      "cell_type": "markdown",
      "metadata": {
        "id": "V5FXHV-KWtCg"
      },
      "source": [
        "* Le mot-clé **continue**  permet de continuer une boucle, en repartant directement à la ligne du while ou for.\n"
      ]
    },
    {
      "cell_type": "code",
      "execution_count": null,
      "metadata": {
        "scrolled": false,
        "id": "84BUKUy8WtCg",
        "outputId": "1afe966e-9205-4622-a409-f6abdeec6b3a"
      },
      "outputs": [
        {
          "name": "stdout",
          "output_type": "stream",
          "text": [
            "i= 1\n",
            "i= 2\n",
            "On incrémente i de 4. i est maintenant égale à 7\n",
            "i= 7\n",
            "i= 8\n",
            "On incrémente i de 4. i est maintenant égale à 13\n",
            "i= 13\n",
            "i= 14\n",
            "On incrémente i de 4. i est maintenant égale à 19\n",
            "i= 19\n"
          ]
        }
      ],
      "source": [
        "i = 1\n",
        "while i < 20 : # Tant que i est inf é rieure à 20\n",
        "    if i % 3 == 0 :\n",
        "        i += 4 # On ajoute 4 à i\n",
        "        print (\"On incrémente i de 4. i est maintenant égale à\",i )\n",
        "        continue # On retourne au while sans exécuter les autres lignes\n",
        "        print (\"La variable i =\", i )\n",
        "    print (\"i=\",i)\n",
        "    i += 1 # Dans le cas classique on ajoute juste 1 à i"
      ]
    },
    {
      "cell_type": "markdown",
      "metadata": {
        "id": "qsTlnlviWtCg"
      },
      "source": [
        "Pour plus de détails : [La documentation officielle de Python](https://docs.python.org/fr/3/tutorial/controlflow.html#for-statements)"
      ]
    },
    {
      "cell_type": "code",
      "execution_count": null,
      "metadata": {
        "id": "53n-8124WtCg"
      },
      "outputs": [],
      "source": []
    },
    {
      "cell_type": "markdown",
      "metadata": {
        "id": "VI4vKi2XWtCg"
      },
      "source": [
        "* Les listes & les chaînes de caractères -> avec la méthode split, il est parfois utile de transformer une chaine de caractère en liste. Créer une chaîne de caractère avec le texte suivant :\n",
        "\n",
        "\"Bonjour, l'intelligence artificielle c'est trop bien\"\n",
        "\n",
        "Utiliser split pour découper la chaîne de caractère en mots."
      ]
    },
    {
      "cell_type": "code",
      "execution_count": 57,
      "metadata": {
        "id": "HulqGN0dWtCg",
        "outputId": "d4da0f4f-2c02-4755-df4d-710ceb34b6aa",
        "colab": {
          "base_uri": "https://localhost:8080/"
        }
      },
      "outputs": [
        {
          "output_type": "stream",
          "name": "stdout",
          "text": [
            "Bonjour, l'intelligence artificielle c'est trop bien\n",
            "6\n",
            "['Bonjour,', \"l'intelligence\", 'artificielle', \"c'est\", 'trop', 'bien']\n"
          ]
        }
      ],
      "source": [
        "texte = \"Bonjour, l'intelligence artificielle c'est trop bien\"\n",
        "print(texte)\n",
        "a=texte.split()\n",
        "print(len(a))\n",
        "print( a)"
      ]
    },
    {
      "cell_type": "markdown",
      "metadata": {
        "id": "1bcd9ilVWtCg"
      },
      "source": [
        "* L'inverse est il possible ? avec Quelle méthode?\n",
        "\n",
        "Utiliser cette méthode pour stocker le contenu de cette liste en une chaine de caractère .\n",
        "\n",
        "liste=[\"Ma formation\",\"IA\",\"démarre bien !\"]"
      ]
    },
    {
      "cell_type": "code",
      "execution_count": 59,
      "metadata": {
        "id": "_FJCFnYqWtCh",
        "outputId": "eaf78a7c-7af7-4006-cc57-63465a5f6258",
        "colab": {
          "base_uri": "https://localhost:8080/"
        }
      },
      "outputs": [
        {
          "output_type": "stream",
          "name": "stdout",
          "text": [
            "['Ma formation', 'IA', 'démarre bien !']\n",
            "Ma formation IA démarre bien !\n",
            "<class 'str'>\n"
          ]
        }
      ],
      "source": [
        "\n",
        "liste=[\"Ma formation\",\"IA\",\"démarre bien !\"]\n",
        "print(liste)\n",
        "s = \" \"\n",
        "s = s.join(liste)\n",
        "print(s)\n",
        "print(type(s))"
      ]
    },
    {
      "cell_type": "markdown",
      "metadata": {
        "id": "zIqFn4phWtCh"
      },
      "source": [
        "# Les Sets"
      ]
    },
    {
      "cell_type": "markdown",
      "metadata": {
        "id": "qRn8yR2_WtCh"
      },
      "source": [
        "\n",
        "Les sets sont un type de donnée similaire aux listes mais avec quelques petites particularités..\n",
        "un Set est défini par des accolades et non par des crochets (liste)\n",
        "\n",
        "Un ensemble est une collection non ordonnée sans élément dupliqué. Parmi les utilisations basiques des sets on trouve les tests d'appartenance ou des suppressions de doublons\n",
        "\n",
        "Pour plus de détails : [La documentation officielle de Python](https://docs.python.org/fr/3/tutorial/datastructures.html#sets)"
      ]
    },
    {
      "cell_type": "markdown",
      "metadata": {
        "id": "pjayd57yWtCh"
      },
      "source": [
        "* Créer une liste contenant les valeurs suivantes : [1, 2, 1, 3, 5, 6, 3]\n",
        "\n",
        "A partir de cette liste précédente créer un set. Parcourir la liste précédente et le set et afficher les éléments.\n",
        "\n"
      ]
    },
    {
      "cell_type": "code",
      "execution_count": 60,
      "metadata": {
        "id": "581GpXpqWtCh",
        "outputId": "d03ba18a-437b-4bf9-e79c-7a13f9add4e9",
        "colab": {
          "base_uri": "https://localhost:8080/"
        }
      },
      "outputs": [
        {
          "output_type": "stream",
          "name": "stdout",
          "text": [
            "[1, 2, 1, 3, 5, 6, 3]\n"
          ]
        }
      ],
      "source": [
        "liste= [1, 2, 1, 3, 5, 6, 3]\n",
        "print(liste)"
      ]
    },
    {
      "cell_type": "code",
      "execution_count": 61,
      "metadata": {
        "id": "yxmIoDM0WtCh",
        "outputId": "7ab43506-4e1e-4231-c5f9-349cde3fcfd9",
        "colab": {
          "base_uri": "https://localhost:8080/"
        }
      },
      "outputs": [
        {
          "output_type": "stream",
          "name": "stdout",
          "text": [
            "7\n",
            "5\n",
            "{1, 2, 3, 5, 6}\n"
          ]
        }
      ],
      "source": [
        "s=set(liste)\n",
        "print(len(liste))\n",
        "print(len(s))\n",
        "print(set(liste))\n"
      ]
    },
    {
      "cell_type": "markdown",
      "metadata": {
        "id": "W_prN2VfWtCh"
      },
      "source": [
        " =>  cannot have multiple occurrences of the same element and store unordered values.\n",
        "it makes sets highly useful to efficiently remove duplicate values from a list or tuple and to perform common math operations like unions and intersections."
      ]
    },
    {
      "cell_type": "code",
      "execution_count": 63,
      "metadata": {
        "id": "zaXMNVqqWtCh",
        "outputId": "700023f7-a9c2-49b8-92e9-b48b12491011",
        "colab": {
          "base_uri": "https://localhost:8080/"
        }
      },
      "outputs": [
        {
          "output_type": "stream",
          "name": "stdout",
          "text": [
            "{'d', 'b', 'r', 'c', 'a'}\n",
            "{'r', 'd', 'b'}\n",
            "{'d', 'b', 'l', 'r', 'c', 'z', 'm', 'a'}\n",
            "{'c', 'a'}\n",
            "{'d', 'b', 'l', 'r', 'm', 'z'}\n"
          ]
        }
      ],
      "source": [
        "# Demonstrate set operations on unique letters from two words\n",
        "a = set('abracadabra')\n",
        "b = set('alacazam')\n",
        "print(a )                                 # unique letters in a\n",
        "\n",
        "print(a - b )                             # letters in a but not in b\n",
        "\n",
        "print(a | b)                              # letters in a or b or both\n",
        "\n",
        "print(a & b)                              # letters in both a and b\n",
        "\n",
        "print(a ^ b)                              # letters in a or b but not both\n"
      ]
    },
    {
      "cell_type": "markdown",
      "metadata": {
        "id": "414eaWnMWtCi"
      },
      "source": [
        "# Les tuples\n",
        "\n",
        "Un tuple est une liste qui ne peut plus être modifiée. On les utilise pour définir des constantes qui n'ont pas vocation à changer.\n",
        "Un n-uplet consiste en différentes valeurs séparées par des virgules"
      ]
    },
    {
      "cell_type": "code",
      "execution_count": null,
      "metadata": {
        "id": "7dOyXln-WtCi",
        "outputId": "efcf7c9d-4704-4c3e-dcc6-ebc8c6ccf5ea"
      },
      "outputs": [
        {
          "name": "stdout",
          "output_type": "stream",
          "text": [
            "<class 'tuple'>\n",
            "<class 'tuple'>\n"
          ]
        }
      ],
      "source": [
        "mon_tuple1 = (1, \"Hello\", \"François\",[1,2,3])\n",
        "mon_tuple2 = 1, 2, 3\n",
        "print(type(mon_tuple1))\n",
        "print(type(mon_tuple2))"
      ]
    },
    {
      "cell_type": "markdown",
      "metadata": {
        "id": "Bdxb716NWtCi"
      },
      "source": [
        "* les n-uplets sont toujours affichés entre parenthèses, de façon à ce que des n-uplets imbriqués soient interprétés correctement ; ils peuvent être saisis avec ou sans parenthèses, même si celles-ci sont souvent nécessaires (notamment lorsqu'un n-uplet fait partie d'une expression plus longue). Il n'est pas possible d'affecter de valeur à un élément d'un n-uplet ; par contre, il est possible de créer des n-uplets contenant des objets muables, comme des listes.\n",
        "\n",
        "* Si les n-uplets peuvent sembler similaires aux listes, ils sont souvent utilisés dans des cas différents et pour des raisons différentes. Les n-uplets sont immuables et contiennent souvent des séquences hétérogènes d'éléments qui sont accédés par « dissociation » ou par indice (ou même par attributs dans le cas des namedtuples). Les listes sont souvent muables et contiennent des éléments généralement homogènes qui sont accédés par itération sur la liste."
      ]
    },
    {
      "cell_type": "markdown",
      "metadata": {
        "id": "yRm5AvmSWtCi"
      },
      "source": [
        "[La Reference complete est ici](https://docs.python.org/fr/3/tutorial/datastructures.html)"
      ]
    },
    {
      "cell_type": "markdown",
      "metadata": {
        "id": "BHFavnpsWtCi"
      },
      "source": [
        "# Les dictionnaires\n",
        "\n",
        "un dictionnaire contient un ensemble de couples (clé ➞ valeur)\n",
        "Contrairement aux listes qui sont délimitées par des crochets, on utilise des accolades pour les dictionnaires.\n",
        "Un élément est définit en précisant une **clé** (une chaîne de caractères) suivie de **:** puis de la valeur associée\n",
        "\n",
        "**clé: valeur**\n",
        "\n",
        "Les dictionnaires sont des objets qui peuvent en contenir d’autres.\n",
        "Au lieu d’héberger des informations dans un ordre précis comme les listes, un dictionnaire associe chaque objet contenu à une clé (généralement une chaîne de caractères).\n"
      ]
    },
    {
      "cell_type": "markdown",
      "metadata": {
        "id": "5b6wltMzWtCi"
      },
      "source": [
        "Un dictionnaire est un type de données extrêmement puissant et pratique.\n",
        "Il se rapproche des listes sur certains points mais, sur beaucoup d’autres, il en diffère totalement.\n",
        "\n",
        "* La liste\n",
        "\n",
        "Objet conteneur d’autres objets.\n",
        "Pour accéder aux objets contenus, il faut connaître leur position dans la liste.\n",
        "Cette position se traduit par des entiers, appelés indices, compris entre 0 (inclus) et la taille de la liste (non incluse).\n",
        "\n",
        "* Le dictionnaire\n",
        "\n",
        "Objet conteneur d’autres objets également.\n",
        "Mais aucune structure ordonnée.\n",
        "Pour accéder aux objets contenus, on n’utilise pas nécessairement des indices mais des clés qui peuvent être de bien des types distincts.\n",
        "\n",
        "=> Les parenthèses délimitent les tuples, les crochets délimitent les listes et les accolades {} délimitent les dictionnaires."
      ]
    },
    {
      "cell_type": "markdown",
      "metadata": {
        "id": "cplzbUUaWtCi"
      },
      "source": [
        "## Création et édition\n",
        "Il existe deux moyens de créer des dictionnaires:\n",
        "\n",
        "* A l’aide de la fonction “dict()”"
      ]
    },
    {
      "cell_type": "code",
      "execution_count": 66,
      "metadata": {
        "id": "SK2hJeMiWtCi",
        "outputId": "74a20c88-da8f-48dc-878e-aa7200acd0fd",
        "colab": {
          "base_uri": "https://localhost:8080/"
        }
      },
      "outputs": [
        {
          "output_type": "stream",
          "name": "stdout",
          "text": [
            "<class 'dict'>\n",
            "{'couleur': 'rouge', 'name': 'Ritu'}\n"
          ]
        }
      ],
      "source": [
        "mydict =dict() #creation du dictionnaire mydict\n",
        "print(type(mydict))\n",
        "mydict['couleur']='rouge'\n",
        "mydict[\"name\"] = \"Ritu\"\n",
        "print(mydict)"
      ]
    },
    {
      "cell_type": "markdown",
      "metadata": {
        "id": "p6Uo0KfVWtCj"
      },
      "source": [
        "* A l’aide des accolades “{}”"
      ]
    },
    {
      "cell_type": "code",
      "execution_count": 67,
      "metadata": {
        "id": "S-mvRrUGWtCj",
        "outputId": "78b709c0-beef-4539-c54c-c9d65a62649c",
        "colab": {
          "base_uri": "https://localhost:8080/"
        }
      },
      "outputs": [
        {
          "output_type": "stream",
          "name": "stdout",
          "text": [
            "<class 'dict'>\n",
            "{'voiture': 'véhicule à quatre roues', 'vélo': 'véhicule à deux roues'}\n"
          ]
        }
      ],
      "source": [
        "mon_dictionnaire = {\"voiture\": \"véhicule à quatre roues\", \"vélo\": \"véhicule à deux roues\"}\n",
        "print(type(mon_dictionnaire))\n",
        "print(mon_dictionnaire)\n"
      ]
    },
    {
      "cell_type": "code",
      "execution_count": 68,
      "metadata": {
        "id": "kn-8bdFEWtCj",
        "outputId": "52eeb38c-3e08-4ffd-dd87-284127ab057c",
        "colab": {
          "base_uri": "https://localhost:8080/",
          "height": 36
        }
      },
      "outputs": [
        {
          "output_type": "execute_result",
          "data": {
            "text/plain": [
              "'véhicule à quatre roues'"
            ],
            "application/vnd.google.colaboratory.intrinsic+json": {
              "type": "string"
            }
          },
          "metadata": {},
          "execution_count": 68
        }
      ],
      "source": [
        "#On accède à une valeur du dictionnaire en utilisant la clé entourée par des crochets avec la syntaxe suivante :\n",
        "\n",
        "mon_dictionnaire[\"voiture\"]\n"
      ]
    },
    {
      "cell_type": "code",
      "execution_count": 69,
      "metadata": {
        "id": "0yTpFQKLWtCj",
        "outputId": "148b71a2-e5d3-48c6-f608-72fa86b68343",
        "colab": {
          "base_uri": "https://localhost:8080/"
        }
      },
      "outputs": [
        {
          "output_type": "stream",
          "name": "stdout",
          "text": [
            "{'a': '1', 'b': '2'}\n",
            "{'a': '3', 'b': '2'}\n"
          ]
        }
      ],
      "source": [
        "d = {}\n",
        "d['a'] = '1'\n",
        "d['b'] = '2'\n",
        "print(d)\n",
        "#Modifier la valeur de la clé a\n",
        "d['a']= '3'\n",
        "print(d)"
      ]
    },
    {
      "cell_type": "markdown",
      "metadata": {
        "id": "oXiySO-7WtCj"
      },
      "source": [
        "* soit le dictionnaire dic suivant, Ajouter une clé \"age\" de valeur 20 ans et vérifier que ça était bien ajouté\n"
      ]
    },
    {
      "cell_type": "code",
      "execution_count": 70,
      "metadata": {
        "id": "TP1VJtiRWtCj",
        "outputId": "aa2fe83d-40f0-4f3d-e6a2-25c6a9278fd3",
        "colab": {
          "base_uri": "https://localhost:8080/"
        }
      },
      "outputs": [
        {
          "output_type": "stream",
          "name": "stdout",
          "text": [
            "Jean\n"
          ]
        }
      ],
      "source": [
        "dic = {\n",
        "    'firstname': 'Jean',\n",
        "    'lastname': 'Dupont'\n",
        "}\n",
        "\n",
        "print(dic['firstname'])\n"
      ]
    },
    {
      "cell_type": "code",
      "execution_count": 71,
      "metadata": {
        "id": "QG_Sy0frWtCj",
        "outputId": "369bbcb0-735a-4863-f87f-6887551ffc88",
        "colab": {
          "base_uri": "https://localhost:8080/"
        }
      },
      "outputs": [
        {
          "output_type": "execute_result",
          "data": {
            "text/plain": [
              "{'firstname': 'Jean', 'lastname': 'Dupont', 'age': '20 ans'}"
            ]
          },
          "metadata": {},
          "execution_count": 71
        }
      ],
      "source": [
        "dic['age'] = '20 ans'\n",
        "dic"
      ]
    },
    {
      "cell_type": "markdown",
      "metadata": {
        "id": "6p1-SpD6WtCj"
      },
      "source": [
        "La méthode get permet de récupérer une valeur dans un dictionnaire et si la clé est introuvable??\n",
        "\n",
        "vous pouvez donner une valeur à retourner par défaut .."
      ]
    },
    {
      "cell_type": "code",
      "execution_count": 72,
      "metadata": {
        "id": "d7yWfXPSWtCk",
        "outputId": "e85a1e69-82da-4dfe-9a7a-42e8731d5ede",
        "colab": {
          "base_uri": "https://localhost:8080/"
        }
      },
      "outputs": [
        {
          "output_type": "stream",
          "name": "stdout",
          "text": [
            "Jean\n",
            "Nanterre\n",
            "{'firstname': 'Jean', 'lastname': 'Dupont', 'age': 30, 'adresse': 'Nanterre'}\n"
          ]
        }
      ],
      "source": [
        "data = {\"firstname\": \"Jean\", \"lastname\": \"Dupont\",\"age\": 30,'adresse':'Nanterre'}\n",
        "print(data.get(\"firstname\"))\n",
        "print(data.get(\"adresse\", \"Adresse inconnue\"))\n",
        "print(data)"
      ]
    },
    {
      "cell_type": "markdown",
      "metadata": {
        "id": "XgKDbtqYWtCk"
      },
      "source": [
        "## Supprimer des clés\n",
        "Comme pour les listes, il existe deux méthodes:\n",
        "\n",
        "* A l’aide du mot clé “del”\n"
      ]
    },
    {
      "cell_type": "code",
      "execution_count": 73,
      "metadata": {
        "id": "DnashsE1WtCk",
        "outputId": "054967e9-8835-4cd8-bdf8-b3f14107454d",
        "colab": {
          "base_uri": "https://localhost:8080/"
        }
      },
      "outputs": [
        {
          "output_type": "stream",
          "name": "stdout",
          "text": [
            "{'firstname': 'Jean', 'lastname': 'Dupont', 'age': 30}\n",
            "{'firstname': 'Jean', 'lastname': 'Dupont'}\n"
          ]
        }
      ],
      "source": [
        "data = {\"firstname\": \"Jean\", \"lastname\": \"Dupont\",\"age\": 30}\n",
        "print(data)\n",
        "del(data['age'])\n",
        "print(data)"
      ]
    },
    {
      "cell_type": "markdown",
      "metadata": {
        "id": "FLwOOFkkWtCk"
      },
      "source": [
        "* A l’aide de la méthode “pop()”\n"
      ]
    },
    {
      "cell_type": "code",
      "execution_count": 74,
      "metadata": {
        "id": "b4qoEqmaWtCk",
        "outputId": "02363152-9e9b-4b4e-a6dc-a8d010d1758f",
        "colab": {
          "base_uri": "https://localhost:8080/"
        }
      },
      "outputs": [
        {
          "output_type": "stream",
          "name": "stdout",
          "text": [
            "{'firstname': 'Jean', 'lastname': 'Dupont', 'age': 30}\n",
            "Dupont\n",
            "{'firstname': 'Jean', 'age': 30}\n"
          ]
        }
      ],
      "source": [
        "data = {\"firstname\": \"Jean\", \"lastname\": \"Dupont\",\"age\": 30}\n",
        "print(data)\n",
        "print(data.pop('lastname'))\n",
        "print(data)"
      ]
    },
    {
      "cell_type": "markdown",
      "metadata": {
        "id": "pvUiHA3BWtCk"
      },
      "source": [
        "## Parcourir un dictionnaire\n",
        "\n",
        "### Parcours des clés\n",
        "\n",
        "Comme les dictionnaires n’ont pas de structure ordonnée, les clés ne s’affichent pas dans l’ordre dans lequel on les a entrées.\n",
        "\n",
        "* Il est possible de parcourir les clés d’un dictionnaire de la même manière qu’une liste.\n"
      ]
    },
    {
      "cell_type": "code",
      "execution_count": 75,
      "metadata": {
        "id": "ddb6JI_GWtCk",
        "outputId": "b6d3360f-59fc-4361-e895-5386c44cb238",
        "colab": {
          "base_uri": "https://localhost:8080/"
        }
      },
      "outputs": [
        {
          "output_type": "stream",
          "name": "stdout",
          "text": [
            "firstname\n",
            "lastname\n",
            "age\n"
          ]
        }
      ],
      "source": [
        "data = {\"firstname\": \"Jean\", \"lastname\": \"Dupont\",\"age\": 30}\n",
        "for i in data:\n",
        "    print(i)"
      ]
    },
    {
      "cell_type": "markdown",
      "metadata": {
        "id": "iWivFnuOWtCk"
      },
      "source": [
        "* La méthode keys() de la classe dict permet d’obtenir ce même résultat:"
      ]
    },
    {
      "cell_type": "code",
      "execution_count": 76,
      "metadata": {
        "id": "Bh_Ug5DHWtCl",
        "outputId": "3db4f3a1-2c3a-47c9-a510-51c4d328c49e",
        "colab": {
          "base_uri": "https://localhost:8080/"
        }
      },
      "outputs": [
        {
          "output_type": "stream",
          "name": "stdout",
          "text": [
            "firstname\n",
            "lastname\n",
            "age\n"
          ]
        }
      ],
      "source": [
        "data = {\"firstname\": \"Jean\", \"lastname\": \"Dupont\",\"age\": 30}\n",
        "for key in data.keys():\n",
        "    print(key)"
      ]
    },
    {
      "cell_type": "markdown",
      "metadata": {
        "id": "5_4-xrqTWtCl"
      },
      "source": [
        "### Parcours des valeurs\n",
        "\n",
        "On peut aussi parcourir les valeurs contenues dans un dictionnaire à l’aide de la méthode values() mais qui reste peu utilisée car il est plus pratique de parcourir la liste des clés, puis les valeurs correspondantes."
      ]
    },
    {
      "cell_type": "code",
      "execution_count": 77,
      "metadata": {
        "id": "GNyDTtQoWtCl",
        "outputId": "10c75a8b-ae53-4280-de1d-d442904e3b9c",
        "colab": {
          "base_uri": "https://localhost:8080/"
        }
      },
      "outputs": [
        {
          "output_type": "stream",
          "name": "stdout",
          "text": [
            "Jean\n",
            "Dupont\n",
            "30\n"
          ]
        }
      ],
      "source": [
        "data = {\"firstname\": \"Jean\", \"lastname\": \"Dupont\",\"age\": 30}\n",
        "for val in data.values():\n",
        "    print(val)"
      ]
    },
    {
      "cell_type": "code",
      "execution_count": 78,
      "metadata": {
        "id": "5SOU-H3oWtCl",
        "outputId": "ad169782-1ae2-41b5-b6e0-dcfffa56d1b4",
        "colab": {
          "base_uri": "https://localhost:8080/"
        }
      },
      "outputs": [
        {
          "output_type": "execute_result",
          "data": {
            "text/plain": [
              "dict_values(['Jean', 'Dupont', 30])"
            ]
          },
          "metadata": {},
          "execution_count": 78
        }
      ],
      "source": [
        "data.values()"
      ]
    },
    {
      "cell_type": "markdown",
      "metadata": {
        "id": "LLr3XSPKWtCl"
      },
      "source": [
        "Il est peut etre plus pertinent de l’utiliser dans une condition:"
      ]
    },
    {
      "cell_type": "code",
      "execution_count": 79,
      "metadata": {
        "id": "iCphOZI8WtCl",
        "outputId": "ae210178-a254-49d5-cf9f-de131292f93b",
        "colab": {
          "base_uri": "https://localhost:8080/"
        }
      },
      "outputs": [
        {
          "output_type": "stream",
          "name": "stdout",
          "text": [
            "Jean\n",
            "Dupont\n",
            "30\n"
          ]
        }
      ],
      "source": [
        "data = {\"firstname\": \"Jean\", \"lastname\": \"Dupont\",\"age\": 30}\n",
        "for val in data.values():\n",
        "    #if 'Jean'== val:\n",
        "     print(val)"
      ]
    },
    {
      "cell_type": "markdown",
      "metadata": {
        "id": "GD_3Ca4aWtCl"
      },
      "source": [
        "### Parcours des clés et valeurs simultanément\n",
        "Pour avoir en même temps les clés et les valeurs on utilise la méthode items().\n"
      ]
    },
    {
      "cell_type": "code",
      "execution_count": 80,
      "metadata": {
        "id": "3ktX7AsKWtCm",
        "outputId": "97aa25d5-0352-4735-9383-b4ab786431d6",
        "colab": {
          "base_uri": "https://localhost:8080/"
        }
      },
      "outputs": [
        {
          "output_type": "stream",
          "name": "stdout",
          "text": [
            "la clé firstname contient la valeur Jean\n",
            "la clé lastname contient la valeur Dupont\n",
            "la clé age contient la valeur 30\n"
          ]
        }
      ],
      "source": [
        "data = {\"firstname\": \"Jean\", \"lastname\": \"Dupont\",\"age\": 30}\n",
        "for key, value in data.items():\n",
        "    print(\"la clé {0} contient la valeur {1}\".format(key,value))"
      ]
    },
    {
      "cell_type": "markdown",
      "metadata": {
        "id": "LXqHug-HWtCm"
      },
      "source": [
        "* Parcourir ce planning de salle de ciné suivant et afficher ses éléments\n"
      ]
    },
    {
      "cell_type": "code",
      "execution_count": 81,
      "metadata": {
        "id": "B198gaZiWtCm"
      },
      "outputs": [],
      "source": [
        "horaires = [\n",
        "    {'film': 'Seul sur Mars', 'heure': 9},\n",
        "    {'film': 'Astérix et Obélix Mission Cléopâtre', 'heure': 10},\n",
        "    {'film': 'Star Wars VII', 'heure': 15},\n",
        "    {'film': 'Time Lapse', 'heure': 18},\n",
        "    {'film': 'Fatal', 'heure': 20},\n",
        "    {'film': 'Limitless', 'heure': 20},\n",
        "]\n",
        "\n",
        "#à completer!\n",
        "\n"
      ]
    },
    {
      "cell_type": "code",
      "execution_count": 82,
      "metadata": {
        "id": "QIpkOJERWtCm",
        "outputId": "8b8db9b1-75e2-4df1-9b9a-91923adad5a6",
        "colab": {
          "base_uri": "https://localhost:8080/"
        }
      },
      "outputs": [
        {
          "output_type": "stream",
          "name": "stdout",
          "text": [
            "Seul sur Mars\n",
            "Astérix et Obélix Mission Cléopâtre\n",
            "Star Wars VII\n",
            "Time Lapse\n",
            "Fatal\n",
            "Limitless\n"
          ]
        }
      ],
      "source": [
        "for film in horaires:\n",
        "    print(film.get('film'))"
      ]
    },
    {
      "cell_type": "code",
      "execution_count": 83,
      "metadata": {
        "id": "84z5oW1_WtCm",
        "outputId": "a6bb6e2e-fd99-4a4a-c688-4ecaa1ef1a63",
        "colab": {
          "base_uri": "https://localhost:8080/"
        }
      },
      "outputs": [
        {
          "output_type": "stream",
          "name": "stdout",
          "text": [
            " 0- la séance: {'film': 'Seul sur Mars', 'heure': 9}.\n",
            "la clé film contient la valeur Seul sur Mars\n",
            "la clé heure contient la valeur 9\n",
            " 1- la séance: {'film': 'Astérix et Obélix Mission Cléopâtre', 'heure': 10}.\n",
            "la clé film contient la valeur Astérix et Obélix Mission Cléopâtre\n",
            "la clé heure contient la valeur 10\n",
            " 2- la séance: {'film': 'Star Wars VII', 'heure': 15}.\n",
            "la clé film contient la valeur Star Wars VII\n",
            "la clé heure contient la valeur 15\n",
            " 3- la séance: {'film': 'Time Lapse', 'heure': 18}.\n",
            "la clé film contient la valeur Time Lapse\n",
            "la clé heure contient la valeur 18\n",
            " 4- la séance: {'film': 'Fatal', 'heure': 20}.\n",
            "la clé film contient la valeur Fatal\n",
            "la clé heure contient la valeur 20\n",
            " 5- la séance: {'film': 'Limitless', 'heure': 20}.\n",
            "la clé film contient la valeur Limitless\n",
            "la clé heure contient la valeur 20\n"
          ]
        }
      ],
      "source": [
        "horaires = [\n",
        "    {'film': 'Seul sur Mars', 'heure': 9},\n",
        "    {'film': 'Astérix et Obélix Mission Cléopâtre', 'heure': 10},\n",
        "    {'film': 'Star Wars VII', 'heure': 15},\n",
        "    {'film': 'Time Lapse', 'heure': 18},\n",
        "    {'film': 'Fatal', 'heure': 20},\n",
        "    {'film': 'Limitless', 'heure': 20},\n",
        "]\n",
        "for i , elt in enumerate ( horaires ) :\n",
        "    print (\" {}- la séance: {}.\". format (i , elt ) )\n",
        "    for key, value in elt.items():\n",
        "        print(\"la clé {0} contient la valeur {1}\".format(key,value))\n",
        ""
      ]
    },
    {
      "cell_type": "markdown",
      "metadata": {
        "id": "uOh78QaAWtCm"
      },
      "source": [
        "* Créer le dictionnaire suivant et le stocker dans une variable d1 :\n",
        "\n",
        "    age: 20\n",
        "    nom: \"Doe\"\n",
        "\n",
        "Créer un second dictionnaire d2 contenant les valeurs suivantes :\n",
        "\n",
        "    age: 22\n",
        "    firstname: \"John\"\n",
        "    adresse: \"Paris\"\n",
        "\n"
      ]
    },
    {
      "cell_type": "code",
      "execution_count": 84,
      "metadata": {
        "id": "tRGZCyjQWtCm"
      },
      "outputs": [],
      "source": [
        "#Fusionner le dictionnaire d1 dans d2\n",
        "\n",
        "#TBD\n",
        "\n",
        "# A l'aide d'une boucle for afficher à la fois la clé du dictionnaire d2 et sa valeur pour chaque élément\n",
        "\n",
        "#TBD\n",
        "\n",
        "# Supprimer la clé adresse du dictionnaire d2\n",
        "\n",
        "#TBD\n"
      ]
    },
    {
      "cell_type": "code",
      "execution_count": 85,
      "metadata": {
        "id": "TIhQ5vVnWtCm",
        "outputId": "d4333e10-a4c3-4911-9c8a-5098932e3470",
        "colab": {
          "base_uri": "https://localhost:8080/"
        }
      },
      "outputs": [
        {
          "output_type": "stream",
          "name": "stdout",
          "text": [
            "{'age': 20, 'firstname': 'John', 'adresse': 'Paris', 'nom': 'Doe'}\n",
            "la clé age contient la valeur 20\n",
            "la clé firstname contient la valeur John\n",
            "la clé adresse contient la valeur Paris\n",
            "la clé nom contient la valeur Doe\n",
            "{'age': 20, 'firstname': 'John', 'nom': 'Doe'}\n"
          ]
        }
      ],
      "source": [
        "d1= {'age': 20 ,'nom': \"Doe\"}\n",
        "d2= {'age': 22, 'firstname': \"John\",'adresse': \"Paris\"}\n",
        "#Fusionner le dictionnaire d1 dans d2\n",
        "m = d2.copy()\n",
        "m.update(d1)\n",
        "print(m)\n",
        "\n",
        "# A l'aide d'une boucle for afficher à la fois la clé du dictionnaire d2 et sa valeur pour chaque élément\n",
        "\n",
        "for key, value in m.items():\n",
        "        print(\"la clé {0} contient la valeur {1}\".format(key,value))\n",
        "\n",
        "\n",
        "# Supprimer la clé adresse du dictionnaire d2\n",
        "\n",
        "m.pop('adresse')\n",
        "print(m)\n",
        "\n",
        "\n"
      ]
    },
    {
      "cell_type": "markdown",
      "metadata": {
        "id": "DgNQIm1qWtCn"
      },
      "source": [
        "# Les fonctions\n",
        "\n",
        "## Pourquoi utiliser des fonctions\n",
        "\n",
        "Une fonction est un **bout de code** que l'on va définir afin d'être **réutilisé**. Pourquoi devrions-nous faire cela ? En programmation, nous cherchons à résoudre des problèmes, et comme nous l'avons vu en découvrant l'algorithmique très souvent nous pouvons **découper** un problème en plusieurs **sous-problèmes** à résoudre et cela nous aide à rendre le problème plus simple à résoudre. Une des premières utilité d'une fonction est donc de rendre le problème plus simple a résoudre en le découpant en sous problèmes. Cela a aussi l'avantage de rendre le code plus lisible en le découpant et en nommant les actions."
      ]
    },
    {
      "cell_type": "markdown",
      "metadata": {
        "id": "HA0-lnZgWtCn"
      },
      "source": [
        "## Définir et appeler des fonctions en Python\n",
        "\n",
        "En Python, pour déclarer une fonction on procède de la manière suivante :"
      ]
    },
    {
      "cell_type": "code",
      "execution_count": 86,
      "metadata": {
        "id": "8CLt3_B8WtCn"
      },
      "outputs": [],
      "source": [
        "def definir_prenom():\n",
        "    prenom = \"Jules\""
      ]
    },
    {
      "cell_type": "markdown",
      "metadata": {
        "id": "e_c7w-MEWtCn"
      },
      "source": [
        "Cette fonction ne fait pas grand chose, elle déclare juste une variable `prenom` à l'intérieur de la fonction qui contiendra la chaîne de caractères _Jules_. On peut maintenant **l'appeler** dans la suite de notre programme."
      ]
    },
    {
      "cell_type": "code",
      "execution_count": 87,
      "metadata": {
        "id": "whz6HR-UWtCn"
      },
      "outputs": [],
      "source": [
        "def definir_prenom(x,y):\n",
        "    #prenom = \"Jules\"\n",
        "    #age=40\n",
        "    z=y +20\n",
        "    print('hello'+ x)\n",
        "    return z\n",
        "\n"
      ]
    },
    {
      "cell_type": "code",
      "execution_count": 88,
      "metadata": {
        "id": "D2Z6v5uYWtCn",
        "outputId": "9fd68ddc-e746-4747-94bf-5ccd23bf0f5b",
        "colab": {
          "base_uri": "https://localhost:8080/"
        }
      },
      "outputs": [
        {
          "output_type": "stream",
          "name": "stdout",
          "text": [
            "20\n",
            "helloJUles\n",
            "40\n",
            "hello\n",
            "JUles 40\n"
          ]
        }
      ],
      "source": [
        "prenom1='JUles'\n",
        "age1=20\n",
        "print(age1)\n",
        "age2=definir_prenom(prenom1,age1)\n",
        "print(age2)\n",
        "#print(prenom)\n",
        "print('hello')\n",
        "print(prenom1,age2)"
      ]
    },
    {
      "cell_type": "markdown",
      "metadata": {
        "id": "PlJW2qRsWtCn"
      },
      "source": [
        "Il ne se passera rien de bien intéressant mais nous avons défini notre première fonction !"
      ]
    },
    {
      "cell_type": "markdown",
      "metadata": {
        "id": "ExZmCb9aWtCn"
      },
      "source": [
        "Les fonctions deviennent **intéressantes** lorsque l'on :\n",
        "\n",
        "- Définit des **paramètres**\n",
        "- Renvoie une **valeur de retour**"
      ]
    },
    {
      "cell_type": "code",
      "execution_count": 89,
      "metadata": {
        "id": "OEkEpIaFWtCo"
      },
      "outputs": [],
      "source": [
        "def dire_bonjour(prenom):\n",
        "    return \"Bonjour \" + prenom\n",
        "\n",
        "# Ici on range le retour de la fonction dans la variable message_bienvenue\n",
        "message_bienvenue = dire_bonjour(\"Jules\")\n"
      ]
    },
    {
      "cell_type": "code",
      "execution_count": 90,
      "metadata": {
        "id": "AfMW1NH-WtCo",
        "outputId": "eb38ea31-e376-4e45-f642-de75fe71e766",
        "colab": {
          "base_uri": "https://localhost:8080/"
        }
      },
      "outputs": [
        {
          "output_type": "stream",
          "name": "stdout",
          "text": [
            "Bonjour Jules\n"
          ]
        }
      ],
      "source": [
        "print(message_bienvenue)"
      ]
    },
    {
      "cell_type": "markdown",
      "metadata": {
        "id": "I0_8brOqWtCo"
      },
      "source": [
        "Avec cette fonction, je peux maintenant générer des messages de bienvenue différents car `dire_bonjour(prenom)` prend en **paramètre** une chaîne de caractères nommée `prenom` et **retourne** la valeur \"Bienvenue _valeur de prenom_\"\n",
        "\n",
        "On peut définir autant d'arguments que l'on veut (même si ça va vite devenir compliqué si une fonction dépasse 5 arguments) et on ne pourra retourner qu'une seule valeur de retour.\n",
        "\n",
        "Pour plus de détails : [La documentation officielle de Python](https://docs.python.org/fr/3/tutorial/controlflow.html#defining-functions)"
      ]
    },
    {
      "cell_type": "code",
      "execution_count": null,
      "metadata": {
        "id": "uQVNbAMlWtCo",
        "outputId": "0ede937e-1a21-4b47-bace-7343da3970b7"
      },
      "outputs": [
        {
          "name": "stdout",
          "output_type": "stream",
          "text": [
            "Autorisé\n"
          ]
        }
      ],
      "source": [
        "# on définit une fonction qui retourne 'autorisé ou 'Non Autorisé' pour particpier à une attraction\n",
        "\n",
        "def controle(x):\n",
        "    # Faire attention aux indentations pour indenifier la zone du code de la fonction\n",
        "    if x < 120:\n",
        "        print(\"La taille minimale pour l'attraction est de 150cm !\")\n",
        "        return \"Non Autorisé\"\n",
        "    elif x > 210:\n",
        "        #print(\"Vous êtes trop grand, vous ne pouvez pas entrer !\")\n",
        "        return \"Non Autorisé\"\n",
        "    else:\n",
        "        return \"Autorisé\"\n",
        "\n",
        "print(controle(170))"
      ]
    },
    {
      "cell_type": "code",
      "execution_count": 92,
      "metadata": {
        "id": "Ig07h7qWWtCo",
        "outputId": "d03b6c8a-743d-4f65-a867-184bf257caf1",
        "colab": {
          "base_uri": "https://localhost:8080/"
        }
      },
      "outputs": [
        {
          "output_type": "stream",
          "name": "stdout",
          "text": [
            "<zip object at 0x7c6b1c303f80>\n",
            "[('a', 1), ('b', 2)]\n"
          ]
        }
      ],
      "source": [
        "#Interpréter ce code\n",
        "\n",
        "l1 = ['a', 'b', 'c']\n",
        "l2 = [1, 2]\n",
        "\n",
        "print(zip(l1, l2))\n",
        "print(list(zip(l1, l2)))#returns tuples inside a list by combining the lists paiwise"
      ]
    },
    {
      "cell_type": "code",
      "execution_count": null,
      "metadata": {
        "id": "ujTA-A0cWtCo"
      },
      "outputs": [],
      "source": [
        "#TBD"
      ]
    },
    {
      "cell_type": "code",
      "execution_count": 93,
      "metadata": {
        "id": "GV5Qf47sWtCo",
        "outputId": "6ae02153-3bd2-45f2-96c6-524e9e32df47",
        "colab": {
          "base_uri": "https://localhost:8080/"
        }
      },
      "outputs": [
        {
          "output_type": "stream",
          "name": "stdout",
          "text": [
            "('François', 19, 1100)\n",
            "('Corine', 23, 780)\n",
            "('Anabelle', 21, 800)\n",
            "('Sarah', 18, 950)\n",
            "[('François', 19, 1100), ('Corine', 23, 780), ('Anabelle', 21, 800), ('Sarah', 18, 950)]\n"
          ]
        }
      ],
      "source": [
        "client =  ['François', 'Corine', 'Anabelle', 'Sarah']\n",
        "produit =  [19,  23,  21,  18 ]\n",
        "prix =  [1100,  780,  800,  950]\n",
        "def suivi_client(client, produit, prix):\n",
        "    for elt in zip(client, produit, prix):\n",
        "        print(elt)\n",
        "    return zip(client, produit, prix)\n",
        "\n",
        "print(list(suivi_client(client, produit, prix)))"
      ]
    },
    {
      "cell_type": "markdown",
      "metadata": {
        "id": "ZvZyTcNkWtCo"
      },
      "source": [
        "## Les Exceptions\n",
        "\n",
        "il y a au moins deux types d’erreurs à distinguer : les erreurs de syntaxe et les exceptions.\n",
        "* Les erreurs de syntaxe -> qui sont des erreurs d’analyse du code: invalid syntax\n",
        "* les Exceptions -> qui sont des erreurs détectées durant l'exécution d'un programme même si l'instruction ou l'expression est syntaxiquement correcte.\n",
        "Les erreurs détectées doivent etre traitées dans vos programmes -> La plupart des exceptions ne sont pas prises en charge par les programmes, ce qui génère des messages d’erreurs..\n",
        "\n",
        "**Try except**\n",
        "\n",
        "Try signifie \"essayer\", ce mot clé permet d'essayer une action et si l'action échoue on peut lui donner d'autres instructions dans un bloc except àfin d'éviter un arret brusque et non controlé de notre application .\n",
        "\n",
        "https://docs.python.org/fr/3.5/tutorial/errors.html"
      ]
    },
    {
      "cell_type": "code",
      "execution_count": null,
      "metadata": {
        "id": "4D-DcROsWtCp"
      },
      "outputs": [],
      "source": [
        "v = 0\n",
        "w = 5\n",
        "w/v\n",
        "try:\n",
        "    w/v\n",
        "    print(\"Ok pas erreur\")\n",
        "except:\n",
        "    print(\"Erreur\")\n",
        "\n",
        "print('helloworld!')"
      ]
    },
    {
      "cell_type": "code",
      "execution_count": null,
      "metadata": {
        "id": "j8XyOJ0aWtCp",
        "outputId": "2ceeee8f-6039-4d65-d2a7-1b4c80127e6a"
      },
      "outputs": [
        {
          "ename": "TypeError",
          "evalue": "unsupported operand type(s) for /: 'int' and 'str'",
          "output_type": "error",
          "traceback": [
            "\u001b[1;31m---------------------------------------------------------------------------\u001b[0m",
            "\u001b[1;31mTypeError\u001b[0m                                 Traceback (most recent call last)",
            "\u001b[1;32m<ipython-input-22-a44fc69352f6>\u001b[0m in \u001b[0;36m<module>\u001b[1;34m\u001b[0m\n\u001b[0;32m      1\u001b[0m \u001b[0mv\u001b[0m \u001b[1;33m=\u001b[0m \u001b[1;34m\"test\"\u001b[0m\u001b[1;33m\u001b[0m\u001b[1;33m\u001b[0m\u001b[0m\n\u001b[0;32m      2\u001b[0m \u001b[0mw\u001b[0m \u001b[1;33m=\u001b[0m \u001b[1;36m5\u001b[0m\u001b[1;33m\u001b[0m\u001b[1;33m\u001b[0m\u001b[0m\n\u001b[1;32m----> 3\u001b[1;33m \u001b[0mw\u001b[0m\u001b[1;33m/\u001b[0m\u001b[0mv\u001b[0m\u001b[1;33m\u001b[0m\u001b[1;33m\u001b[0m\u001b[0m\n\u001b[0m",
            "\u001b[1;31mTypeError\u001b[0m: unsupported operand type(s) for /: 'int' and 'str'"
          ]
        }
      ],
      "source": [
        "v = \"test\"\n",
        "w = 5\n",
        "w/v"
      ]
    },
    {
      "cell_type": "code",
      "execution_count": null,
      "metadata": {
        "id": "TMpjOxYIWtCp",
        "outputId": "c2a2f239-5a27-4d09-c39a-62f753fe7336"
      },
      "outputs": [
        {
          "name": "stdout",
          "output_type": "stream",
          "text": [
            "Ok pas erreur\n"
          ]
        }
      ],
      "source": [
        "v =2\n",
        "w = 0\n",
        "try:\n",
        "    w/v\n",
        "    print(\"Ok pas erreur\")\n",
        "except TypeError:\n",
        "    print(\"Merci d'utiliser des chiffres\")\n",
        "except ZeroDivisionError:\n",
        "    print(\"Merci de ne pas diviser par 0\")\n",
        "\n"
      ]
    },
    {
      "cell_type": "markdown",
      "metadata": {
        "id": "cHrYhE_KWtCp"
      },
      "source": [
        "* On utilise le mot clé finally pour exécuter des instructions quelque soit les erreurs générées ou non (et même si il y a présence d'un return ). Dans tous les cas les instructions placées dans finally seront executées.\n"
      ]
    },
    {
      "cell_type": "code",
      "execution_count": null,
      "metadata": {
        "id": "9pQ8-niLWtCp"
      },
      "outputs": [],
      "source": [
        "try:\n",
        "    pass\n",
        "except:\n",
        "    pass\n",
        "finally:\n",
        "    print(\"Execution\")"
      ]
    },
    {
      "cell_type": "markdown",
      "metadata": {
        "id": "gOliTmEWWtCp"
      },
      "source": [
        "[La Reference complete est ici](https://docs.python.org/fr/3.9/tutorial/errors.html)"
      ]
    },
    {
      "cell_type": "markdown",
      "metadata": {
        "id": "xwMHCvf1WtCp"
      },
      "source": [
        "# Entrées / Sorties\n",
        "\n",
        "Lorsque l'on exécute un programme, on peut avoir besoin de lui fournir des données en entrée ou bien d'en récupérer en sortie. Plusieurs méthodes existent et nous allons en explorer deux : en utilisant la **console** et les **fichiers**."
      ]
    },
    {
      "cell_type": "markdown",
      "metadata": {
        "id": "8m764EUbWtCp"
      },
      "source": [
        "## Console\n",
        "\n",
        "La console (ou terminal) est une interface en ligne de commande qui permet de dialoguer avec notre machine en lui écrivant des **instructions** et en lisant les **retours** faits une fois les instructions réalisées. Lorsque nous écrivons un programme Python dans un fichier et que nous lançons ce programme via la console, les instructions du programme s'enchaîne et on reprend la main sur la console lorsque toutes les instructions du programme sont terminées. On pourrait avoir envie d'afficher des informations lors de la réalisation du programme et aussi de demander à l'utilisateur d'en saisir."
      ]
    },
    {
      "cell_type": "markdown",
      "metadata": {
        "id": "UnhFEyG_WtCq"
      },
      "source": [
        "Pour **afficher** quelque chose dans la console, il suffit d'utiliser l'instruction `print()`.\n",
        "\n",
        "Pour **récupérer une entrée utilisateur**, il suffit d'utiliser la fonction `input()`."
      ]
    },
    {
      "cell_type": "code",
      "execution_count": null,
      "metadata": {
        "id": "OcHQoofGWtCq"
      },
      "outputs": [],
      "source": [
        "def dire_bonjour(prenom):\n",
        "    return \"Bonjour \" + prenom\n",
        "\n",
        "prenom_utilisateur = input(\"Bonjour, comment t'appelles-tu ? \")\n",
        "\n",
        "print(dire_bonjour(prenom_utilisateur))"
      ]
    },
    {
      "cell_type": "markdown",
      "metadata": {
        "id": "VTARb5ZgWtCq"
      },
      "source": [
        "## Fichiers\n",
        "\n",
        "Parfois nous aurons aussi besoin de lire ou d'écrire dans des fichiers. Dans les deux cas, il faudra ouvrir le fichier et lire ou écrire dedans.\n",
        "\n",
        "Pour ouvrir un fichier il faut utiliser la fonction `open()` et lui donnant en argument l'emplacement du fichier et le mode (façon dont on va utiliser le fichier). Pour le mode, on peut utiliser `'r'` pour lire, `'w'` pour écrire, '`a`' pour écrire à la fin ou '`r+`' pour lire et écrire."
      ]
    },
    {
      "cell_type": "markdown",
      "metadata": {
        "id": "fd1oyhQQWtCq"
      },
      "source": [
        "### Lire\n",
        "\n",
        "Ci dessous un exemple de lecture de la première ligne d'un fichier markdown. On utilisera la fonction `readline()` pour récupérer le contenu d'une ligne du fichier que nous souhaitons lire."
      ]
    },
    {
      "cell_type": "code",
      "execution_count": null,
      "metadata": {
        "id": "vVV4ZCreWtCq"
      },
      "outputs": [],
      "source": [
        "f = open('cours.md', 'r')\n",
        "print(f.readline())\n",
        "f.close()"
      ]
    },
    {
      "cell_type": "markdown",
      "metadata": {
        "id": "YTLSQlIKWtCq"
      },
      "source": [
        "Si l'on veut lire toutes les lignes du fichier on peut écrire le code suivant :"
      ]
    },
    {
      "cell_type": "code",
      "execution_count": null,
      "metadata": {
        "id": "m6oAPSqPWtCq"
      },
      "outputs": [],
      "source": [
        "f = open('cours.md', 'r')\n",
        "\n",
        "for line in f:\n",
        "    print(line)\n",
        "\n",
        "f.close()"
      ]
    },
    {
      "cell_type": "markdown",
      "metadata": {
        "id": "UHRZSHFnWtCr"
      },
      "source": [
        "Dans cet exemple, il est important de noter que l'on ouvre le fichier avant de lire ses lignes et une fois la lecture terminée, on le ferme avec la fonction `close()`. On peut simplifier ce fonctionnement grâce à l'instruction `with` qui fermera automatiquement le fichier pour nous :"
      ]
    },
    {
      "cell_type": "code",
      "execution_count": null,
      "metadata": {
        "id": "dZ4bQPMvWtCr"
      },
      "outputs": [],
      "source": [
        "with open('cours.md', 'r') as f:\n",
        "    for line in f:\n",
        "        print(line)\n",
        "\n",
        "print('end')"
      ]
    },
    {
      "cell_type": "markdown",
      "metadata": {
        "id": "trRqOFK9WtCr"
      },
      "source": [
        "### Ecrire\n",
        "\n",
        "Ci dessous un exemple d'écriture d'une ligne dans fichier texte. On utilisera la fonction `write()` pour écrire du contenu dans un fichier."
      ]
    },
    {
      "cell_type": "code",
      "execution_count": null,
      "metadata": {
        "id": "O8zZRMEzWtCr"
      },
      "outputs": [],
      "source": [
        "f = open('./output.txt', 'w')\n",
        "f.write('Mon premier fichier écrit en Python')\n",
        "f.close()"
      ]
    },
    {
      "cell_type": "markdown",
      "metadata": {
        "id": "mZ6JYwoQWtCr"
      },
      "source": [
        "# Modules et Packages\n",
        "\n",
        "On regroupe des fonctions dans un fichier (ou aussi script) python, on crée un ensemble de fonctions que l'on nomme \" module \".\n",
        "\n",
        "Lorsque l'on cherche à regrouper des modules, on parle de package .\n",
        "\n",
        "**Les modules de python**\n",
        "\n",
        "Voici une liste de modules de base que vous serez amené un jour ou l'autre à utiliser.\n",
        "\n",
        "* random   : fonctions permettant de travailler avec des valeurs aléatoires\n",
        "* math     : toutes les fonctions utiles pour les opérations mathématiques (cosinus,sinus,exp,etc.)\n",
        "* sys      : fonctions systèmes\n",
        "* os       : fonctions permettant d'interagir avec le système d'exploitation\n",
        "* time     : fonctions permettant de travailler avec le temps\n",
        "* calendar : fonctions de calendrier\n",
        "* profile  : fonctions permettant d'analyser l'execution des fonctions\n",
        "* urllib2  : fonctions permettant de récupérer des informations sur internet\n",
        "* re       : fonctions permettant de travailler sur des expressions réguliè\n"
      ]
    },
    {
      "cell_type": "markdown",
      "metadata": {
        "id": "CwJ_q9-PWtCs"
      },
      "source": [
        "**Les Packages**\n",
        "Pour créer votre propre package, il faut créer dans le même dossier que votre programme - un dossier portant le nom de votre package. par exmple \" utils \".\n",
        "\n",
        "Dans ce dossier, créer le fichier : __init__.py , cela indique à python qu'il s'agit d'un package . Ce fichier peut être vide, seule sa présence est importante.\n",
        "\n",
        "Ensuite créer un fichier toujours dans ce réportoire utils avec votre code d'application python exemple: \" operations.py \"\n",
        "\n",
        "\n",
        "\n",
        "![image.png](attachment:image.png)\n",
        "\n",
        "et dans utils:\n",
        "\n",
        "![image-2.png](attachment:image-2.png)"
      ]
    },
    {
      "cell_type": "markdown",
      "metadata": {
        "id": "i29M-OLgWtCs"
      },
      "source": [
        "Afin d'accéder et d'utiliser les différents fichier du projet à partir du fihcier fiche.py il faut déclarer les modules"
      ]
    },
    {
      "cell_type": "code",
      "execution_count": null,
      "metadata": {
        "id": "QaFHfp0lWtCs"
      },
      "outputs": [],
      "source": [
        "from func import *\n",
        "from utils.operations import ajoute_deux"
      ]
    },
    {
      "cell_type": "markdown",
      "metadata": {
        "id": "L9kZKyUjWtCs"
      },
      "source": [
        "[La Reference complete est ici](https://docs.python.org/fr/3/tutorial/modules.html)"
      ]
    },
    {
      "cell_type": "code",
      "execution_count": null,
      "metadata": {
        "id": "XBIeGHxVWtCt",
        "outputId": "dde730ba-5d17-4748-9067-da5a1d51db45"
      },
      "outputs": [
        {
          "data": {
            "text/plain": [
              "0.9950041652780258"
            ]
          },
          "execution_count": 97,
          "metadata": {},
          "output_type": "execute_result"
        }
      ],
      "source": [
        "\n",
        "from math import *\n",
        "x=0.1\n",
        "cos(x)"
      ]
    },
    {
      "cell_type": "code",
      "execution_count": null,
      "metadata": {
        "id": "q_p8ze3IWtCt"
      },
      "outputs": [],
      "source": [
        "list."
      ]
    }
  ],
  "metadata": {
    "celltoolbar": "Diaporama",
    "kernelspec": {
      "display_name": "Python 3 (ipykernel)",
      "language": "python",
      "name": "python3"
    },
    "language_info": {
      "codemirror_mode": {
        "name": "ipython",
        "version": 3
      },
      "file_extension": ".py",
      "mimetype": "text/x-python",
      "name": "python",
      "nbconvert_exporter": "python",
      "pygments_lexer": "ipython3",
      "version": "3.9.12"
    },
    "toc": {
      "base_numbering": 1,
      "nav_menu": {},
      "number_sections": true,
      "sideBar": true,
      "skip_h1_title": false,
      "title_cell": "Table of Contents",
      "title_sidebar": "Contents",
      "toc_cell": false,
      "toc_position": {
        "height": "700.463px",
        "left": "265.995px",
        "top": "110.255px",
        "width": "165px"
      },
      "toc_section_display": true,
      "toc_window_display": true
    },
    "colab": {
      "provenance": []
    }
  },
  "nbformat": 4,
  "nbformat_minor": 0
}