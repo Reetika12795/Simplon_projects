{
  "cells": [
    {
      "cell_type": "markdown",
      "metadata": {
        "id": "U00zdaWD35sC"
      },
      "source": [
        "# Exercice 1:  \n",
        "\n",
        "1-  Remplir une liste d'apprenants, afficher le nombre des enregistrés ainsi que le premier et le dernier de la liste .\n",
        "\n",
        "2-  Ajouter, ensuite, un nouvel apprenant et afficher la liste finale"
      ]
    },
    {
      "cell_type": "code",
      "execution_count": null,
      "metadata": {
        "id": "WL7qln1y35sF",
        "outputId": "9b245c79-070a-4bcf-84f2-16dc428086e0",
        "colab": {
          "base_uri": "https://localhost:8080/"
        }
      },
      "outputs": [
        {
          "output_type": "stream",
          "name": "stdout",
          "text": [
            "['Eliz', 'Reetika', 'samia', 'niaaz', 'gauthier', 'yasmina', 'sebastien']\n"
          ]
        }
      ],
      "source": [
        "\n",
        "#TBD\n",
        "students = [\"Eliz\",\"Reetika\",\"samia\",\"niaaz\",\"gauthier\",\"yasmina\"]\n",
        "students.append(\"sebastien\")\n",
        "print(students)\n",
        "\n"
      ]
    },
    {
      "cell_type": "markdown",
      "metadata": {
        "id": "QLDDgOd335sG"
      },
      "source": [
        "* supprimer des élements d'une liste:\n",
        "\n",
        "1- avec del : del variable_a_supprimer.\n",
        "\n",
        "2- avec la méthode remove: qui prend en paramètre l'élément (et non pas l'indice de l'élément à supprimer (pop)."
      ]
    },
    {
      "cell_type": "code",
      "execution_count": null,
      "metadata": {
        "id": "KJg3gRF535sG",
        "outputId": "12643e10-3ca4-482d-8026-a84b2c4eeb05",
        "colab": {
          "base_uri": "https://localhost:8080/"
        }
      },
      "outputs": [
        {
          "output_type": "stream",
          "name": "stdout",
          "text": [
            "['Reetika', 'samia', 'niaaz', 'gauthier', 'yasmina', 'sebastien']\n"
          ]
        }
      ],
      "source": [
        "#TBD\n",
        "del students[0] #deletes element from specific position\n",
        "print(students)"
      ]
    },
    {
      "cell_type": "code",
      "source": [
        "studnets.pop#removes element from the end\n",
        "print(studnets)"
      ],
      "metadata": {
        "id": "grAz20Id5yEF",
        "outputId": "cce4f492-d971-4cbb-cc0a-22c484a0c59c",
        "colab": {
          "base_uri": "https://localhost:8080/"
        }
      },
      "execution_count": null,
      "outputs": [
        {
          "output_type": "stream",
          "name": "stdout",
          "text": [
            "['Eliz', 'Reetika', 'samia', 'niaaz', 'gauthier', 'yasmina']\n"
          ]
        }
      ]
    },
    {
      "cell_type": "markdown",
      "source": [],
      "metadata": {
        "id": "FuD-HX2q59ok"
      }
    },
    {
      "cell_type": "markdown",
      "metadata": {
        "id": "KsRjCsNe35sH"
      },
      "source": [
        "Pour plus de détails : [La documentation officielle de Python](https://docs.python.org/fr/3/tutorial/controlflow.html#the-range-function)"
      ]
    },
    {
      "cell_type": "markdown",
      "metadata": {
        "id": "MFI7hy-c35sH"
      },
      "source": [
        "# Exercice 2:\n",
        "\n",
        "soit la liste suivante:\n",
        "\n",
        "weekdays = ['mon', 'tues', 'wed', 'thurs', 'fri']\n",
        "\n",
        "Suivre les instructions ci dessous:"
      ]
    },
    {
      "cell_type": "code",
      "execution_count": null,
      "metadata": {
        "id": "jieoBeHK35sH",
        "outputId": "1ff513f6-ed0b-4e7a-8aca-91ff5d6045d0",
        "colab": {
          "base_uri": "https://localhost:8080/"
        }
      },
      "outputs": [
        {
          "output_type": "stream",
          "name": "stdout",
          "text": [
            "mon\n",
            "['mon', 'tues', 'wed']\n",
            "['mon', 'wed', 'fri']\n",
            "['fri', 'thurs', 'wed', 'tues', 'mon']\n",
            "['fri', 'mon', 'thurs', 'tues', 'wed']\n",
            "['wed', 'tues', 'thurs', 'mon', 'fri']\n",
            "['mon', 'tues', 'wed', 'thurs', 'fri']\n"
          ]
        }
      ],
      "source": [
        "weekdays = ['mon', 'tues', 'wed', 'thurs', 'fri']\n",
        "# Afficher le premier element de la liste\n",
        "#TBD\n",
        "print(weekdays[0])\n",
        "\n",
        "#Afficher les elements 0 (inclus) à 3 (exclus)\n",
        "#TBD\n",
        "print(weekdays[0:3])\n",
        "\n",
        "#Afficher avec un pas de 2 (les indices: 0,2,4)\n",
        "#TBD\n",
        "print(weekdays[0:5:2])\n",
        "\n",
        "\n",
        "#Afficher la liste inversée\n",
        "#TBD\n",
        "print(weekdays[::-1])\n",
        "\n",
        "#Afficher la liste triée\n",
        "#TBD\n",
        "print(sorted(weekdays))\n",
        "# weekdays.reverse()#inline changes, cannot work with print and reverse in one statement\n",
        "# print(weekdays)\n",
        "\n",
        "#Afficher la liste inversement triée\n",
        "print(sorted(weekdays,reverse=True) )\n",
        "\n",
        "print(weekdays)"
      ]
    },
    {
      "cell_type": "code",
      "source": [],
      "metadata": {
        "id": "_uePXDCjbdts",
        "outputId": "c229eae2-0dd0-41d1-c993-4e0bda8662b1",
        "colab": {
          "base_uri": "https://localhost:8080/"
        }
      },
      "execution_count": null,
      "outputs": [
        {
          "output_type": "stream",
          "name": "stdout",
          "text": [
            "[5, 4, 3, 2, 1]\n"
          ]
        }
      ]
    },
    {
      "cell_type": "markdown",
      "metadata": {
        "id": "fJV8HLCK35sI"
      },
      "source": [
        "# Exercice 3:\n",
        "\n",
        "soit cette liste:\n",
        "\n",
        "a=  [0,3,1]\n",
        "\n",
        "suivre les instructions ci dessous:\n"
      ]
    },
    {
      "cell_type": "code",
      "execution_count": null,
      "metadata": {
        "id": "1vQiOXZ335sI",
        "outputId": "92e24691-03e9-48f0-c727-057e30359991",
        "colab": {
          "base_uri": "https://localhost:8080/"
        }
      },
      "outputs": [
        {
          "output_type": "stream",
          "name": "stdout",
          "text": [
            "3\n",
            "1\n",
            "0\n",
            "1\n",
            "(0, 3, 1, 3, 4)\n",
            "<class 'list'>\n",
            "<class 'tuple'>\n"
          ]
        }
      ],
      "source": [
        "a=[0,3,1]\n",
        "# creer un tuple t à partir de la liste a et afficher son length\n",
        "t = tuple(a)\n",
        "print(len(t))\n",
        "\n",
        "# compter le nombre d'instances de 0 dans t\n",
        "print(t.count(0))\n",
        "\n",
        "# trouver l'index de la première instance de cet element trouvé:\n",
        "print(t.index(0))\n",
        "print(t.index(3))\n",
        "\n",
        "# Que remarquez vous si vous lancer la commande cidessous:\n",
        "#t[2] = 2 ('tuple' object does not support item assignment)\n",
        "\n",
        "#Ajouter au tuple t, les 2 elements (3, 4)\n",
        "\n",
        "t = t+(3,4)\n",
        "print(t)\n",
        "#trier le tuple t\n",
        "print(type(sorted(t)))\n",
        "print(type(t))"
      ]
    },
    {
      "cell_type": "markdown",
      "metadata": {
        "id": "lRh2kA1U35sI"
      },
      "source": [
        "[La Reference complete est ici](https://docs.python.org/fr/3/tutorial/datastructures.html)"
      ]
    },
    {
      "cell_type": "markdown",
      "metadata": {
        "id": "u_3dR4Bi35sI"
      },
      "source": [
        "# Exercice 4:\n",
        "\n",
        "Créer le dictionnaire suivant et le stocker dans une variable d1 :\n",
        "\n",
        "    age: 20\n",
        "    nom: \"Doe\"\n",
        "\n",
        "Créer un second dictionnaire d2 contenant les valeurs suivantes :\n",
        "\n",
        "    age: 22\n",
        "    firstname: \"John\"\n",
        "    adresse: \"Paris\"\n",
        "\n",
        "continuer les instructions ci dessous:"
      ]
    },
    {
      "cell_type": "code",
      "execution_count": null,
      "metadata": {
        "id": "NgvvXjTC35sJ",
        "outputId": "4d3574dd-5c66-4eff-98cb-64d047e2a95d",
        "colab": {
          "base_uri": "https://localhost:8080/"
        }
      },
      "outputs": [
        {
          "output_type": "stream",
          "name": "stdout",
          "text": [
            "{'age': 20, 'firstname': 'John', 'adresse': 'Paris', 'nom': 'Doe'}\n",
            "age 20\n",
            "firstname John\n",
            "adresse Paris\n",
            "nom Doe\n"
          ]
        },
        {
          "output_type": "execute_result",
          "data": {
            "text/plain": [
              "{'age': 20, 'firstname': 'John', 'nom': 'Doe'}"
            ]
          },
          "metadata": {},
          "execution_count": 54
        }
      ],
      "source": [
        "d1 = dict()\n",
        "d1 = {'age':20,'nom':\"Doe\"}\n",
        "d2 = {'age':22,'firstname':\"John\",'adresse':\"Paris\"}\n",
        "\n",
        "\n",
        "#Fusionner le dictionnaire d1 dans d2\n",
        "d2.update(d1)#can be done by making shallow copy .copy()\n",
        "print(d2)\n",
        "\n",
        "\n",
        "# A l'aide d'une boucle for afficher à la fois la clé du dictionnaire d2 et sa valeur pour chaque élément\n",
        "for key,value in d2.items():\n",
        "    print(key,value)\n",
        "\n",
        "# Supprimer la clé adresse du dictionnaire d2\n",
        "d2.pop('adress', None)\n",
        "del d2['adresse']\n",
        "d2"
      ]
    },
    {
      "cell_type": "markdown",
      "metadata": {
        "id": "ubZqiA5Z35sJ"
      },
      "source": [
        "# Exercice 5:\n",
        "\n",
        "Coder une fonction duplicate_last_item qui prend une liste en argument et qui lui rajoute le dernier élément.\n",
        "\n",
        "par exemple si l = [1, 2, 3] après application de la fonction l doit être égale à [1, 2, 3, 3]\n"
      ]
    },
    {
      "cell_type": "code",
      "execution_count": null,
      "metadata": {
        "id": "kjcxbV0Z35sJ",
        "outputId": "9b25a55e-32af-4d68-85b8-1fd7b97b994f",
        "colab": {
          "base_uri": "https://localhost:8080/"
        }
      },
      "outputs": [
        {
          "output_type": "execute_result",
          "data": {
            "text/plain": [
              "[1, 2, 3, 3]"
            ]
          },
          "metadata": {},
          "execution_count": 56
        }
      ],
      "source": [
        "def duplicate_last_item(l):\n",
        "    l.append(l[-1])\n",
        "    return l\n",
        "\n",
        "l = [1, 2, 3]\n",
        "duplicate_last_item(l)"
      ]
    },
    {
      "cell_type": "markdown",
      "metadata": {
        "id": "ib1tOjIh35sJ"
      },
      "source": [
        "# Exercice 6:\n",
        "\n",
        "Coder une fonction multiply_liste qui prend en argument une liste et retourne une liste dont tous les éléments sont multipliés par un coefficient 𝛼 donné en argument\n"
      ]
    },
    {
      "cell_type": "code",
      "execution_count": null,
      "metadata": {
        "id": "e2WK2qpX35sJ",
        "outputId": "dcf56859-a40f-4ffb-b9d0-7fe86da21c2a",
        "colab": {
          "base_uri": "https://localhost:8080/"
        }
      },
      "outputs": [
        {
          "output_type": "execute_result",
          "data": {
            "text/plain": [
              "([2, 4, 6], [2, 4, 6, 2, 4, 6])"
            ]
          },
          "metadata": {},
          "execution_count": 58
        }
      ],
      "source": [
        "def multiply_list(l, alpha):\n",
        "    new_list = []\n",
        "    for i in l:\n",
        "        new_list.append(i*alpha)\n",
        "    return new_list,new_list*alpha\n",
        "\n",
        "l = [1, 2, 3]\n",
        "alpha = 2\n",
        "multiply_list(l, alpha)"
      ]
    },
    {
      "cell_type": "code",
      "execution_count": null,
      "metadata": {
        "id": "OWbk_aJs35sK",
        "outputId": "923aa26e-11c2-4242-9410-66d5c6c86c13",
        "colab": {
          "base_uri": "https://localhost:8080/"
        }
      },
      "outputs": [
        {
          "output_type": "execute_result",
          "data": {
            "text/plain": [
              "[1, 3, 5]"
            ]
          },
          "metadata": {},
          "execution_count": 59
        }
      ],
      "source": [
        "#Bonus:\n",
        "#Coder une fonction filter_even_values qui filtre toutes les valeurs paire d'une liste\n",
        "\n",
        "def filter_even_values(liste):\n",
        "    for i in liste:\n",
        "      if i%2 == 0:\n",
        "        liste.remove(i)\n",
        "    return liste\n",
        "\n",
        "\n",
        "l = [1, 2, 3, 4, 5, 6]\n",
        "filter_even_values(l)"
      ]
    },
    {
      "cell_type": "markdown",
      "metadata": {
        "id": "UN2oDL6O35sK"
      },
      "source": [
        "# Exercice 7:\n",
        "\n",
        "Coder la fonction is_adult qui affiche \"mineur\" si le nombre en entré est inférieur à 18, \"adulte\" si supérieur ou égale à 18 et inférieur à 65 et \"senior\" sinon\n"
      ]
    },
    {
      "cell_type": "code",
      "execution_count": null,
      "metadata": {
        "id": "KTkAplkZ35sK",
        "outputId": "d71c84e4-a525-4bfb-b72b-ba97c0a74b83",
        "colab": {
          "base_uri": "https://localhost:8080/",
          "height": 53
        }
      },
      "outputs": [
        {
          "name": "stdout",
          "output_type": "stream",
          "text": [
            "16\n"
          ]
        },
        {
          "output_type": "execute_result",
          "data": {
            "text/plain": [
              "'minor'"
            ],
            "application/vnd.google.colaboratory.intrinsic+json": {
              "type": "string"
            }
          },
          "metadata": {},
          "execution_count": 115
        }
      ],
      "source": [
        "def is_adult(age):\n",
        "  if age < 18:\n",
        "    return \"minor\"\n",
        "  elif( age >= 18 and age < 65):\n",
        "    return \"adult\"\n",
        "  else:\n",
        "    return \"senior\"\n",
        "\n",
        "age = int(input())\n",
        "is_adult(age)"
      ]
    },
    {
      "cell_type": "markdown",
      "metadata": {
        "id": "8c0eGPVU35sK"
      },
      "source": [
        "# Bonus:"
      ]
    },
    {
      "cell_type": "markdown",
      "metadata": {
        "id": "7ljnoZ1I35sK"
      },
      "source": [
        "## Exercice 8:\n",
        "\n",
        "coder la fonction average qui prend en argument une liste de nombre et qui retourne la moyenne de celle-ci. On utilisera une boucle for obligatoirement\n"
      ]
    },
    {
      "cell_type": "code",
      "execution_count": null,
      "metadata": {
        "id": "UUHTLIxX35sK",
        "outputId": "d1f710cf-1de4-4ac7-a5a1-cb4968fbd440",
        "colab": {
          "base_uri": "https://localhost:8080/"
        }
      },
      "outputs": [
        {
          "output_type": "stream",
          "name": "stdout",
          "text": [
            "Enter number of elements : 5\n",
            "\n",
            "Enter the numbers : 1 2 3 4 5\n",
            "3.0\n"
          ]
        }
      ],
      "source": [
        "def average(a):\n",
        "  sum = 0\n",
        "  for element in a:\n",
        "    sum += element\n",
        "  avg = sum/len(a)\n",
        "  return avg\n",
        "\n",
        "n = int(input(\"Enter number of elements : \"))\n",
        "a = list(map(int, input(\"\\nEnter the numbers : \").strip().split()))[:n]\n",
        "print(average(a))\n"
      ]
    },
    {
      "cell_type": "code",
      "execution_count": null,
      "metadata": {
        "id": "oixQooOK35sK",
        "outputId": "46088083-cb5f-414f-f10e-fb8ef2882811",
        "colab": {
          "base_uri": "https://localhost:8080/"
        }
      },
      "outputs": [
        {
          "output_type": "execute_result",
          "data": {
            "text/plain": [
              "22"
            ]
          },
          "metadata": {},
          "execution_count": 69
        }
      ],
      "source": []
    },
    {
      "cell_type": "markdown",
      "metadata": {
        "id": "UF845Rc-35sK"
      },
      "source": [
        "## Exercice 9:\n",
        "\n",
        " Faire une fonction reverse_string qui prend en argument une chaîne de caractère et qui retourne la chaîne retournée.\n"
      ]
    },
    {
      "cell_type": "code",
      "execution_count": null,
      "metadata": {
        "id": "wI1lg8x335sL",
        "outputId": "c1786d23-ef27-41aa-dc47-e84151d42b70",
        "colab": {
          "base_uri": "https://localhost:8080/"
        }
      },
      "outputs": [
        {
          "output_type": "stream",
          "name": "stdout",
          "text": [
            "i am a boy\n",
            "<class 'list'>\n",
            "4\n",
            "3\n",
            "2\n",
            "1\n",
            "0\n",
            "boy a am i \n"
          ]
        }
      ],
      "source": [
        "#to reverse a string\n",
        "s = input().strip().split()\n",
        "print(type(s))\n",
        "print(len(s))\n",
        "s1 = \"\"\n",
        "for i in range(len(s)-1,-1,-1):\n",
        "  s1 = s1 + s[i] +\" \"\n",
        "  print(i)\n",
        "print(s1)\n",
        "\n",
        "\n"
      ]
    },
    {
      "cell_type": "markdown",
      "source": [],
      "metadata": {
        "id": "C9QUgKDghzzy"
      }
    },
    {
      "cell_type": "markdown",
      "source": [
        "projet1: Fizz Buzz\n",
        "- Écrire un programme qui imprime les numéros de 1 à 100. Mais pour les multiples de\n",
        "trois imprimer \"Fizz\" au lieu du nombre et pour les multiples de cinq imprimer \"Buzz\".\n",
        "Pour les nombres qui sont des multiples de trois et cinq imprimer \"FizzBuzz\"."
      ],
      "metadata": {
        "id": "awPFpm6Eh6yI"
      }
    },
    {
      "cell_type": "code",
      "source": [
        "for i in range(1,101):\n",
        "  if((i%3 == 0 and i%5 == 0)):\n",
        "    print(\"fizzbuzz\")\n",
        "  elif i%3 == 0:\n",
        "    print(\"Fizz\")\n",
        "  elif i%5 == 0:\n",
        "    print(\"Buzz\")\n",
        "  else:\n",
        "    print(i)"
      ],
      "metadata": {
        "id": "T-Vbw30cplJ2",
        "outputId": "1761befd-19e7-4459-9086-3abbd316fece",
        "colab": {
          "base_uri": "https://localhost:8080/"
        }
      },
      "execution_count": null,
      "outputs": [
        {
          "output_type": "stream",
          "name": "stdout",
          "text": [
            "1\n",
            "2\n",
            "Fizz\n",
            "4\n",
            "Buzz\n",
            "Fizz\n",
            "7\n",
            "8\n",
            "Fizz\n",
            "Buzz\n",
            "11\n",
            "Fizz\n",
            "13\n",
            "14\n",
            "fizzbuzz\n",
            "16\n",
            "17\n",
            "Fizz\n",
            "19\n",
            "Buzz\n",
            "Fizz\n",
            "22\n",
            "23\n",
            "Fizz\n",
            "Buzz\n",
            "26\n",
            "Fizz\n",
            "28\n",
            "29\n",
            "fizzbuzz\n",
            "31\n",
            "32\n",
            "Fizz\n",
            "34\n",
            "Buzz\n",
            "Fizz\n",
            "37\n",
            "38\n",
            "Fizz\n",
            "Buzz\n",
            "41\n",
            "Fizz\n",
            "43\n",
            "44\n",
            "fizzbuzz\n",
            "46\n",
            "47\n",
            "Fizz\n",
            "49\n",
            "Buzz\n",
            "Fizz\n",
            "52\n",
            "53\n",
            "Fizz\n",
            "Buzz\n",
            "56\n",
            "Fizz\n",
            "58\n",
            "59\n",
            "fizzbuzz\n",
            "61\n",
            "62\n",
            "Fizz\n",
            "64\n",
            "Buzz\n",
            "Fizz\n",
            "67\n",
            "68\n",
            "Fizz\n",
            "Buzz\n",
            "71\n",
            "Fizz\n",
            "73\n",
            "74\n",
            "fizzbuzz\n",
            "76\n",
            "77\n",
            "Fizz\n",
            "79\n",
            "Buzz\n",
            "Fizz\n",
            "82\n",
            "83\n",
            "Fizz\n",
            "Buzz\n",
            "86\n",
            "Fizz\n",
            "88\n",
            "89\n",
            "fizzbuzz\n",
            "91\n",
            "92\n",
            "Fizz\n",
            "94\n",
            "Buzz\n",
            "Fizz\n",
            "97\n",
            "98\n",
            "Fizz\n",
            "Buzz\n"
          ]
        }
      ]
    },
    {
      "cell_type": "markdown",
      "source": [
        "Projet 2: Compter les mots dans une chaîne\n",
        "- Compte le nombre de mots individuels dans une chaîne. Pour plus de complexité lire\n",
        "ces chaînes à partir d'un fichier texte et générer un summary."
      ],
      "metadata": {
        "id": "ffATgvEoh-XE"
      }
    },
    {
      "cell_type": "code",
      "source": [
        "text = \" There was a girl far far away in a far away land and the land was so so intresting for her to live in it\"\n",
        "res = {}\n",
        "for i in text.split():\n",
        "  if i not in res:\n",
        "    res[i] = 1\n",
        "  else:\n",
        "    res[i] += 1\n",
        "\n",
        "print(res)"
      ],
      "metadata": {
        "id": "_wSuzU7fhuWu",
        "outputId": "61670c1c-fc1d-41d8-fe36-4c764d2f26b9",
        "colab": {
          "base_uri": "https://localhost:8080/"
        }
      },
      "execution_count": null,
      "outputs": [
        {
          "output_type": "stream",
          "name": "stdout",
          "text": [
            "{'There': 1, 'was': 2, 'a': 2, 'girl': 1, 'far': 3, 'away': 2, 'in': 2, 'land': 2, 'and': 1, 'the': 1, 'so': 2, 'intresting': 1, 'for': 1, 'her': 1, 'to': 1, 'live': 1, 'it': 1}\n"
          ]
        }
      ]
    },
    {
      "cell_type": "code",
      "source": [],
      "metadata": {
        "id": "UZAEJCRj-MX0"
      },
      "execution_count": null,
      "outputs": []
    }
  ],
  "metadata": {
    "celltoolbar": "Diaporama",
    "kernelspec": {
      "display_name": "Python 3 (ipykernel)",
      "language": "python",
      "name": "python3"
    },
    "language_info": {
      "codemirror_mode": {
        "name": "ipython",
        "version": 3
      },
      "file_extension": ".py",
      "mimetype": "text/x-python",
      "name": "python",
      "nbconvert_exporter": "python",
      "pygments_lexer": "ipython3",
      "version": "3.9.12"
    },
    "toc": {
      "base_numbering": 1,
      "nav_menu": {},
      "number_sections": true,
      "sideBar": true,
      "skip_h1_title": false,
      "title_cell": "Table of Contents",
      "title_sidebar": "Contents",
      "toc_cell": false,
      "toc_position": {
        "height": "613.944px",
        "left": "40px",
        "top": "110.806px",
        "width": "212px"
      },
      "toc_section_display": true,
      "toc_window_display": true
    },
    "colab": {
      "provenance": []
    }
  },
  "nbformat": 4,
  "nbformat_minor": 0
}